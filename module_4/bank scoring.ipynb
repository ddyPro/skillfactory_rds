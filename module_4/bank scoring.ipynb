{
 "cells": [
  {
   "cell_type": "markdown",
   "metadata": {
    "papermill": {
     "duration": 0.042667,
     "end_time": "2021-02-02T20:34:06.645712",
     "exception": false,
     "start_time": "2021-02-02T20:34:06.603045",
     "status": "completed"
    },
    "tags": []
   },
   "source": [
    "# **Импорт библиотек**"
   ]
  },
  {
   "cell_type": "code",
   "execution_count": 1,
   "metadata": {
    "execution": {
     "iopub.execute_input": "2021-02-02T20:34:06.738815Z",
     "iopub.status.busy": "2021-02-02T20:34:06.738175Z",
     "iopub.status.idle": "2021-02-02T20:34:08.061278Z",
     "shell.execute_reply": "2021-02-02T20:34:08.060669Z"
    },
    "papermill": {
     "duration": 1.37262,
     "end_time": "2021-02-02T20:34:08.061417",
     "exception": false,
     "start_time": "2021-02-02T20:34:06.688797",
     "status": "completed"
    },
    "tags": []
   },
   "outputs": [],
   "source": [
    "import numpy as np \n",
    "import pandas as pd \n",
    "from pandas import Series\n",
    "\n",
    "import matplotlib.pyplot as plt\n",
    "import seaborn as sns\n",
    "\n",
    "from sklearn.feature_selection import f_classif, mutual_info_classif\n",
    "from sklearn.preprocessing import LabelEncoder, OneHotEncoder, StandardScaler, RobustScaler\n",
    "\n",
    "from sklearn.model_selection import train_test_split, GridSearchCV\n",
    "from sklearn.linear_model import LogisticRegression\n",
    "\n",
    "\n",
    "from sklearn.metrics import accuracy_score, precision_score, recall_score, f1_score, confusion_matrix\n",
    "from sklearn.metrics import auc, roc_auc_score, roc_curve, precision_recall_curve, average_precision_score\n",
    "\n",
    "\n",
    "import warnings\n",
    "warnings.filterwarnings('ignore')"
   ]
  },
  {
   "cell_type": "code",
   "execution_count": 2,
   "metadata": {
    "execution": {
     "iopub.execute_input": "2021-02-02T20:34:08.169816Z",
     "iopub.status.busy": "2021-02-02T20:34:08.168831Z",
     "iopub.status.idle": "2021-02-02T20:34:08.171893Z",
     "shell.execute_reply": "2021-02-02T20:34:08.171365Z"
    },
    "papermill": {
     "duration": 0.065839,
     "end_time": "2021-02-02T20:34:08.172024",
     "exception": false,
     "start_time": "2021-02-02T20:34:08.106185",
     "status": "completed"
    },
    "tags": []
   },
   "outputs": [],
   "source": [
    "# визуальзация числовых признаков\n",
    "def visual_num(col, size = 6):\n",
    "    fig, (g1, g2) = plt.subplots(1, 2, figsize = (2*size,size))\n",
    "    fig.suptitle('Histogram and boxplot for {0} '.format(col), fontsize=20)\n",
    "    g1.hist(data[col], bins = 20, histtype = 'bar', align = 'mid', rwidth = 0.8, color = 'blue') # гистограмма\n",
    "    g2.boxplot(data[col], vert = False)  # выбросы\n",
    "    plt.figtext(0.5, 0, col, fontsize = 16)\n",
    "    plt.show\n",
    "    \n",
    "# Поиск выбросов\n",
    "def outliers(col):\n",
    "    median = data[col].median()\n",
    "    IQR = data[col].quantile(0.75) - data[col].quantile(0.25)\n",
    "    perc25 = data[col].quantile(0.25)\n",
    "    perc75 = data[col].quantile(0.75)\n",
    "    l = perc25 - 1.5*IQR \n",
    "    r = perc75 + 1.5*IQR\n",
    "    print(\"Для {0} IQR: {1}, \".format(col,IQR),\"Границы выбросов: [{0}, {1}].\".format(l, r))\n",
    "    print('Всего {} выбросов'.format(data[data[col] > r][col].count() + data[data[col] < l][col].count()))\n",
    "\n",
    "\n",
    "    \n",
    "#Таблица метрик для сравнения результатов каждой модели\n",
    "metrics = ['accuracy', 'precision', 'recall', 'f1_score', 'ROC_AUC']\n",
    "summary = pd.DataFrame(index = metrics)\n",
    "def summary_metrics(summary,col,y_valid,y_pred,y_pred_probs):\n",
    "    values = [accuracy_score(y_valid,y_pred), precision_score(y_valid,y_pred), recall_score(y_valid,y_pred), f1_score(y_valid,y_pred), roc_auc_score(y_valid, y_pred_probs)]\n",
    "    summary[col] = values\n",
    "    return summary\n",
    "\n",
    "# кривая ROC_AUC\n",
    "def roc_auc_curve(y_valid, y_pred_probs):\n",
    "    fpr, tpr, threshold = roc_curve(y_valid, y_pred_probs)\n",
    "    roc_auc = roc_auc_score(y_valid, y_pred_probs)\n",
    "\n",
    "    plt.figure()\n",
    "    plt.plot([0, 1], label='Baseline', linestyle='--')\n",
    "    plt.plot(fpr, tpr, label = 'Regression')\n",
    "    plt.title('Logistic Regression ROC AUC = %0.3f' % roc_auc)\n",
    "    plt.ylabel('True Positive Rate')\n",
    "    plt.xlabel('False Positive Rate')\n",
    "    plt.legend(loc = 'lower right')\n",
    "    plt.show()\n",
    "\n",
    "# Confusion matrix\n",
    "def conf_mat(y_valid, y_pred):\n",
    "    P = np.sum(y_valid==1)\n",
    "    N = np.sum(y_valid==0)\n",
    "    print('Positive: {0}, Negative: {1}'.format(P,N))\n",
    "    \n",
    "    tn, fp, fn, tp = confusion_matrix(y_valid, y_pred).ravel()\n",
    "    print(tp, fp) \n",
    "    print(fn, tn)"
   ]
  },
  {
   "cell_type": "code",
   "execution_count": 3,
   "metadata": {
    "execution": {
     "iopub.execute_input": "2021-02-02T20:34:08.261399Z",
     "iopub.status.busy": "2021-02-02T20:34:08.260839Z",
     "iopub.status.idle": "2021-02-02T20:34:10.986625Z",
     "shell.execute_reply": "2021-02-02T20:34:10.986039Z"
    },
    "papermill": {
     "duration": 2.771051,
     "end_time": "2021-02-02T20:34:10.986776",
     "exception": false,
     "start_time": "2021-02-02T20:34:08.215725",
     "status": "completed"
    },
    "tags": []
   },
   "outputs": [],
   "source": [
    "# Фиксируем RANDOM_SEED\n",
    "RANDOM_SEED = 42\n",
    "!pip freeze > requirements.txt"
   ]
  },
  {
   "cell_type": "code",
   "execution_count": 4,
   "metadata": {
    "execution": {
     "iopub.execute_input": "2021-02-02T20:34:11.081985Z",
     "iopub.status.busy": "2021-02-02T20:34:11.081298Z",
     "iopub.status.idle": "2021-02-02T20:34:11.493896Z",
     "shell.execute_reply": "2021-02-02T20:34:11.494366Z"
    },
    "papermill": {
     "duration": 0.463791,
     "end_time": "2021-02-02T20:34:11.494540",
     "exception": false,
     "start_time": "2021-02-02T20:34:11.030749",
     "status": "completed"
    },
    "tags": []
   },
   "outputs": [
    {
     "name": "stdout",
     "output_type": "stream",
     "text": [
      "df_train:  (73799, 19)\n"
     ]
    },
    {
     "data": {
      "text/html": [
       "<div>\n",
       "<style scoped>\n",
       "    .dataframe tbody tr th:only-of-type {\n",
       "        vertical-align: middle;\n",
       "    }\n",
       "\n",
       "    .dataframe tbody tr th {\n",
       "        vertical-align: top;\n",
       "    }\n",
       "\n",
       "    .dataframe thead th {\n",
       "        text-align: right;\n",
       "    }\n",
       "</style>\n",
       "<table border=\"1\" class=\"dataframe\">\n",
       "  <thead>\n",
       "    <tr style=\"text-align: right;\">\n",
       "      <th></th>\n",
       "      <th>client_id</th>\n",
       "      <th>app_date</th>\n",
       "      <th>education</th>\n",
       "      <th>sex</th>\n",
       "      <th>age</th>\n",
       "      <th>car</th>\n",
       "      <th>car_type</th>\n",
       "      <th>decline_app_cnt</th>\n",
       "      <th>good_work</th>\n",
       "      <th>score_bki</th>\n",
       "      <th>bki_request_cnt</th>\n",
       "      <th>region_rating</th>\n",
       "      <th>home_address</th>\n",
       "      <th>work_address</th>\n",
       "      <th>income</th>\n",
       "      <th>sna</th>\n",
       "      <th>first_time</th>\n",
       "      <th>foreign_passport</th>\n",
       "      <th>default</th>\n",
       "    </tr>\n",
       "  </thead>\n",
       "  <tbody>\n",
       "    <tr>\n",
       "      <th>0</th>\n",
       "      <td>25905</td>\n",
       "      <td>01FEB2014</td>\n",
       "      <td>SCH</td>\n",
       "      <td>M</td>\n",
       "      <td>62</td>\n",
       "      <td>Y</td>\n",
       "      <td>Y</td>\n",
       "      <td>0</td>\n",
       "      <td>0</td>\n",
       "      <td>-2.008753</td>\n",
       "      <td>1</td>\n",
       "      <td>50</td>\n",
       "      <td>1</td>\n",
       "      <td>2</td>\n",
       "      <td>18000</td>\n",
       "      <td>4</td>\n",
       "      <td>1</td>\n",
       "      <td>N</td>\n",
       "      <td>0</td>\n",
       "    </tr>\n",
       "    <tr>\n",
       "      <th>1</th>\n",
       "      <td>63161</td>\n",
       "      <td>12MAR2014</td>\n",
       "      <td>SCH</td>\n",
       "      <td>F</td>\n",
       "      <td>59</td>\n",
       "      <td>N</td>\n",
       "      <td>N</td>\n",
       "      <td>0</td>\n",
       "      <td>0</td>\n",
       "      <td>-1.532276</td>\n",
       "      <td>3</td>\n",
       "      <td>50</td>\n",
       "      <td>2</td>\n",
       "      <td>3</td>\n",
       "      <td>19000</td>\n",
       "      <td>4</td>\n",
       "      <td>1</td>\n",
       "      <td>N</td>\n",
       "      <td>0</td>\n",
       "    </tr>\n",
       "    <tr>\n",
       "      <th>2</th>\n",
       "      <td>25887</td>\n",
       "      <td>01FEB2014</td>\n",
       "      <td>SCH</td>\n",
       "      <td>M</td>\n",
       "      <td>25</td>\n",
       "      <td>Y</td>\n",
       "      <td>N</td>\n",
       "      <td>2</td>\n",
       "      <td>0</td>\n",
       "      <td>-1.408142</td>\n",
       "      <td>1</td>\n",
       "      <td>80</td>\n",
       "      <td>1</td>\n",
       "      <td>2</td>\n",
       "      <td>30000</td>\n",
       "      <td>1</td>\n",
       "      <td>4</td>\n",
       "      <td>Y</td>\n",
       "      <td>0</td>\n",
       "    </tr>\n",
       "    <tr>\n",
       "      <th>3</th>\n",
       "      <td>16222</td>\n",
       "      <td>23JAN2014</td>\n",
       "      <td>SCH</td>\n",
       "      <td>F</td>\n",
       "      <td>53</td>\n",
       "      <td>N</td>\n",
       "      <td>N</td>\n",
       "      <td>0</td>\n",
       "      <td>0</td>\n",
       "      <td>-2.057471</td>\n",
       "      <td>2</td>\n",
       "      <td>50</td>\n",
       "      <td>2</td>\n",
       "      <td>3</td>\n",
       "      <td>10000</td>\n",
       "      <td>1</td>\n",
       "      <td>3</td>\n",
       "      <td>N</td>\n",
       "      <td>0</td>\n",
       "    </tr>\n",
       "    <tr>\n",
       "      <th>4</th>\n",
       "      <td>101655</td>\n",
       "      <td>18APR2014</td>\n",
       "      <td>GRD</td>\n",
       "      <td>M</td>\n",
       "      <td>48</td>\n",
       "      <td>N</td>\n",
       "      <td>N</td>\n",
       "      <td>0</td>\n",
       "      <td>1</td>\n",
       "      <td>-1.244723</td>\n",
       "      <td>1</td>\n",
       "      <td>60</td>\n",
       "      <td>2</td>\n",
       "      <td>3</td>\n",
       "      <td>30000</td>\n",
       "      <td>1</td>\n",
       "      <td>4</td>\n",
       "      <td>Y</td>\n",
       "      <td>0</td>\n",
       "    </tr>\n",
       "  </tbody>\n",
       "</table>\n",
       "</div>"
      ],
      "text/plain": [
       "   client_id   app_date education sex  age car car_type  decline_app_cnt  \\\n",
       "0      25905  01FEB2014       SCH   M   62   Y        Y                0   \n",
       "1      63161  12MAR2014       SCH   F   59   N        N                0   \n",
       "2      25887  01FEB2014       SCH   M   25   Y        N                2   \n",
       "3      16222  23JAN2014       SCH   F   53   N        N                0   \n",
       "4     101655  18APR2014       GRD   M   48   N        N                0   \n",
       "\n",
       "   good_work  score_bki  bki_request_cnt  region_rating  home_address  \\\n",
       "0          0  -2.008753                1             50             1   \n",
       "1          0  -1.532276                3             50             2   \n",
       "2          0  -1.408142                1             80             1   \n",
       "3          0  -2.057471                2             50             2   \n",
       "4          1  -1.244723                1             60             2   \n",
       "\n",
       "   work_address  income  sna  first_time foreign_passport  default  \n",
       "0             2   18000    4           1                N        0  \n",
       "1             3   19000    4           1                N        0  \n",
       "2             2   30000    1           4                Y        0  \n",
       "3             3   10000    1           3                N        0  \n",
       "4             3   30000    1           4                Y        0  "
      ]
     },
     "metadata": {},
     "output_type": "display_data"
    },
    {
     "name": "stdout",
     "output_type": "stream",
     "text": [
      "df_test:  (36349, 18)\n"
     ]
    },
    {
     "data": {
      "text/html": [
       "<div>\n",
       "<style scoped>\n",
       "    .dataframe tbody tr th:only-of-type {\n",
       "        vertical-align: middle;\n",
       "    }\n",
       "\n",
       "    .dataframe tbody tr th {\n",
       "        vertical-align: top;\n",
       "    }\n",
       "\n",
       "    .dataframe thead th {\n",
       "        text-align: right;\n",
       "    }\n",
       "</style>\n",
       "<table border=\"1\" class=\"dataframe\">\n",
       "  <thead>\n",
       "    <tr style=\"text-align: right;\">\n",
       "      <th></th>\n",
       "      <th>client_id</th>\n",
       "      <th>app_date</th>\n",
       "      <th>education</th>\n",
       "      <th>sex</th>\n",
       "      <th>age</th>\n",
       "      <th>car</th>\n",
       "      <th>car_type</th>\n",
       "      <th>decline_app_cnt</th>\n",
       "      <th>good_work</th>\n",
       "      <th>score_bki</th>\n",
       "      <th>bki_request_cnt</th>\n",
       "      <th>region_rating</th>\n",
       "      <th>home_address</th>\n",
       "      <th>work_address</th>\n",
       "      <th>income</th>\n",
       "      <th>sna</th>\n",
       "      <th>first_time</th>\n",
       "      <th>foreign_passport</th>\n",
       "    </tr>\n",
       "  </thead>\n",
       "  <tbody>\n",
       "    <tr>\n",
       "      <th>0</th>\n",
       "      <td>74835</td>\n",
       "      <td>22MAR2014</td>\n",
       "      <td>GRD</td>\n",
       "      <td>M</td>\n",
       "      <td>29</td>\n",
       "      <td>Y</td>\n",
       "      <td>Y</td>\n",
       "      <td>0</td>\n",
       "      <td>0</td>\n",
       "      <td>-2.271884</td>\n",
       "      <td>3</td>\n",
       "      <td>50</td>\n",
       "      <td>1</td>\n",
       "      <td>2</td>\n",
       "      <td>50000</td>\n",
       "      <td>1</td>\n",
       "      <td>4</td>\n",
       "      <td>N</td>\n",
       "    </tr>\n",
       "    <tr>\n",
       "      <th>1</th>\n",
       "      <td>17527</td>\n",
       "      <td>24JAN2014</td>\n",
       "      <td>SCH</td>\n",
       "      <td>F</td>\n",
       "      <td>39</td>\n",
       "      <td>N</td>\n",
       "      <td>N</td>\n",
       "      <td>5</td>\n",
       "      <td>0</td>\n",
       "      <td>-1.504999</td>\n",
       "      <td>2</td>\n",
       "      <td>50</td>\n",
       "      <td>1</td>\n",
       "      <td>2</td>\n",
       "      <td>5000</td>\n",
       "      <td>4</td>\n",
       "      <td>3</td>\n",
       "      <td>N</td>\n",
       "    </tr>\n",
       "    <tr>\n",
       "      <th>2</th>\n",
       "      <td>75683</td>\n",
       "      <td>23MAR2014</td>\n",
       "      <td>UGR</td>\n",
       "      <td>M</td>\n",
       "      <td>50</td>\n",
       "      <td>Y</td>\n",
       "      <td>Y</td>\n",
       "      <td>0</td>\n",
       "      <td>0</td>\n",
       "      <td>-1.691339</td>\n",
       "      <td>1</td>\n",
       "      <td>50</td>\n",
       "      <td>1</td>\n",
       "      <td>2</td>\n",
       "      <td>30000</td>\n",
       "      <td>1</td>\n",
       "      <td>3</td>\n",
       "      <td>Y</td>\n",
       "    </tr>\n",
       "    <tr>\n",
       "      <th>3</th>\n",
       "      <td>26883</td>\n",
       "      <td>03FEB2014</td>\n",
       "      <td>SCH</td>\n",
       "      <td>M</td>\n",
       "      <td>56</td>\n",
       "      <td>N</td>\n",
       "      <td>N</td>\n",
       "      <td>0</td>\n",
       "      <td>0</td>\n",
       "      <td>-2.374182</td>\n",
       "      <td>1</td>\n",
       "      <td>40</td>\n",
       "      <td>1</td>\n",
       "      <td>2</td>\n",
       "      <td>17000</td>\n",
       "      <td>1</td>\n",
       "      <td>3</td>\n",
       "      <td>N</td>\n",
       "    </tr>\n",
       "    <tr>\n",
       "      <th>4</th>\n",
       "      <td>28862</td>\n",
       "      <td>04FEB2014</td>\n",
       "      <td>GRD</td>\n",
       "      <td>F</td>\n",
       "      <td>38</td>\n",
       "      <td>N</td>\n",
       "      <td>N</td>\n",
       "      <td>0</td>\n",
       "      <td>0</td>\n",
       "      <td>-2.487502</td>\n",
       "      <td>0</td>\n",
       "      <td>80</td>\n",
       "      <td>2</td>\n",
       "      <td>3</td>\n",
       "      <td>120000</td>\n",
       "      <td>1</td>\n",
       "      <td>3</td>\n",
       "      <td>N</td>\n",
       "    </tr>\n",
       "  </tbody>\n",
       "</table>\n",
       "</div>"
      ],
      "text/plain": [
       "   client_id   app_date education sex  age car car_type  decline_app_cnt  \\\n",
       "0      74835  22MAR2014       GRD   M   29   Y        Y                0   \n",
       "1      17527  24JAN2014       SCH   F   39   N        N                5   \n",
       "2      75683  23MAR2014       UGR   M   50   Y        Y                0   \n",
       "3      26883  03FEB2014       SCH   M   56   N        N                0   \n",
       "4      28862  04FEB2014       GRD   F   38   N        N                0   \n",
       "\n",
       "   good_work  score_bki  bki_request_cnt  region_rating  home_address  \\\n",
       "0          0  -2.271884                3             50             1   \n",
       "1          0  -1.504999                2             50             1   \n",
       "2          0  -1.691339                1             50             1   \n",
       "3          0  -2.374182                1             40             1   \n",
       "4          0  -2.487502                0             80             2   \n",
       "\n",
       "   work_address  income  sna  first_time foreign_passport  \n",
       "0             2   50000    1           4                N  \n",
       "1             2    5000    4           3                N  \n",
       "2             2   30000    1           3                Y  \n",
       "3             2   17000    1           3                N  \n",
       "4             3  120000    1           3                N  "
      ]
     },
     "metadata": {},
     "output_type": "display_data"
    }
   ],
   "source": [
    "# Импорт и просмотр данных\n",
    "df_train = pd.read_csv('train1.csv')\n",
    "df_test = pd.read_csv('test1.csv')\n",
    "sample_submission = pd.read_csv('sample_submission.csv')\n",
    "\n",
    "print('df_train: ', df_train.shape)\n",
    "display(df_train.head())\n",
    "print('df_test: ', df_test.shape)\n",
    "display(df_test.head())"
   ]
  },
  {
   "cell_type": "code",
   "execution_count": 5,
   "metadata": {
    "execution": {
     "iopub.execute_input": "2021-02-02T20:34:11.597530Z",
     "iopub.status.busy": "2021-02-02T20:34:11.596860Z",
     "iopub.status.idle": "2021-02-02T20:34:11.652189Z",
     "shell.execute_reply": "2021-02-02T20:34:11.652709Z"
    },
    "papermill": {
     "duration": 0.111568,
     "end_time": "2021-02-02T20:34:11.652897",
     "exception": false,
     "start_time": "2021-02-02T20:34:11.541329",
     "status": "completed"
    },
    "tags": []
   },
   "outputs": [],
   "source": [
    "# Для корректной обработки признаков объединяем тренировочный и тестовый датасеты в один датасет\n",
    "df_train['sample'] = 1  # Помечаем где у нас трейн\n",
    "df_test['sample'] = 0   # Помечаем где у нас тест\n",
    "df_test['default'] = 0  # В тесте у нас нет значения default, поэтому мы его просто заполняем нулями\n",
    "\n",
    "df = df_test.append(df_train, sort=False).reset_index(drop=True) # Объединяем"
   ]
  },
  {
   "cell_type": "code",
   "execution_count": 6,
   "metadata": {
    "execution": {
     "iopub.execute_input": "2021-02-02T20:34:11.756837Z",
     "iopub.status.busy": "2021-02-02T20:34:11.755432Z",
     "iopub.status.idle": "2021-02-02T20:34:11.796384Z",
     "shell.execute_reply": "2021-02-02T20:34:11.795684Z"
    },
    "papermill": {
     "duration": 0.096959,
     "end_time": "2021-02-02T20:34:11.796543",
     "exception": false,
     "start_time": "2021-02-02T20:34:11.699584",
     "status": "completed"
    },
    "tags": []
   },
   "outputs": [
    {
     "data": {
      "text/html": [
       "<div>\n",
       "<style scoped>\n",
       "    .dataframe tbody tr th:only-of-type {\n",
       "        vertical-align: middle;\n",
       "    }\n",
       "\n",
       "    .dataframe tbody tr th {\n",
       "        vertical-align: top;\n",
       "    }\n",
       "\n",
       "    .dataframe thead th {\n",
       "        text-align: right;\n",
       "    }\n",
       "</style>\n",
       "<table border=\"1\" class=\"dataframe\">\n",
       "  <thead>\n",
       "    <tr style=\"text-align: right;\">\n",
       "      <th></th>\n",
       "      <th>client_id</th>\n",
       "      <th>app_date</th>\n",
       "      <th>education</th>\n",
       "      <th>sex</th>\n",
       "      <th>age</th>\n",
       "      <th>car</th>\n",
       "      <th>car_type</th>\n",
       "      <th>decline_app_cnt</th>\n",
       "      <th>good_work</th>\n",
       "      <th>score_bki</th>\n",
       "      <th>bki_request_cnt</th>\n",
       "      <th>region_rating</th>\n",
       "      <th>home_address</th>\n",
       "      <th>work_address</th>\n",
       "      <th>income</th>\n",
       "      <th>sna</th>\n",
       "      <th>first_time</th>\n",
       "      <th>foreign_passport</th>\n",
       "      <th>sample</th>\n",
       "      <th>default</th>\n",
       "    </tr>\n",
       "  </thead>\n",
       "  <tbody>\n",
       "    <tr>\n",
       "      <th>69062</th>\n",
       "      <td>19679</td>\n",
       "      <td>27JAN2014</td>\n",
       "      <td>SCH</td>\n",
       "      <td>F</td>\n",
       "      <td>62</td>\n",
       "      <td>N</td>\n",
       "      <td>N</td>\n",
       "      <td>0</td>\n",
       "      <td>0</td>\n",
       "      <td>-1.145250</td>\n",
       "      <td>1</td>\n",
       "      <td>50</td>\n",
       "      <td>2</td>\n",
       "      <td>3</td>\n",
       "      <td>9000</td>\n",
       "      <td>2</td>\n",
       "      <td>1</td>\n",
       "      <td>N</td>\n",
       "      <td>1</td>\n",
       "      <td>1</td>\n",
       "    </tr>\n",
       "    <tr>\n",
       "      <th>46221</th>\n",
       "      <td>8837</td>\n",
       "      <td>16JAN2014</td>\n",
       "      <td>SCH</td>\n",
       "      <td>M</td>\n",
       "      <td>29</td>\n",
       "      <td>N</td>\n",
       "      <td>N</td>\n",
       "      <td>0</td>\n",
       "      <td>0</td>\n",
       "      <td>-1.720003</td>\n",
       "      <td>3</td>\n",
       "      <td>40</td>\n",
       "      <td>1</td>\n",
       "      <td>2</td>\n",
       "      <td>46000</td>\n",
       "      <td>2</td>\n",
       "      <td>4</td>\n",
       "      <td>N</td>\n",
       "      <td>1</td>\n",
       "      <td>1</td>\n",
       "    </tr>\n",
       "    <tr>\n",
       "      <th>18854</th>\n",
       "      <td>14469</td>\n",
       "      <td>21JAN2014</td>\n",
       "      <td>GRD</td>\n",
       "      <td>F</td>\n",
       "      <td>49</td>\n",
       "      <td>N</td>\n",
       "      <td>N</td>\n",
       "      <td>0</td>\n",
       "      <td>0</td>\n",
       "      <td>-1.302849</td>\n",
       "      <td>1</td>\n",
       "      <td>80</td>\n",
       "      <td>2</td>\n",
       "      <td>3</td>\n",
       "      <td>50000</td>\n",
       "      <td>1</td>\n",
       "      <td>1</td>\n",
       "      <td>N</td>\n",
       "      <td>0</td>\n",
       "      <td>0</td>\n",
       "    </tr>\n",
       "    <tr>\n",
       "      <th>26896</th>\n",
       "      <td>13341</td>\n",
       "      <td>21JAN2014</td>\n",
       "      <td>UGR</td>\n",
       "      <td>M</td>\n",
       "      <td>22</td>\n",
       "      <td>N</td>\n",
       "      <td>N</td>\n",
       "      <td>0</td>\n",
       "      <td>1</td>\n",
       "      <td>-1.046854</td>\n",
       "      <td>0</td>\n",
       "      <td>80</td>\n",
       "      <td>2</td>\n",
       "      <td>3</td>\n",
       "      <td>60000</td>\n",
       "      <td>4</td>\n",
       "      <td>1</td>\n",
       "      <td>N</td>\n",
       "      <td>0</td>\n",
       "      <td>0</td>\n",
       "    </tr>\n",
       "    <tr>\n",
       "      <th>30303</th>\n",
       "      <td>51015</td>\n",
       "      <td>27FEB2014</td>\n",
       "      <td>SCH</td>\n",
       "      <td>F</td>\n",
       "      <td>46</td>\n",
       "      <td>N</td>\n",
       "      <td>N</td>\n",
       "      <td>0</td>\n",
       "      <td>0</td>\n",
       "      <td>-2.115448</td>\n",
       "      <td>1</td>\n",
       "      <td>40</td>\n",
       "      <td>1</td>\n",
       "      <td>2</td>\n",
       "      <td>35000</td>\n",
       "      <td>1</td>\n",
       "      <td>2</td>\n",
       "      <td>N</td>\n",
       "      <td>0</td>\n",
       "      <td>0</td>\n",
       "    </tr>\n",
       "  </tbody>\n",
       "</table>\n",
       "</div>"
      ],
      "text/plain": [
       "       client_id   app_date education sex  age car car_type  decline_app_cnt  \\\n",
       "69062      19679  27JAN2014       SCH   F   62   N        N                0   \n",
       "46221       8837  16JAN2014       SCH   M   29   N        N                0   \n",
       "18854      14469  21JAN2014       GRD   F   49   N        N                0   \n",
       "26896      13341  21JAN2014       UGR   M   22   N        N                0   \n",
       "30303      51015  27FEB2014       SCH   F   46   N        N                0   \n",
       "\n",
       "       good_work  score_bki  bki_request_cnt  region_rating  home_address  \\\n",
       "69062          0  -1.145250                1             50             2   \n",
       "46221          0  -1.720003                3             40             1   \n",
       "18854          0  -1.302849                1             80             2   \n",
       "26896          1  -1.046854                0             80             2   \n",
       "30303          0  -2.115448                1             40             1   \n",
       "\n",
       "       work_address  income  sna  first_time foreign_passport  sample  default  \n",
       "69062             3    9000    2           1                N       1        1  \n",
       "46221             2   46000    2           4                N       1        1  \n",
       "18854             3   50000    1           1                N       0        0  \n",
       "26896             3   60000    4           1                N       0        0  \n",
       "30303             2   35000    1           2                N       0        0  "
      ]
     },
     "execution_count": 6,
     "metadata": {},
     "output_type": "execute_result"
    }
   ],
   "source": [
    "# Проверяем результат\n",
    "df.sample(5)"
   ]
  },
  {
   "cell_type": "markdown",
   "metadata": {
    "papermill": {
     "duration": 0.047303,
     "end_time": "2021-02-02T20:34:11.890980",
     "exception": false,
     "start_time": "2021-02-02T20:34:11.843677",
     "status": "completed"
    },
    "tags": []
   },
   "source": [
    "Описание признаков\n",
    "\n",
    "* client_id - идентификатор клиента\n",
    "* app_date - дата подачи заявки\n",
    "* education - уровень образования\n",
    "* sex - пол заемщика\n",
    "* age - возраст заемщика\n",
    "* car - флаг наличия автомобиля\n",
    "* car_type - флаг автомобиля иномарки\n",
    "* decline_app_cnt - количество отказанных прошлых заявок\n",
    "* good_work - флаг наличия “хорошей” работы\n",
    "* score_bki - скоринговый балл по данным из БКИ\n",
    "* bki_request_cnt - количество запросов в БКИ\n",
    "* region_rating - рейтинг региона\n",
    "* home_address - категоризатор домашнего адреса\n",
    "* work_address - категоризатор рабочего адреса\n",
    "* income - доход заемщика\n",
    "* sna - связь заемщика с клиентами банка\n",
    "* first_time - давность наличия информации о заемщике\n",
    "* foreign_passport - наличие загранпаспорта\n",
    "* default - флаг дефолта по кредиту"
   ]
  },
  {
   "cell_type": "markdown",
   "metadata": {
    "papermill": {
     "duration": 0.04555,
     "end_time": "2021-02-02T20:34:11.983718",
     "exception": false,
     "start_time": "2021-02-02T20:34:11.938168",
     "status": "completed"
    },
    "tags": []
   },
   "source": [
    "# Обработка и очистка данных"
   ]
  },
  {
   "cell_type": "code",
   "execution_count": 7,
   "metadata": {
    "execution": {
     "iopub.execute_input": "2021-02-02T20:34:12.083980Z",
     "iopub.status.busy": "2021-02-02T20:34:12.083257Z",
     "iopub.status.idle": "2021-02-02T20:34:12.169587Z",
     "shell.execute_reply": "2021-02-02T20:34:12.168745Z"
    },
    "papermill": {
     "duration": 0.138394,
     "end_time": "2021-02-02T20:34:12.169802",
     "exception": false,
     "start_time": "2021-02-02T20:34:12.031408",
     "status": "completed"
    },
    "tags": []
   },
   "outputs": [
    {
     "name": "stdout",
     "output_type": "stream",
     "text": [
      "<class 'pandas.core.frame.DataFrame'>\n",
      "RangeIndex: 110148 entries, 0 to 110147\n",
      "Data columns (total 20 columns):\n",
      " #   Column            Non-Null Count   Dtype  \n",
      "---  ------            --------------   -----  \n",
      " 0   client_id         110148 non-null  int64  \n",
      " 1   app_date          110148 non-null  object \n",
      " 2   education         109670 non-null  object \n",
      " 3   sex               110148 non-null  object \n",
      " 4   age               110148 non-null  int64  \n",
      " 5   car               110148 non-null  object \n",
      " 6   car_type          110148 non-null  object \n",
      " 7   decline_app_cnt   110148 non-null  int64  \n",
      " 8   good_work         110148 non-null  int64  \n",
      " 9   score_bki         110148 non-null  float64\n",
      " 10  bki_request_cnt   110148 non-null  int64  \n",
      " 11  region_rating     110148 non-null  int64  \n",
      " 12  home_address      110148 non-null  int64  \n",
      " 13  work_address      110148 non-null  int64  \n",
      " 14  income            110148 non-null  int64  \n",
      " 15  sna               110148 non-null  int64  \n",
      " 16  first_time        110148 non-null  int64  \n",
      " 17  foreign_passport  110148 non-null  object \n",
      " 18  sample            110148 non-null  int64  \n",
      " 19  default           110148 non-null  int64  \n",
      "dtypes: float64(1), int64(13), object(6)\n",
      "memory usage: 16.8+ MB\n"
     ]
    }
   ],
   "source": [
    "# общая информация\n",
    "df.info()"
   ]
  },
  {
   "cell_type": "code",
   "execution_count": 8,
   "metadata": {
    "execution": {
     "iopub.execute_input": "2021-02-02T20:34:12.269944Z",
     "iopub.status.busy": "2021-02-02T20:34:12.269351Z",
     "iopub.status.idle": "2021-02-02T20:34:12.345109Z",
     "shell.execute_reply": "2021-02-02T20:34:12.344633Z"
    },
    "papermill": {
     "duration": 0.127166,
     "end_time": "2021-02-02T20:34:12.345272",
     "exception": false,
     "start_time": "2021-02-02T20:34:12.218106",
     "status": "completed"
    },
    "tags": []
   },
   "outputs": [
    {
     "data": {
      "text/plain": [
       "client_id             0\n",
       "app_date              0\n",
       "education           478\n",
       "sex                   0\n",
       "age                   0\n",
       "car                   0\n",
       "car_type              0\n",
       "decline_app_cnt       0\n",
       "good_work             0\n",
       "score_bki             0\n",
       "bki_request_cnt       0\n",
       "region_rating         0\n",
       "home_address          0\n",
       "work_address          0\n",
       "income                0\n",
       "sna                   0\n",
       "first_time            0\n",
       "foreign_passport      0\n",
       "sample                0\n",
       "default               0\n",
       "dtype: int64"
      ]
     },
     "execution_count": 8,
     "metadata": {},
     "output_type": "execute_result"
    }
   ],
   "source": [
    "df.isna().sum()"
   ]
  },
  {
   "cell_type": "markdown",
   "metadata": {
    "papermill": {
     "duration": 0.047616,
     "end_time": "2021-02-02T20:34:12.440640",
     "exception": false,
     "start_time": "2021-02-02T20:34:12.393024",
     "status": "completed"
    },
    "tags": []
   },
   "source": [
    "**Как мы видим, пропуски встречаются только в информации об образовании клиентов. Посмотрим на признак ближе:**"
   ]
  },
  {
   "cell_type": "code",
   "execution_count": 9,
   "metadata": {
    "execution": {
     "iopub.execute_input": "2021-02-02T20:34:12.568535Z",
     "iopub.status.busy": "2021-02-02T20:34:12.567915Z",
     "iopub.status.idle": "2021-02-02T20:34:12.743485Z",
     "shell.execute_reply": "2021-02-02T20:34:12.742858Z"
    },
    "papermill": {
     "duration": 0.255899,
     "end_time": "2021-02-02T20:34:12.743640",
     "exception": false,
     "start_time": "2021-02-02T20:34:12.487741",
     "status": "completed"
    },
    "tags": []
   },
   "outputs": [
    {
     "data": {
      "text/plain": [
       "<AxesSubplot:>"
      ]
     },
     "execution_count": 9,
     "metadata": {},
     "output_type": "execute_result"
    },
    {
     "data": {
      "image/png": "[encoded data removed]",
      "text/plain": [
       "<Figure size 432x288 with 1 Axes>"
      ]
     },
     "metadata": {
      "needs_background": "light"
     },
     "output_type": "display_data"
    }
   ],
   "source": [
    "df['education'].value_counts().plot.barh()"
   ]
  },
  {
   "cell_type": "markdown",
   "metadata": {
    "papermill": {
     "duration": 0.048637,
     "end_time": "2021-02-02T20:34:12.841348",
     "exception": false,
     "start_time": "2021-02-02T20:34:12.792711",
     "status": "completed"
    },
    "tags": []
   },
   "source": [
    "**заменим пропуски в education наиболее часто встречающимся значением**"
   ]
  },
  {
   "cell_type": "code",
   "execution_count": 10,
   "metadata": {
    "execution": {
     "iopub.execute_input": "2021-02-02T20:34:12.957521Z",
     "iopub.status.busy": "2021-02-02T20:34:12.955926Z",
     "iopub.status.idle": "2021-02-02T20:34:12.960084Z",
     "shell.execute_reply": "2021-02-02T20:34:12.960573Z"
    },
    "papermill": {
     "duration": 0.06975,
     "end_time": "2021-02-02T20:34:12.960759",
     "exception": false,
     "start_time": "2021-02-02T20:34:12.891009",
     "status": "completed"
    },
    "tags": []
   },
   "outputs": [],
   "source": [
    "df['education'].fillna('SCH',  inplace = True)"
   ]
  },
  {
   "cell_type": "code",
   "execution_count": 11,
   "metadata": {
    "execution": {
     "iopub.execute_input": "2021-02-02T20:34:13.064383Z",
     "iopub.status.busy": "2021-02-02T20:34:13.063790Z",
     "iopub.status.idle": "2021-02-02T20:34:13.139911Z",
     "shell.execute_reply": "2021-02-02T20:34:13.138995Z"
    },
    "papermill": {
     "duration": 0.129771,
     "end_time": "2021-02-02T20:34:13.140068",
     "exception": false,
     "start_time": "2021-02-02T20:34:13.010297",
     "status": "completed"
    },
    "tags": []
   },
   "outputs": [
    {
     "data": {
      "text/plain": [
       "client_id           0\n",
       "app_date            0\n",
       "education           0\n",
       "sex                 0\n",
       "age                 0\n",
       "car                 0\n",
       "car_type            0\n",
       "decline_app_cnt     0\n",
       "good_work           0\n",
       "score_bki           0\n",
       "bki_request_cnt     0\n",
       "region_rating       0\n",
       "home_address        0\n",
       "work_address        0\n",
       "income              0\n",
       "sna                 0\n",
       "first_time          0\n",
       "foreign_passport    0\n",
       "sample              0\n",
       "default             0\n",
       "dtype: int64"
      ]
     },
     "execution_count": 11,
     "metadata": {},
     "output_type": "execute_result"
    }
   ],
   "source": [
    "# Проверяем результат\n",
    "df.isna().sum()"
   ]
  },
  {
   "cell_type": "markdown",
   "metadata": {
    "papermill": {
     "duration": 0.049492,
     "end_time": "2021-02-02T20:34:13.239077",
     "exception": false,
     "start_time": "2021-02-02T20:34:13.189585",
     "status": "completed"
    },
    "tags": []
   },
   "source": [
    "**В датасете есть признак \"app_date\" - дата подачи заявки, имеющий тип \"object\". Преобразуем его в формат \"datetime\"**"
   ]
  },
  {
   "cell_type": "code",
   "execution_count": 12,
   "metadata": {
    "execution": {
     "iopub.execute_input": "2021-02-02T20:34:13.350161Z",
     "iopub.status.busy": "2021-02-02T20:34:13.349553Z",
     "iopub.status.idle": "2021-02-02T20:34:13.389188Z",
     "shell.execute_reply": "2021-02-02T20:34:13.388563Z"
    },
    "papermill": {
     "duration": 0.100352,
     "end_time": "2021-02-02T20:34:13.389332",
     "exception": false,
     "start_time": "2021-02-02T20:34:13.288980",
     "status": "completed"
    },
    "tags": []
   },
   "outputs": [],
   "source": [
    "df['app_date'] = pd.to_datetime(df.app_date)"
   ]
  },
  {
   "cell_type": "code",
   "execution_count": 13,
   "metadata": {
    "execution": {
     "iopub.execute_input": "2021-02-02T20:34:13.492990Z",
     "iopub.status.busy": "2021-02-02T20:34:13.492298Z",
     "iopub.status.idle": "2021-02-02T20:34:13.563977Z",
     "shell.execute_reply": "2021-02-02T20:34:13.564573Z"
    },
    "papermill": {
     "duration": 0.126387,
     "end_time": "2021-02-02T20:34:13.564803",
     "exception": false,
     "start_time": "2021-02-02T20:34:13.438416",
     "status": "completed"
    },
    "tags": []
   },
   "outputs": [
    {
     "name": "stdout",
     "output_type": "stream",
     "text": [
      "<class 'pandas.core.frame.DataFrame'>\n",
      "RangeIndex: 110148 entries, 0 to 110147\n",
      "Data columns (total 20 columns):\n",
      " #   Column            Non-Null Count   Dtype         \n",
      "---  ------            --------------   -----         \n",
      " 0   client_id         110148 non-null  int64         \n",
      " 1   app_date          110148 non-null  datetime64[ns]\n",
      " 2   education         110148 non-null  object        \n",
      " 3   sex               110148 non-null  object        \n",
      " 4   age               110148 non-null  int64         \n",
      " 5   car               110148 non-null  object        \n",
      " 6   car_type          110148 non-null  object        \n",
      " 7   decline_app_cnt   110148 non-null  int64         \n",
      " 8   good_work         110148 non-null  int64         \n",
      " 9   score_bki         110148 non-null  float64       \n",
      " 10  bki_request_cnt   110148 non-null  int64         \n",
      " 11  region_rating     110148 non-null  int64         \n",
      " 12  home_address      110148 non-null  int64         \n",
      " 13  work_address      110148 non-null  int64         \n",
      " 14  income            110148 non-null  int64         \n",
      " 15  sna               110148 non-null  int64         \n",
      " 16  first_time        110148 non-null  int64         \n",
      " 17  foreign_passport  110148 non-null  object        \n",
      " 18  sample            110148 non-null  int64         \n",
      " 19  default           110148 non-null  int64         \n",
      "dtypes: datetime64[ns](1), float64(1), int64(13), object(5)\n",
      "memory usage: 16.8+ MB\n"
     ]
    }
   ],
   "source": [
    "# Проверяем\n",
    "df.info()"
   ]
  },
  {
   "cell_type": "code",
   "execution_count": 14,
   "metadata": {
    "execution": {
     "iopub.execute_input": "2021-02-02T20:34:13.669248Z",
     "iopub.status.busy": "2021-02-02T20:34:13.668248Z",
     "iopub.status.idle": "2021-02-02T20:34:13.675979Z",
     "shell.execute_reply": "2021-02-02T20:34:13.675022Z"
    },
    "papermill": {
     "duration": 0.061833,
     "end_time": "2021-02-02T20:34:13.676237",
     "exception": false,
     "start_time": "2021-02-02T20:34:13.614404",
     "status": "completed"
    },
    "tags": []
   },
   "outputs": [
    {
     "name": "stdout",
     "output_type": "stream",
     "text": [
      "2014-01-01 00:00:00\n",
      "2014-04-30 00:00:00\n"
     ]
    }
   ],
   "source": [
    "# взглянем на диапазон дат\n",
    "print(df['app_date'].min())\n",
    "print(df['app_date'].max())"
   ]
  },
  {
   "cell_type": "markdown",
   "metadata": {
    "papermill": {
     "duration": 0.051046,
     "end_time": "2021-02-02T20:34:13.778222",
     "exception": false,
     "start_time": "2021-02-02T20:34:13.727176",
     "status": "completed"
    },
    "tags": []
   },
   "source": [
    "**Диапазон дат поданных заявок охватывает период за четыре месяца с начала года.**\n",
    "\n",
    "**Преобразуем данный признак в число дней, прошедших с начала года (с момента подачи первой заявки**"
   ]
  },
  {
   "cell_type": "code",
   "execution_count": 15,
   "metadata": {
    "execution": {
     "iopub.execute_input": "2021-02-02T20:34:13.884395Z",
     "iopub.status.busy": "2021-02-02T20:34:13.883775Z",
     "iopub.status.idle": "2021-02-02T20:34:16.091795Z",
     "shell.execute_reply": "2021-02-02T20:34:16.091116Z"
    },
    "papermill": {
     "duration": 2.263902,
     "end_time": "2021-02-02T20:34:16.091936",
     "exception": false,
     "start_time": "2021-02-02T20:34:13.828034",
     "status": "completed"
    },
    "tags": []
   },
   "outputs": [],
   "source": [
    "# Запишем даты в отдельную переменную\n",
    "date_app = df['app_date']\n",
    "\n",
    "start_date = df['app_date'].min()  # Минимальное значение дат\n",
    "df['app_date'] = df['app_date'].apply(lambda x: (x - start_date).days)  # Преобразование столбца"
   ]
  },
  {
   "cell_type": "markdown",
   "metadata": {
    "papermill": {
     "duration": 0.051026,
     "end_time": "2021-02-02T20:34:16.194334",
     "exception": false,
     "start_time": "2021-02-02T20:34:16.143308",
     "status": "completed"
    },
    "tags": []
   },
   "source": [
    "**Распределим наши данные на бинарные, категориальные и цифровые переменные**"
   ]
  },
  {
   "cell_type": "code",
   "execution_count": 16,
   "metadata": {
    "execution": {
     "iopub.execute_input": "2021-02-02T20:34:16.300671Z",
     "iopub.status.busy": "2021-02-02T20:34:16.300059Z",
     "iopub.status.idle": "2021-02-02T20:34:16.303454Z",
     "shell.execute_reply": "2021-02-02T20:34:16.302792Z"
    },
    "papermill": {
     "duration": 0.058667,
     "end_time": "2021-02-02T20:34:16.303585",
     "exception": false,
     "start_time": "2021-02-02T20:34:16.244918",
     "status": "completed"
    },
    "tags": []
   },
   "outputs": [],
   "source": [
    "bin_cols = ['sex', 'car', 'car_type', 'good_work', 'foreign_passport']\n",
    "cat_cols = ['education', 'region_rating', 'home_address', 'work_address', 'sna', 'first_time']\n",
    "num_cols = ['app_date', 'age', 'decline_app_cnt', 'score_bki', 'bki_request_cnt', 'income']"
   ]
  },
  {
   "cell_type": "markdown",
   "metadata": {
    "papermill": {
     "duration": 0.050203,
     "end_time": "2021-02-02T20:34:16.404887",
     "exception": false,
     "start_time": "2021-02-02T20:34:16.354684",
     "status": "completed"
    },
    "tags": []
   },
   "source": [
    "**Посмотрим на распределение числовых данных:**"
   ]
  },
  {
   "cell_type": "code",
   "execution_count": 17,
   "metadata": {
    "execution": {
     "iopub.execute_input": "2021-02-02T20:34:16.513218Z",
     "iopub.status.busy": "2021-02-02T20:34:16.512585Z",
     "iopub.status.idle": "2021-02-02T20:34:17.886905Z",
     "shell.execute_reply": "2021-02-02T20:34:17.887436Z"
    },
    "papermill": {
     "duration": 1.431573,
     "end_time": "2021-02-02T20:34:17.887633",
     "exception": false,
     "start_time": "2021-02-02T20:34:16.456060",
     "status": "completed"
    },
    "tags": []
   },
   "outputs": [
    {
     "data": {
      "image/png": "[encoded data removed]",
      "text/plain": [
       "<Figure size 432x288 with 1 Axes>"
      ]
     },
     "metadata": {
      "needs_background": "light"
     },
     "output_type": "display_data"
    },
    {
     "data": {
      "image/png": "[encoded data removed]",
      "text/plain": [
       "<Figure size 432x288 with 1 Axes>"
      ]
     },
     "metadata": {
      "needs_background": "light"
     },
     "output_type": "display_data"
    },
    {
     "data": {
      "image/png": "[encoded data removed]",
      "text/plain": [
       "<Figure size 432x288 with 1 Axes>"
      ]
     },
     "metadata": {
      "needs_background": "light"
     },
     "output_type": "display_data"
    },
    {
     "data": {
      "image/png": "[encoded data removed]",
      "text/plain": [
       "<Figure size 432x288 with 1 Axes>"
      ]
     },
     "metadata": {
      "needs_background": "light"
     },
     "output_type": "display_data"
    },
    {
     "data": {
      "image/png": "[encoded data removed]",
      "text/plain": [
       "<Figure size 432x288 with 1 Axes>"
      ]
     },
     "metadata": {
      "needs_background": "light"
     },
     "output_type": "display_data"
    },
    {
     "data": {
      "image/png": "[encoded data removed]",
      "text/plain": [
       "<Figure size 432x288 with 1 Axes>"
      ]
     },
     "metadata": {
      "needs_background": "light"
     },
     "output_type": "display_data"
    }
   ],
   "source": [
    "for i in num_cols:\n",
    "    plt.figure()\n",
    "    sns.distplot(df[i][df[i] > 0].dropna(), kde = False, rug=False)\n",
    "    plt.title(i)\n",
    "    plt.show()"
   ]
  },
  {
   "cell_type": "markdown",
   "metadata": {
    "papermill": {
     "duration": 0.055912,
     "end_time": "2021-02-02T20:34:17.999635",
     "exception": false,
     "start_time": "2021-02-02T20:34:17.943723",
     "status": "completed"
    },
    "tags": []
   },
   "source": [
    "**После построения гистограмм стало очевидно, что распределения всех числовых переменных имеют \"тяжёлый правый хвост\".**\n",
    "**Построим графики распределения логарифмированных переменных.**"
   ]
  },
  {
   "cell_type": "code",
   "execution_count": 18,
   "metadata": {
    "execution": {
     "iopub.execute_input": "2021-02-02T20:34:18.120249Z",
     "iopub.status.busy": "2021-02-02T20:34:18.119584Z",
     "iopub.status.idle": "2021-02-02T20:34:19.639444Z",
     "shell.execute_reply": "2021-02-02T20:34:19.638869Z"
    },
    "papermill": {
     "duration": 1.584083,
     "end_time": "2021-02-02T20:34:19.639587",
     "exception": false,
     "start_time": "2021-02-02T20:34:18.055504",
     "status": "completed"
    },
    "tags": []
   },
   "outputs": [
    {
     "data": {
      "image/png": "[encoded data removed]",
      "text/plain": [
       "<Figure size 720x360 with 1 Axes>"
      ]
     },
     "metadata": {
      "needs_background": "light"
     },
     "output_type": "display_data"
    },
    {
     "data": {
      "image/png": "[encoded data removed]",
      "text/plain": [
       "<Figure size 720x360 with 1 Axes>"
      ]
     },
     "metadata": {
      "needs_background": "light"
     },
     "output_type": "display_data"
    },
    {
     "data": {
      "image/png": "[encoded data removed]",
      "text/plain": [
       "<Figure size 720x360 with 1 Axes>"
      ]
     },
     "metadata": {
      "needs_background": "light"
     },
     "output_type": "display_data"
    },
    {
     "data": {
      "image/png": "[encoded data removed]",
      "text/plain": [
       "<Figure size 720x360 with 1 Axes>"
      ]
     },
     "metadata": {
      "needs_background": "light"
     },
     "output_type": "display_data"
    },
    {
     "data": {
      "image/png": "[encoded data removed]",
      "text/plain": [
       "<Figure size 720x360 with 1 Axes>"
      ]
     },
     "metadata": {
      "needs_background": "light"
     },
     "output_type": "display_data"
    },
    {
     "data": {
      "image/png": "[encoded data removed]",
      "text/plain": [
       "<Figure size 720x360 with 1 Axes>"
      ]
     },
     "metadata": {
      "needs_background": "light"
     },
     "output_type": "display_data"
    }
   ],
   "source": [
    "# Преобразуем все числовые переменные в логарифмические функции\n",
    "for i in num_cols:\n",
    "    df[i] = np.log1p(df[i].abs())\n",
    "    plt.figure(figsize=(10,5))\n",
    "    sns.distplot(df[i][df[i] > 0].dropna(), kde = False, rug=False, color='c')\n",
    "    plt.title(i)\n",
    "    plt.show()"
   ]
  },
  {
   "cell_type": "markdown",
   "metadata": {
    "papermill": {
     "duration": 0.058389,
     "end_time": "2021-02-02T20:34:19.757239",
     "exception": false,
     "start_time": "2021-02-02T20:34:19.698850",
     "status": "completed"
    },
    "tags": []
   },
   "source": [
    "**В распределении признаков \"age\" и \"score_bki\" произошло небольшое смещение вправо, распределение признака \"income\" стало нормальным**"
   ]
  },
  {
   "cell_type": "markdown",
   "metadata": {
    "papermill": {
     "duration": 0.058418,
     "end_time": "2021-02-02T20:34:19.875058",
     "exception": false,
     "start_time": "2021-02-02T20:34:19.816640",
     "status": "completed"
    },
    "tags": []
   },
   "source": [
    "**Построим boxplot’ы для численных переменных**"
   ]
  },
  {
   "cell_type": "code",
   "execution_count": 19,
   "metadata": {
    "execution": {
     "iopub.execute_input": "2021-02-02T20:34:19.997788Z",
     "iopub.status.busy": "2021-02-02T20:34:19.996874Z",
     "iopub.status.idle": "2021-02-02T20:34:20.866040Z",
     "shell.execute_reply": "2021-02-02T20:34:20.865507Z"
    },
    "papermill": {
     "duration": 0.932148,
     "end_time": "2021-02-02T20:34:20.866195",
     "exception": false,
     "start_time": "2021-02-02T20:34:19.934047",
     "status": "completed"
    },
    "tags": []
   },
   "outputs": [
    {
     "data": {
      "image/png": "[encoded data removed]",
      "text/plain": [
       "<Figure size 1440x1080 with 6 Axes>"
      ]
     },
     "metadata": {
      "needs_background": "light"
     },
     "output_type": "display_data"
    }
   ],
   "source": [
    "fig, axes = plt.subplots(2, 3, figsize=(20,15))\n",
    "plt.subplots_adjust(wspace = 0.5)\n",
    "axes = axes.flatten()\n",
    "for i in range(len(num_cols)):\n",
    "    sns.boxplot(x=\"default\", y=num_cols[i], data=df, orient = 'v', ax=axes[i], showfliers=True)"
   ]
  },
  {
   "cell_type": "markdown",
   "metadata": {
    "papermill": {
     "duration": 0.060965,
     "end_time": "2021-02-02T20:34:20.988460",
     "exception": false,
     "start_time": "2021-02-02T20:34:20.927495",
     "status": "completed"
    },
    "tags": []
   },
   "source": []
  },
  {
   "cell_type": "markdown",
   "metadata": {
    "papermill": {
     "duration": 0.060817,
     "end_time": "2021-02-02T20:34:21.110724",
     "exception": false,
     "start_time": "2021-02-02T20:34:21.049907",
     "status": "completed"
    },
    "tags": []
   },
   "source": [
    "**На основании полученных графиков можно сделать выводы, что:**\n",
    "* Пять числовых параметров имеют множественные выбросы\n",
    "* Дефолтные клиенты в среднем немного младше недефолтных\n",
    "* Дефолтные клиенты в среднем имеют немногим более низкий доход\n",
    "* Дефолтные клиенты в среднем имеют бОльшее количество отмененных заявок\n",
    "* Дефолтные клиенты в среднем имеют больше запросов в БКИ\n",
    "* Дефолтные клиенты в среднем имеют более низкий в абсолютной величине скоринговый балл"
   ]
  },
  {
   "cell_type": "code",
   "execution_count": 20,
   "metadata": {
    "execution": {
     "iopub.execute_input": "2021-02-02T20:34:21.238345Z",
     "iopub.status.busy": "2021-02-02T20:34:21.237706Z",
     "iopub.status.idle": "2021-02-02T20:34:21.497802Z",
     "shell.execute_reply": "2021-02-02T20:34:21.497149Z"
    },
    "papermill": {
     "duration": 0.325869,
     "end_time": "2021-02-02T20:34:21.497941",
     "exception": false,
     "start_time": "2021-02-02T20:34:21.172072",
     "status": "completed"
    },
    "tags": []
   },
   "outputs": [
    {
     "data": {
      "text/plain": [
       "<AxesSubplot:>"
      ]
     },
     "execution_count": 20,
     "metadata": {},
     "output_type": "execute_result"
    },
    {
     "data": {
      "image/png": "[encoded data removed]",
      "text/plain": [
       "<Figure size 432x288 with 2 Axes>"
      ]
     },
     "metadata": {
      "needs_background": "light"
     },
     "output_type": "display_data"
    }
   ],
   "source": [
    "# Рассмотрим корреляцию цисловых признаков\n",
    "sns.heatmap(df[num_cols].corr().abs(), vmin=0, vmax=1)"
   ]
  },
  {
   "cell_type": "markdown",
   "metadata": {
    "papermill": {
     "duration": 0.081354,
     "end_time": "2021-02-02T20:34:21.659523",
     "exception": false,
     "start_time": "2021-02-02T20:34:21.578169",
     "status": "completed"
    },
    "tags": []
   },
   "source": [
    "**Очевиден вывод, что все признаки между собой слабо скоррелированы**\n",
    "\n",
    "**Оставляем их все для дальнейшего построения модели**"
   ]
  },
  {
   "cell_type": "markdown",
   "metadata": {
    "papermill": {
     "duration": 0.062037,
     "end_time": "2021-02-02T20:34:21.786278",
     "exception": false,
     "start_time": "2021-02-02T20:34:21.724241",
     "status": "completed"
    },
    "tags": []
   },
   "source": [
    "**Выполним построение визуализации важности признаков с помощью функции f classif**"
   ]
  },
  {
   "cell_type": "code",
   "execution_count": 21,
   "metadata": {
    "execution": {
     "iopub.execute_input": "2021-02-02T20:34:21.919299Z",
     "iopub.status.busy": "2021-02-02T20:34:21.918584Z",
     "iopub.status.idle": "2021-02-02T20:34:22.063575Z",
     "shell.execute_reply": "2021-02-02T20:34:22.063039Z"
    },
    "papermill": {
     "duration": 0.215505,
     "end_time": "2021-02-02T20:34:22.063734",
     "exception": false,
     "start_time": "2021-02-02T20:34:21.848229",
     "status": "completed"
    },
    "tags": []
   },
   "outputs": [
    {
     "data": {
      "text/plain": [
       "<AxesSubplot:>"
      ]
     },
     "execution_count": 21,
     "metadata": {},
     "output_type": "execute_result"
    },
    {
     "data": {
      "image/png": "[encoded data removed]",
      "text/plain": [
       "<Figure size 432x288 with 1 Axes>"
      ]
     },
     "metadata": {
      "needs_background": "light"
     },
     "output_type": "display_data"
    }
   ],
   "source": [
    "imp_num = Series(f_classif(df[num_cols], df['default'])[0], index = num_cols)\n",
    "imp_num.sort_values(inplace = True)\n",
    "imp_num.plot(kind = 'barh')"
   ]
  },
  {
   "cell_type": "markdown",
   "metadata": {
    "papermill": {
     "duration": 0.063409,
     "end_time": "2021-02-02T20:34:22.190643",
     "exception": false,
     "start_time": "2021-02-02T20:34:22.127234",
     "status": "completed"
    },
    "tags": []
   },
   "source": [
    "# Выводы:\n",
    "Из числовых признаков наибольшее влияние на целевую переменную оказывают признаки \"score_bki\" (скоринговый балл) и \"decline_app_cnt\" (количество отказов), наименьшее - \"age\" (возраст) и \"app_date\" (дата подачи заявки)"
   ]
  },
  {
   "cell_type": "markdown",
   "metadata": {
    "papermill": {
     "duration": 0.062806,
     "end_time": "2021-02-02T20:34:22.317287",
     "exception": false,
     "start_time": "2021-02-02T20:34:22.254481",
     "status": "completed"
    },
    "tags": []
   },
   "source": [
    "# Бинарные признаки"
   ]
  },
  {
   "cell_type": "code",
   "execution_count": 22,
   "metadata": {
    "execution": {
     "iopub.execute_input": "2021-02-02T20:34:22.485089Z",
     "iopub.status.busy": "2021-02-02T20:34:22.484063Z",
     "iopub.status.idle": "2021-02-02T20:34:22.602878Z",
     "shell.execute_reply": "2021-02-02T20:34:22.602295Z"
    },
    "papermill": {
     "duration": 0.223169,
     "end_time": "2021-02-02T20:34:22.603024",
     "exception": false,
     "start_time": "2021-02-02T20:34:22.379855",
     "status": "completed"
    },
    "tags": []
   },
   "outputs": [],
   "source": [
    "map_categories = {}  # Создаём словарь кодировок\n",
    "\n",
    "label_encoder = LabelEncoder()\n",
    "\n",
    "for column in bin_cols:  # Организуем цикл по бинарным признакам и создаем словарь\n",
    "    df[column] = label_encoder.fit_transform(df[column])\n",
    "    map_categories[column] = dict(enumerate(label_encoder.classes_)) "
   ]
  },
  {
   "cell_type": "code",
   "execution_count": 23,
   "metadata": {
    "execution": {
     "iopub.execute_input": "2021-02-02T20:34:22.750036Z",
     "iopub.status.busy": "2021-02-02T20:34:22.748994Z",
     "iopub.status.idle": "2021-02-02T20:34:22.755118Z",
     "shell.execute_reply": "2021-02-02T20:34:22.754513Z"
    },
    "papermill": {
     "duration": 0.088319,
     "end_time": "2021-02-02T20:34:22.755271",
     "exception": false,
     "start_time": "2021-02-02T20:34:22.666952",
     "status": "completed"
    },
    "tags": []
   },
   "outputs": [
    {
     "data": {
      "text/html": [
       "<div>\n",
       "<style scoped>\n",
       "    .dataframe tbody tr th:only-of-type {\n",
       "        vertical-align: middle;\n",
       "    }\n",
       "\n",
       "    .dataframe tbody tr th {\n",
       "        vertical-align: top;\n",
       "    }\n",
       "\n",
       "    .dataframe thead th {\n",
       "        text-align: right;\n",
       "    }\n",
       "</style>\n",
       "<table border=\"1\" class=\"dataframe\">\n",
       "  <thead>\n",
       "    <tr style=\"text-align: right;\">\n",
       "      <th></th>\n",
       "      <th>client_id</th>\n",
       "      <th>app_date</th>\n",
       "      <th>education</th>\n",
       "      <th>sex</th>\n",
       "      <th>age</th>\n",
       "      <th>car</th>\n",
       "      <th>car_type</th>\n",
       "      <th>decline_app_cnt</th>\n",
       "      <th>good_work</th>\n",
       "      <th>score_bki</th>\n",
       "      <th>bki_request_cnt</th>\n",
       "      <th>region_rating</th>\n",
       "      <th>home_address</th>\n",
       "      <th>work_address</th>\n",
       "      <th>income</th>\n",
       "      <th>sna</th>\n",
       "      <th>first_time</th>\n",
       "      <th>foreign_passport</th>\n",
       "      <th>sample</th>\n",
       "      <th>default</th>\n",
       "    </tr>\n",
       "  </thead>\n",
       "  <tbody>\n",
       "    <tr>\n",
       "      <th>0</th>\n",
       "      <td>74835</td>\n",
       "      <td>4.394449</td>\n",
       "      <td>GRD</td>\n",
       "      <td>1</td>\n",
       "      <td>3.401197</td>\n",
       "      <td>1</td>\n",
       "      <td>1</td>\n",
       "      <td>0.000000</td>\n",
       "      <td>0</td>\n",
       "      <td>1.185366</td>\n",
       "      <td>1.386294</td>\n",
       "      <td>50</td>\n",
       "      <td>1</td>\n",
       "      <td>2</td>\n",
       "      <td>10.819798</td>\n",
       "      <td>1</td>\n",
       "      <td>4</td>\n",
       "      <td>0</td>\n",
       "      <td>0</td>\n",
       "      <td>0</td>\n",
       "    </tr>\n",
       "    <tr>\n",
       "      <th>1</th>\n",
       "      <td>17527</td>\n",
       "      <td>3.178054</td>\n",
       "      <td>SCH</td>\n",
       "      <td>0</td>\n",
       "      <td>3.688879</td>\n",
       "      <td>0</td>\n",
       "      <td>0</td>\n",
       "      <td>1.791759</td>\n",
       "      <td>0</td>\n",
       "      <td>0.918288</td>\n",
       "      <td>1.098612</td>\n",
       "      <td>50</td>\n",
       "      <td>1</td>\n",
       "      <td>2</td>\n",
       "      <td>8.517393</td>\n",
       "      <td>4</td>\n",
       "      <td>3</td>\n",
       "      <td>0</td>\n",
       "      <td>0</td>\n",
       "      <td>0</td>\n",
       "    </tr>\n",
       "    <tr>\n",
       "      <th>2</th>\n",
       "      <td>75683</td>\n",
       "      <td>4.406719</td>\n",
       "      <td>UGR</td>\n",
       "      <td>1</td>\n",
       "      <td>3.931826</td>\n",
       "      <td>1</td>\n",
       "      <td>1</td>\n",
       "      <td>0.000000</td>\n",
       "      <td>0</td>\n",
       "      <td>0.990039</td>\n",
       "      <td>0.693147</td>\n",
       "      <td>50</td>\n",
       "      <td>1</td>\n",
       "      <td>2</td>\n",
       "      <td>10.308986</td>\n",
       "      <td>1</td>\n",
       "      <td>3</td>\n",
       "      <td>1</td>\n",
       "      <td>0</td>\n",
       "      <td>0</td>\n",
       "    </tr>\n",
       "    <tr>\n",
       "      <th>3</th>\n",
       "      <td>26883</td>\n",
       "      <td>3.526361</td>\n",
       "      <td>SCH</td>\n",
       "      <td>1</td>\n",
       "      <td>4.043051</td>\n",
       "      <td>0</td>\n",
       "      <td>0</td>\n",
       "      <td>0.000000</td>\n",
       "      <td>0</td>\n",
       "      <td>1.216153</td>\n",
       "      <td>0.693147</td>\n",
       "      <td>40</td>\n",
       "      <td>1</td>\n",
       "      <td>2</td>\n",
       "      <td>9.741027</td>\n",
       "      <td>1</td>\n",
       "      <td>3</td>\n",
       "      <td>0</td>\n",
       "      <td>0</td>\n",
       "      <td>0</td>\n",
       "    </tr>\n",
       "    <tr>\n",
       "      <th>4</th>\n",
       "      <td>28862</td>\n",
       "      <td>3.555348</td>\n",
       "      <td>GRD</td>\n",
       "      <td>0</td>\n",
       "      <td>3.663562</td>\n",
       "      <td>0</td>\n",
       "      <td>0</td>\n",
       "      <td>0.000000</td>\n",
       "      <td>0</td>\n",
       "      <td>1.249186</td>\n",
       "      <td>0.000000</td>\n",
       "      <td>80</td>\n",
       "      <td>2</td>\n",
       "      <td>3</td>\n",
       "      <td>11.695255</td>\n",
       "      <td>1</td>\n",
       "      <td>3</td>\n",
       "      <td>0</td>\n",
       "      <td>0</td>\n",
       "      <td>0</td>\n",
       "    </tr>\n",
       "  </tbody>\n",
       "</table>\n",
       "</div>"
      ],
      "text/plain": [
       "   client_id  app_date education  sex       age  car  car_type  \\\n",
       "0      74835  4.394449       GRD    1  3.401197    1         1   \n",
       "1      17527  3.178054       SCH    0  3.688879    0         0   \n",
       "2      75683  4.406719       UGR    1  3.931826    1         1   \n",
       "3      26883  3.526361       SCH    1  4.043051    0         0   \n",
       "4      28862  3.555348       GRD    0  3.663562    0         0   \n",
       "\n",
       "   decline_app_cnt  good_work  score_bki  bki_request_cnt  region_rating  \\\n",
       "0         0.000000          0   1.185366         1.386294             50   \n",
       "1         1.791759          0   0.918288         1.098612             50   \n",
       "2         0.000000          0   0.990039         0.693147             50   \n",
       "3         0.000000          0   1.216153         0.693147             40   \n",
       "4         0.000000          0   1.249186         0.000000             80   \n",
       "\n",
       "   home_address  work_address     income  sna  first_time  foreign_passport  \\\n",
       "0             1             2  10.819798    1           4                 0   \n",
       "1             1             2   8.517393    4           3                 0   \n",
       "2             1             2  10.308986    1           3                 1   \n",
       "3             1             2   9.741027    1           3                 0   \n",
       "4             2             3  11.695255    1           3                 0   \n",
       "\n",
       "   sample  default  \n",
       "0       0        0  \n",
       "1       0        0  \n",
       "2       0        0  \n",
       "3       0        0  \n",
       "4       0        0  "
      ]
     },
     "execution_count": 23,
     "metadata": {},
     "output_type": "execute_result"
    }
   ],
   "source": [
    "# Проверяем  \n",
    "df.head()"
   ]
  },
  {
   "cell_type": "markdown",
   "metadata": {
    "papermill": {
     "duration": 0.064523,
     "end_time": "2021-02-02T20:34:22.884943",
     "exception": false,
     "start_time": "2021-02-02T20:34:22.820420",
     "status": "completed"
    },
    "tags": []
   },
   "source": [
    "# Категориальные признаки"
   ]
  },
  {
   "cell_type": "code",
   "execution_count": 24,
   "metadata": {
    "execution": {
     "iopub.execute_input": "2021-02-02T20:34:23.059346Z",
     "iopub.status.busy": "2021-02-02T20:34:23.058160Z",
     "iopub.status.idle": "2021-02-02T20:34:23.067045Z",
     "shell.execute_reply": "2021-02-02T20:34:23.067556Z"
    },
    "papermill": {
     "duration": 0.118029,
     "end_time": "2021-02-02T20:34:23.067752",
     "exception": false,
     "start_time": "2021-02-02T20:34:22.949723",
     "status": "completed"
    },
    "tags": []
   },
   "outputs": [],
   "source": [
    "# Для двух категориальных признаков: \"education\" и \"region_rating\" первоначальнор используем LabelEncoder\n",
    "for name in ['education', 'region_rating']:\n",
    "    df[name] = label_encoder.fit_transform(df[name])\n",
    "    map_categories[name] = dict(enumerate(label_encoder.classes_))"
   ]
  },
  {
   "cell_type": "markdown",
   "metadata": {
    "papermill": {
     "duration": 0.065917,
     "end_time": "2021-02-02T20:34:23.198868",
     "exception": false,
     "start_time": "2021-02-02T20:34:23.132951",
     "status": "completed"
    },
    "tags": []
   },
   "source": [
    "**Для оценки значимости категориальных и бинарных переменных будем использовать функцию mutual_info_classif**"
   ]
  },
  {
   "cell_type": "code",
   "execution_count": 25,
   "metadata": {
    "execution": {
     "iopub.execute_input": "2021-02-02T20:34:23.335428Z",
     "iopub.status.busy": "2021-02-02T20:34:23.334729Z",
     "iopub.status.idle": "2021-02-02T20:34:23.755129Z",
     "shell.execute_reply": "2021-02-02T20:34:23.754446Z"
    },
    "papermill": {
     "duration": 0.491401,
     "end_time": "2021-02-02T20:34:23.755302",
     "exception": false,
     "start_time": "2021-02-02T20:34:23.263901",
     "status": "completed"
    },
    "tags": []
   },
   "outputs": [
    {
     "data": {
      "text/plain": [
       "<AxesSubplot:>"
      ]
     },
     "execution_count": 25,
     "metadata": {},
     "output_type": "execute_result"
    },
    {
     "data": {
      "image/png": "[encoded data removed]",
      "text/plain": [
       "<Figure size 432x288 with 1 Axes>"
      ]
     },
     "metadata": {
      "needs_background": "light"
     },
     "output_type": "display_data"
    }
   ],
   "source": [
    "# посмотрим значимость признаков и бинарных и категориальных\n",
    "imp_cat = Series(mutual_info_classif(df[df['sample']==1][bin_cols + cat_cols], df[df['sample']==1]['default'],\n",
    "                                     discrete_features =True), index = bin_cols + cat_cols)\n",
    "imp_cat.sort_values(inplace = True)\n",
    "imp_cat.plot(kind = 'barh')"
   ]
  },
  {
   "cell_type": "markdown",
   "metadata": {
    "papermill": {
     "duration": 0.066203,
     "end_time": "2021-02-02T20:34:23.887734",
     "exception": false,
     "start_time": "2021-02-02T20:34:23.821531",
     "status": "completed"
    },
    "tags": []
   },
   "source": [
    "**Из категориальных признаков самыми значимыми являются признаки \"sna\" (связь заемщика с клиентами банка) и \"first_time\" (давность наличия информации о заемщике), наименее значимыми - \"sex\" (пол заёмщика)**"
   ]
  },
  {
   "cell_type": "code",
   "execution_count": 26,
   "metadata": {
    "execution": {
     "iopub.execute_input": "2021-02-02T20:34:24.029346Z",
     "iopub.status.busy": "2021-02-02T20:34:24.028281Z",
     "iopub.status.idle": "2021-02-02T20:34:24.056164Z",
     "shell.execute_reply": "2021-02-02T20:34:24.055613Z"
    },
    "papermill": {
     "duration": 0.102946,
     "end_time": "2021-02-02T20:34:24.056322",
     "exception": false,
     "start_time": "2021-02-02T20:34:23.953376",
     "status": "completed"
    },
    "tags": []
   },
   "outputs": [],
   "source": [
    "# заменим все категориальные признаки на dummy переменные\n",
    "\n",
    "df = pd.get_dummies(df, prefix=cat_cols, columns=cat_cols)"
   ]
  },
  {
   "cell_type": "code",
   "execution_count": 27,
   "metadata": {
    "execution": {
     "iopub.execute_input": "2021-02-02T20:34:24.194838Z",
     "iopub.status.busy": "2021-02-02T20:34:24.192919Z",
     "iopub.status.idle": "2021-02-02T20:34:24.217232Z",
     "shell.execute_reply": "2021-02-02T20:34:24.216671Z"
    },
    "papermill": {
     "duration": 0.095202,
     "end_time": "2021-02-02T20:34:24.217367",
     "exception": false,
     "start_time": "2021-02-02T20:34:24.122165",
     "status": "completed"
    },
    "tags": []
   },
   "outputs": [
    {
     "data": {
      "text/html": [
       "<div>\n",
       "<style scoped>\n",
       "    .dataframe tbody tr th:only-of-type {\n",
       "        vertical-align: middle;\n",
       "    }\n",
       "\n",
       "    .dataframe tbody tr th {\n",
       "        vertical-align: top;\n",
       "    }\n",
       "\n",
       "    .dataframe thead th {\n",
       "        text-align: right;\n",
       "    }\n",
       "</style>\n",
       "<table border=\"1\" class=\"dataframe\">\n",
       "  <thead>\n",
       "    <tr style=\"text-align: right;\">\n",
       "      <th></th>\n",
       "      <th>client_id</th>\n",
       "      <th>app_date</th>\n",
       "      <th>sex</th>\n",
       "      <th>age</th>\n",
       "      <th>car</th>\n",
       "      <th>car_type</th>\n",
       "      <th>decline_app_cnt</th>\n",
       "      <th>good_work</th>\n",
       "      <th>score_bki</th>\n",
       "      <th>bki_request_cnt</th>\n",
       "      <th>...</th>\n",
       "      <th>work_address_2</th>\n",
       "      <th>work_address_3</th>\n",
       "      <th>sna_1</th>\n",
       "      <th>sna_2</th>\n",
       "      <th>sna_3</th>\n",
       "      <th>sna_4</th>\n",
       "      <th>first_time_1</th>\n",
       "      <th>first_time_2</th>\n",
       "      <th>first_time_3</th>\n",
       "      <th>first_time_4</th>\n",
       "    </tr>\n",
       "  </thead>\n",
       "  <tbody>\n",
       "    <tr>\n",
       "      <th>0</th>\n",
       "      <td>74835</td>\n",
       "      <td>4.394449</td>\n",
       "      <td>1</td>\n",
       "      <td>3.401197</td>\n",
       "      <td>1</td>\n",
       "      <td>1</td>\n",
       "      <td>0.000000</td>\n",
       "      <td>0</td>\n",
       "      <td>1.185366</td>\n",
       "      <td>1.386294</td>\n",
       "      <td>...</td>\n",
       "      <td>1</td>\n",
       "      <td>0</td>\n",
       "      <td>1</td>\n",
       "      <td>0</td>\n",
       "      <td>0</td>\n",
       "      <td>0</td>\n",
       "      <td>0</td>\n",
       "      <td>0</td>\n",
       "      <td>0</td>\n",
       "      <td>1</td>\n",
       "    </tr>\n",
       "    <tr>\n",
       "      <th>1</th>\n",
       "      <td>17527</td>\n",
       "      <td>3.178054</td>\n",
       "      <td>0</td>\n",
       "      <td>3.688879</td>\n",
       "      <td>0</td>\n",
       "      <td>0</td>\n",
       "      <td>1.791759</td>\n",
       "      <td>0</td>\n",
       "      <td>0.918288</td>\n",
       "      <td>1.098612</td>\n",
       "      <td>...</td>\n",
       "      <td>1</td>\n",
       "      <td>0</td>\n",
       "      <td>0</td>\n",
       "      <td>0</td>\n",
       "      <td>0</td>\n",
       "      <td>1</td>\n",
       "      <td>0</td>\n",
       "      <td>0</td>\n",
       "      <td>1</td>\n",
       "      <td>0</td>\n",
       "    </tr>\n",
       "    <tr>\n",
       "      <th>2</th>\n",
       "      <td>75683</td>\n",
       "      <td>4.406719</td>\n",
       "      <td>1</td>\n",
       "      <td>3.931826</td>\n",
       "      <td>1</td>\n",
       "      <td>1</td>\n",
       "      <td>0.000000</td>\n",
       "      <td>0</td>\n",
       "      <td>0.990039</td>\n",
       "      <td>0.693147</td>\n",
       "      <td>...</td>\n",
       "      <td>1</td>\n",
       "      <td>0</td>\n",
       "      <td>1</td>\n",
       "      <td>0</td>\n",
       "      <td>0</td>\n",
       "      <td>0</td>\n",
       "      <td>0</td>\n",
       "      <td>0</td>\n",
       "      <td>1</td>\n",
       "      <td>0</td>\n",
       "    </tr>\n",
       "    <tr>\n",
       "      <th>3</th>\n",
       "      <td>26883</td>\n",
       "      <td>3.526361</td>\n",
       "      <td>1</td>\n",
       "      <td>4.043051</td>\n",
       "      <td>0</td>\n",
       "      <td>0</td>\n",
       "      <td>0.000000</td>\n",
       "      <td>0</td>\n",
       "      <td>1.216153</td>\n",
       "      <td>0.693147</td>\n",
       "      <td>...</td>\n",
       "      <td>1</td>\n",
       "      <td>0</td>\n",
       "      <td>1</td>\n",
       "      <td>0</td>\n",
       "      <td>0</td>\n",
       "      <td>0</td>\n",
       "      <td>0</td>\n",
       "      <td>0</td>\n",
       "      <td>1</td>\n",
       "      <td>0</td>\n",
       "    </tr>\n",
       "    <tr>\n",
       "      <th>4</th>\n",
       "      <td>28862</td>\n",
       "      <td>3.555348</td>\n",
       "      <td>0</td>\n",
       "      <td>3.663562</td>\n",
       "      <td>0</td>\n",
       "      <td>0</td>\n",
       "      <td>0.000000</td>\n",
       "      <td>0</td>\n",
       "      <td>1.249186</td>\n",
       "      <td>0.000000</td>\n",
       "      <td>...</td>\n",
       "      <td>0</td>\n",
       "      <td>1</td>\n",
       "      <td>1</td>\n",
       "      <td>0</td>\n",
       "      <td>0</td>\n",
       "      <td>0</td>\n",
       "      <td>0</td>\n",
       "      <td>0</td>\n",
       "      <td>1</td>\n",
       "      <td>0</td>\n",
       "    </tr>\n",
       "  </tbody>\n",
       "</table>\n",
       "<p>5 rows × 40 columns</p>\n",
       "</div>"
      ],
      "text/plain": [
       "   client_id  app_date  sex       age  car  car_type  decline_app_cnt  \\\n",
       "0      74835  4.394449    1  3.401197    1         1         0.000000   \n",
       "1      17527  3.178054    0  3.688879    0         0         1.791759   \n",
       "2      75683  4.406719    1  3.931826    1         1         0.000000   \n",
       "3      26883  3.526361    1  4.043051    0         0         0.000000   \n",
       "4      28862  3.555348    0  3.663562    0         0         0.000000   \n",
       "\n",
       "   good_work  score_bki  bki_request_cnt  ...  work_address_2  work_address_3  \\\n",
       "0          0   1.185366         1.386294  ...               1               0   \n",
       "1          0   0.918288         1.098612  ...               1               0   \n",
       "2          0   0.990039         0.693147  ...               1               0   \n",
       "3          0   1.216153         0.693147  ...               1               0   \n",
       "4          0   1.249186         0.000000  ...               0               1   \n",
       "\n",
       "   sna_1  sna_2  sna_3  sna_4  first_time_1  first_time_2  first_time_3  \\\n",
       "0      1      0      0      0             0             0             0   \n",
       "1      0      0      0      1             0             0             1   \n",
       "2      1      0      0      0             0             0             1   \n",
       "3      1      0      0      0             0             0             1   \n",
       "4      1      0      0      0             0             0             1   \n",
       "\n",
       "   first_time_4  \n",
       "0             1  \n",
       "1             0  \n",
       "2             0  \n",
       "3             0  \n",
       "4             0  \n",
       "\n",
       "[5 rows x 40 columns]"
      ]
     },
     "execution_count": 27,
     "metadata": {},
     "output_type": "execute_result"
    }
   ],
   "source": [
    "df.head()"
   ]
  },
  {
   "cell_type": "code",
   "execution_count": 28,
   "metadata": {
    "execution": {
     "iopub.execute_input": "2021-02-02T20:34:24.356311Z",
     "iopub.status.busy": "2021-02-02T20:34:24.355672Z",
     "iopub.status.idle": "2021-02-02T20:34:24.373259Z",
     "shell.execute_reply": "2021-02-02T20:34:24.373811Z"
    },
    "papermill": {
     "duration": 0.089816,
     "end_time": "2021-02-02T20:34:24.373987",
     "exception": false,
     "start_time": "2021-02-02T20:34:24.284171",
     "status": "completed"
    },
    "tags": []
   },
   "outputs": [],
   "source": [
    "# удалим столбец client_id, т.к. по сути это просто порядковый номер\n",
    "df = df.drop('client_id', axis=1)"
   ]
  },
  {
   "cell_type": "markdown",
   "metadata": {
    "papermill": {
     "duration": 0.066154,
     "end_time": "2021-02-02T20:34:24.506825",
     "exception": false,
     "start_time": "2021-02-02T20:34:24.440671",
     "status": "completed"
    },
    "tags": []
   },
   "source": [
    "# Подготовка данных к машинному обучению"
   ]
  },
  {
   "cell_type": "code",
   "execution_count": 29,
   "metadata": {
    "execution": {
     "iopub.execute_input": "2021-02-02T20:34:24.643619Z",
     "iopub.status.busy": "2021-02-02T20:34:24.642982Z",
     "iopub.status.idle": "2021-02-02T20:34:24.666620Z",
     "shell.execute_reply": "2021-02-02T20:34:24.667223Z"
    },
    "papermill": {
     "duration": 0.093456,
     "end_time": "2021-02-02T20:34:24.667399",
     "exception": false,
     "start_time": "2021-02-02T20:34:24.573943",
     "status": "completed"
    },
    "tags": []
   },
   "outputs": [],
   "source": [
    "# разделим снова на train_df и test_df\n",
    "train_data = df[df['sample']== 1].drop(['sample'], axis=1)\n",
    "test_data = df[df['sample']== 0].drop(['sample'], axis=1)"
   ]
  },
  {
   "cell_type": "code",
   "execution_count": 30,
   "metadata": {
    "execution": {
     "iopub.execute_input": "2021-02-02T20:34:24.805883Z",
     "iopub.status.busy": "2021-02-02T20:34:24.805025Z",
     "iopub.status.idle": "2021-02-02T20:34:24.823393Z",
     "shell.execute_reply": "2021-02-02T20:34:24.823920Z"
    },
    "papermill": {
     "duration": 0.089111,
     "end_time": "2021-02-02T20:34:24.824107",
     "exception": false,
     "start_time": "2021-02-02T20:34:24.734996",
     "status": "completed"
    },
    "tags": []
   },
   "outputs": [],
   "source": [
    "X = train_data.drop(['default'], axis=1).values\n",
    "y = train_data['default'].values"
   ]
  },
  {
   "cell_type": "code",
   "execution_count": 31,
   "metadata": {
    "execution": {
     "iopub.execute_input": "2021-02-02T20:34:24.963792Z",
     "iopub.status.busy": "2021-02-02T20:34:24.963099Z",
     "iopub.status.idle": "2021-02-02T20:34:24.996336Z",
     "shell.execute_reply": "2021-02-02T20:34:24.995807Z"
    },
    "papermill": {
     "duration": 0.104648,
     "end_time": "2021-02-02T20:34:24.996497",
     "exception": false,
     "start_time": "2021-02-02T20:34:24.891849",
     "status": "completed"
    },
    "tags": []
   },
   "outputs": [],
   "source": [
    "# разделим на тренировочные и валидационные выборки\n",
    "X_train, X_valid, y_train, y_valid = train_test_split(X, y, test_size=0.20, random_state=RANDOM_SEED)"
   ]
  },
  {
   "cell_type": "code",
   "execution_count": 32,
   "metadata": {
    "execution": {
     "iopub.execute_input": "2021-02-02T20:34:25.135927Z",
     "iopub.status.busy": "2021-02-02T20:34:25.135309Z",
     "iopub.status.idle": "2021-02-02T20:34:25.138268Z",
     "shell.execute_reply": "2021-02-02T20:34:25.138886Z"
    },
    "papermill": {
     "duration": 0.075129,
     "end_time": "2021-02-02T20:34:25.139048",
     "exception": false,
     "start_time": "2021-02-02T20:34:25.063919",
     "status": "completed"
    },
    "tags": []
   },
   "outputs": [],
   "source": [
    "lr = LogisticRegression(random_state=RANDOM_SEED, max_iter = 1000)"
   ]
  },
  {
   "cell_type": "code",
   "execution_count": 33,
   "metadata": {
    "execution": {
     "iopub.execute_input": "2021-02-02T20:34:25.276539Z",
     "iopub.status.busy": "2021-02-02T20:34:25.275917Z",
     "iopub.status.idle": "2021-02-02T20:34:27.830924Z",
     "shell.execute_reply": "2021-02-02T20:34:27.830411Z"
    },
    "papermill": {
     "duration": 2.624277,
     "end_time": "2021-02-02T20:34:27.831079",
     "exception": false,
     "start_time": "2021-02-02T20:34:25.206802",
     "status": "completed"
    },
    "tags": []
   },
   "outputs": [
    {
     "data": {
      "text/plain": [
       "LogisticRegression(max_iter=1000, random_state=42)"
      ]
     },
     "execution_count": 33,
     "metadata": {},
     "output_type": "execute_result"
    }
   ],
   "source": [
    "lr.fit(X_train, y_train)"
   ]
  },
  {
   "cell_type": "code",
   "execution_count": 34,
   "metadata": {
    "execution": {
     "iopub.execute_input": "2021-02-02T20:34:27.972591Z",
     "iopub.status.busy": "2021-02-02T20:34:27.972033Z",
     "iopub.status.idle": "2021-02-02T20:34:27.978203Z",
     "shell.execute_reply": "2021-02-02T20:34:27.977587Z"
    },
    "papermill": {
     "duration": 0.078943,
     "end_time": "2021-02-02T20:34:27.978333",
     "exception": false,
     "start_time": "2021-02-02T20:34:27.899390",
     "status": "completed"
    },
    "tags": []
   },
   "outputs": [],
   "source": [
    "probs = lr.predict_proba(X_valid)\n",
    "y_pred_probs = probs[:,1]\n",
    "\n",
    "y_pred = lr.predict(X_valid)"
   ]
  },
  {
   "cell_type": "code",
   "execution_count": 35,
   "metadata": {
    "execution": {
     "iopub.execute_input": "2021-02-02T20:34:28.118680Z",
     "iopub.status.busy": "2021-02-02T20:34:28.118016Z",
     "iopub.status.idle": "2021-02-02T20:34:28.144894Z",
     "shell.execute_reply": "2021-02-02T20:34:28.144370Z"
    },
    "papermill": {
     "duration": 0.099205,
     "end_time": "2021-02-02T20:34:28.145051",
     "exception": false,
     "start_time": "2021-02-02T20:34:28.045846",
     "status": "completed"
    },
    "tags": []
   },
   "outputs": [
    {
     "data": {
      "text/html": [
       "<div>\n",
       "<style scoped>\n",
       "    .dataframe tbody tr th:only-of-type {\n",
       "        vertical-align: middle;\n",
       "    }\n",
       "\n",
       "    .dataframe tbody tr th {\n",
       "        vertical-align: top;\n",
       "    }\n",
       "\n",
       "    .dataframe thead th {\n",
       "        text-align: right;\n",
       "    }\n",
       "</style>\n",
       "<table border=\"1\" class=\"dataframe\">\n",
       "  <thead>\n",
       "    <tr style=\"text-align: right;\">\n",
       "      <th></th>\n",
       "      <th>model_1</th>\n",
       "    </tr>\n",
       "  </thead>\n",
       "  <tbody>\n",
       "    <tr>\n",
       "      <th>accuracy</th>\n",
       "      <td>0.874661</td>\n",
       "    </tr>\n",
       "    <tr>\n",
       "      <th>precision</th>\n",
       "      <td>0.394495</td>\n",
       "    </tr>\n",
       "    <tr>\n",
       "      <th>recall</th>\n",
       "      <td>0.023536</td>\n",
       "    </tr>\n",
       "    <tr>\n",
       "      <th>f1_score</th>\n",
       "      <td>0.044421</td>\n",
       "    </tr>\n",
       "    <tr>\n",
       "      <th>ROC_AUC</th>\n",
       "      <td>0.743731</td>\n",
       "    </tr>\n",
       "  </tbody>\n",
       "</table>\n",
       "</div>"
      ],
      "text/plain": [
       "            model_1\n",
       "accuracy   0.874661\n",
       "precision  0.394495\n",
       "recall     0.023536\n",
       "f1_score   0.044421\n",
       "ROC_AUC    0.743731"
      ]
     },
     "execution_count": 35,
     "metadata": {},
     "output_type": "execute_result"
    }
   ],
   "source": [
    "# посмотрим метрики\n",
    "summary_metrics(summary,'model_1',y_valid,y_pred,y_pred_probs)"
   ]
  },
  {
   "cell_type": "code",
   "execution_count": 36,
   "metadata": {
    "execution": {
     "iopub.execute_input": "2021-02-02T20:34:28.284440Z",
     "iopub.status.busy": "2021-02-02T20:34:28.283485Z",
     "iopub.status.idle": "2021-02-02T20:34:28.454014Z",
     "shell.execute_reply": "2021-02-02T20:34:28.454517Z"
    },
    "papermill": {
     "duration": 0.241314,
     "end_time": "2021-02-02T20:34:28.454712",
     "exception": false,
     "start_time": "2021-02-02T20:34:28.213398",
     "status": "completed"
    },
    "tags": []
   },
   "outputs": [
    {
     "data": {
      "image/png": "[encoded data removed]",
      "text/plain": [
       "<Figure size 432x288 with 1 Axes>"
      ]
     },
     "metadata": {
      "needs_background": "light"
     },
     "output_type": "display_data"
    }
   ],
   "source": [
    "# построим кривую roc\n",
    "roc_auc_curve(y_valid, y_pred_probs)"
   ]
  },
  {
   "cell_type": "code",
   "execution_count": 37,
   "metadata": {
    "execution": {
     "iopub.execute_input": "2021-02-02T20:34:28.602415Z",
     "iopub.status.busy": "2021-02-02T20:34:28.601450Z",
     "iopub.status.idle": "2021-02-02T20:34:28.629863Z",
     "shell.execute_reply": "2021-02-02T20:34:28.629347Z"
    },
    "papermill": {
     "duration": 0.102275,
     "end_time": "2021-02-02T20:34:28.630001",
     "exception": false,
     "start_time": "2021-02-02T20:34:28.527726",
     "status": "completed"
    },
    "tags": []
   },
   "outputs": [
    {
     "name": "stdout",
     "output_type": "stream",
     "text": [
      "Positive: 1827, Negative: 12933\n",
      "43 66\n",
      "1784 12867\n"
     ]
    }
   ],
   "source": [
    "# и выведем confusion matrix\n",
    "conf_mat(y_valid, y_pred)"
   ]
  },
  {
   "cell_type": "markdown",
   "metadata": {
    "papermill": {
     "duration": 0.070587,
     "end_time": "2021-02-02T20:34:28.770793",
     "exception": false,
     "start_time": "2021-02-02T20:34:28.700206",
     "status": "completed"
    },
    "tags": []
   },
   "source": [
    "**среди 1827 дефолтов наша модель предсказала только 42 и всех дефолтных клентов мы предсказали как не дефолтных, это ошибка первого рода**\n",
    "\n",
    "**Попробуем улучшить модель, подобрав оптимальные параметры**"
   ]
  },
  {
   "cell_type": "code",
   "execution_count": 38,
   "metadata": {
    "execution": {
     "iopub.execute_input": "2021-02-02T20:34:28.919348Z",
     "iopub.status.busy": "2021-02-02T20:34:28.918425Z",
     "iopub.status.idle": "2021-02-02T20:34:28.920830Z",
     "shell.execute_reply": "2021-02-02T20:34:28.921392Z"
    },
    "papermill": {
     "duration": 0.080424,
     "end_time": "2021-02-02T20:34:28.921544",
     "exception": false,
     "start_time": "2021-02-02T20:34:28.841120",
     "status": "completed"
    },
    "tags": []
   },
   "outputs": [],
   "source": [
    "C = np.logspace(-1, 3, 10)\n",
    "iter_ = 1000\n",
    "epsilon_stop = 1e-3\n",
    " \n",
    "hyperparameters = [\n",
    "    {'penalty': ['l1'], 'C': C, 'max_iter':[iter_],'tol':[epsilon_stop]},\n",
    "    {'penalty': ['l2'], 'C': C, 'max_iter':[iter_],'tol':[epsilon_stop]},\n",
    "    {'penalty': ['none'], 'max_iter':[iter_],'tol':[epsilon_stop]},\n",
    "]\n",
    "\n",
    "model = LogisticRegression(class_weight = 'balanced', random_state = RANDOM_SEED)"
   ]
  },
  {
   "cell_type": "code",
   "execution_count": 39,
   "metadata": {
    "execution": {
     "iopub.execute_input": "2021-02-02T20:34:29.066172Z",
     "iopub.status.busy": "2021-02-02T20:34:29.065249Z",
     "iopub.status.idle": "2021-02-02T20:35:12.092468Z",
     "shell.execute_reply": "2021-02-02T20:35:12.092991Z"
    },
    "papermill": {
     "duration": 43.100655,
     "end_time": "2021-02-02T20:35:12.093163",
     "exception": false,
     "start_time": "2021-02-02T20:34:28.992508",
     "status": "completed"
    },
    "tags": []
   },
   "outputs": [
    {
     "name": "stdout",
     "output_type": "stream",
     "text": [
      "Лучшие значения параметров:\n",
      "  C = 0.2782559402207124,\n",
      "  class_weight = balanced,\n",
      "  dual = False,\n",
      "  fit_intercept = True,\n",
      "  intercept_scaling = 1,\n",
      "  l1_ratio = None,\n",
      "  max_iter = 1000,\n",
      "  multi_class = auto,\n",
      "  n_jobs = None,\n",
      "  penalty = l2,\n",
      "  random_state = 42,\n",
      "  solver = lbfgs,\n",
      "  tol = 0.001,\n",
      "  verbose = 0,\n",
      "  warm_start = False,\n"
     ]
    }
   ],
   "source": [
    "# Обучаем модель\n",
    "gridsearch = GridSearchCV(model, hyperparameters, scoring='f1', n_jobs=-1, cv=5)\n",
    "gridsearch.fit(X_train, y_train)\n",
    "model_best_params = gridsearch.best_estimator_\n",
    "\n",
    "# Печатаем параметры\n",
    "best_params = model_best_params.get_params()\n",
    "print(f'Лучшие значения параметров:') \n",
    "for param_name in best_params.keys():\n",
    "        print(f'  {param_name} = {best_params[param_name]},')"
   ]
  },
  {
   "cell_type": "code",
   "execution_count": 40,
   "metadata": {
    "execution": {
     "iopub.execute_input": "2021-02-02T20:35:12.241932Z",
     "iopub.status.busy": "2021-02-02T20:35:12.241191Z",
     "iopub.status.idle": "2021-02-02T20:35:12.244011Z",
     "shell.execute_reply": "2021-02-02T20:35:12.244465Z"
    },
    "papermill": {
     "duration": 0.080688,
     "end_time": "2021-02-02T20:35:12.244652",
     "exception": false,
     "start_time": "2021-02-02T20:35:12.163964",
     "status": "completed"
    },
    "tags": []
   },
   "outputs": [],
   "source": [
    "# обучаем модель с подобранными параметрами\n",
    "model_best_params = LogisticRegression(C = 0.2782559402207124,\n",
    "                                       class_weight = 'balanced',\n",
    "                                       dual = False,\n",
    "                                       fit_intercept = True,\n",
    "                                       intercept_scaling = 1,\n",
    "                                       l1_ratio = None,\n",
    "                                       max_iter = 1000,\n",
    "                                       multi_class = 'auto',\n",
    "                                       n_jobs = None,\n",
    "                                       penalty = 'l2',\n",
    "                                       random_state = 42,\n",
    "                                       solver = 'lbfgs',\n",
    "                                       tol = 0.001,\n",
    "                                       verbose = 0,\n",
    "                                       warm_start = False,)"
   ]
  },
  {
   "cell_type": "code",
   "execution_count": 41,
   "metadata": {
    "execution": {
     "iopub.execute_input": "2021-02-02T20:35:12.391959Z",
     "iopub.status.busy": "2021-02-02T20:35:12.391249Z",
     "iopub.status.idle": "2021-02-02T20:35:13.629503Z",
     "shell.execute_reply": "2021-02-02T20:35:13.630039Z"
    },
    "papermill": {
     "duration": 1.314297,
     "end_time": "2021-02-02T20:35:13.630248",
     "exception": false,
     "start_time": "2021-02-02T20:35:12.315951",
     "status": "completed"
    },
    "tags": []
   },
   "outputs": [
    {
     "data": {
      "text/plain": [
       "LogisticRegression(C=0.2782559402207124, class_weight='balanced', max_iter=1000,\n",
       "                   random_state=42, tol=0.001)"
      ]
     },
     "execution_count": 41,
     "metadata": {},
     "output_type": "execute_result"
    }
   ],
   "source": [
    "model_best_params.fit(X_train, y_train)"
   ]
  },
  {
   "cell_type": "code",
   "execution_count": 42,
   "metadata": {
    "execution": {
     "iopub.execute_input": "2021-02-02T20:35:13.777837Z",
     "iopub.status.busy": "2021-02-02T20:35:13.777111Z",
     "iopub.status.idle": "2021-02-02T20:35:13.782356Z",
     "shell.execute_reply": "2021-02-02T20:35:13.782794Z"
    },
    "papermill": {
     "duration": 0.081291,
     "end_time": "2021-02-02T20:35:13.782958",
     "exception": false,
     "start_time": "2021-02-02T20:35:13.701667",
     "status": "completed"
    },
    "tags": []
   },
   "outputs": [],
   "source": [
    "probs = model_best_params.predict_proba(X_valid)\n",
    "y_pred_probs = probs[:,1]\n",
    "\n",
    "y_pred = model_best_params.predict(X_valid)"
   ]
  },
  {
   "cell_type": "code",
   "execution_count": 43,
   "metadata": {
    "execution": {
     "iopub.execute_input": "2021-02-02T20:35:13.931454Z",
     "iopub.status.busy": "2021-02-02T20:35:13.930803Z",
     "iopub.status.idle": "2021-02-02T20:35:13.964989Z",
     "shell.execute_reply": "2021-02-02T20:35:13.964342Z"
    },
    "papermill": {
     "duration": 0.110644,
     "end_time": "2021-02-02T20:35:13.965129",
     "exception": false,
     "start_time": "2021-02-02T20:35:13.854485",
     "status": "completed"
    },
    "tags": []
   },
   "outputs": [
    {
     "data": {
      "text/html": [
       "<div>\n",
       "<style scoped>\n",
       "    .dataframe tbody tr th:only-of-type {\n",
       "        vertical-align: middle;\n",
       "    }\n",
       "\n",
       "    .dataframe tbody tr th {\n",
       "        vertical-align: top;\n",
       "    }\n",
       "\n",
       "    .dataframe thead th {\n",
       "        text-align: right;\n",
       "    }\n",
       "</style>\n",
       "<table border=\"1\" class=\"dataframe\">\n",
       "  <thead>\n",
       "    <tr style=\"text-align: right;\">\n",
       "      <th></th>\n",
       "      <th>model_1</th>\n",
       "      <th>second model</th>\n",
       "    </tr>\n",
       "  </thead>\n",
       "  <tbody>\n",
       "    <tr>\n",
       "      <th>accuracy</th>\n",
       "      <td>0.874661</td>\n",
       "      <td>0.673171</td>\n",
       "    </tr>\n",
       "    <tr>\n",
       "      <th>precision</th>\n",
       "      <td>0.394495</td>\n",
       "      <td>0.226900</td>\n",
       "    </tr>\n",
       "    <tr>\n",
       "      <th>recall</th>\n",
       "      <td>0.023536</td>\n",
       "      <td>0.681445</td>\n",
       "    </tr>\n",
       "    <tr>\n",
       "      <th>f1_score</th>\n",
       "      <td>0.044421</td>\n",
       "      <td>0.340443</td>\n",
       "    </tr>\n",
       "    <tr>\n",
       "      <th>ROC_AUC</th>\n",
       "      <td>0.743731</td>\n",
       "      <td>0.743404</td>\n",
       "    </tr>\n",
       "  </tbody>\n",
       "</table>\n",
       "</div>"
      ],
      "text/plain": [
       "            model_1  second model\n",
       "accuracy   0.874661      0.673171\n",
       "precision  0.394495      0.226900\n",
       "recall     0.023536      0.681445\n",
       "f1_score   0.044421      0.340443\n",
       "ROC_AUC    0.743731      0.743404"
      ]
     },
     "execution_count": 43,
     "metadata": {},
     "output_type": "execute_result"
    }
   ],
   "source": [
    "# сравним метрики с предыдущей моделью\n",
    "summary_metrics(summary,'second model',y_valid,y_pred,y_pred_probs)\n"
   ]
  },
  {
   "cell_type": "code",
   "execution_count": 44,
   "metadata": {
    "execution": {
     "iopub.execute_input": "2021-02-02T20:35:14.114771Z",
     "iopub.status.busy": "2021-02-02T20:35:14.114127Z",
     "iopub.status.idle": "2021-02-02T20:35:14.287801Z",
     "shell.execute_reply": "2021-02-02T20:35:14.288244Z"
    },
    "papermill": {
     "duration": 0.250607,
     "end_time": "2021-02-02T20:35:14.288415",
     "exception": false,
     "start_time": "2021-02-02T20:35:14.037808",
     "status": "completed"
    },
    "tags": []
   },
   "outputs": [
    {
     "data": {
      "image/png": "[encoded data removed]",
      "text/plain": [
       "<Figure size 432x288 with 1 Axes>"
      ]
     },
     "metadata": {
      "needs_background": "light"
     },
     "output_type": "display_data"
    }
   ],
   "source": [
    "roc_auc_curve(y_valid, y_pred_probs)"
   ]
  },
  {
   "cell_type": "code",
   "execution_count": 45,
   "metadata": {
    "execution": {
     "iopub.execute_input": "2021-02-02T20:35:14.439464Z",
     "iopub.status.busy": "2021-02-02T20:35:14.438852Z",
     "iopub.status.idle": "2021-02-02T20:35:14.466024Z",
     "shell.execute_reply": "2021-02-02T20:35:14.466459Z"
    },
    "papermill": {
     "duration": 0.105461,
     "end_time": "2021-02-02T20:35:14.466645",
     "exception": false,
     "start_time": "2021-02-02T20:35:14.361184",
     "status": "completed"
    },
    "tags": []
   },
   "outputs": [
    {
     "name": "stdout",
     "output_type": "stream",
     "text": [
      "Positive: 1827, Negative: 12933\n",
      "1245 4242\n",
      "582 8691\n"
     ]
    }
   ],
   "source": [
    "conf_mat(y_valid, y_pred)"
   ]
  },
  {
   "cell_type": "markdown",
   "metadata": {},
   "source": [
    "#### Модель стала намного лучше предсказывать дефолтных клиентов, но хуже угадывать тех, кто не дефолтный.Попробуем применить Undersampling, чтобы сделать нашу выборку сбалансированной"
   ]
  },
  {
   "cell_type": "markdown",
   "metadata": {},
   "source": [
    "#### Попробуем применить Undersampling, чтобы сделать нашу выборку сбалансированной"
   ]
  },
  {
   "cell_type": "code",
   "execution_count": null,
   "metadata": {
    "execution": {
     "iopub.execute_input": "2021-02-02T20:35:14.622981Z",
     "iopub.status.busy": "2021-02-02T20:35:14.622310Z",
     "iopub.status.idle": "2021-02-02T20:35:14.813650Z",
     "shell.execute_reply": "2021-02-02T20:35:14.813076Z"
    },
    "papermill": {
     "duration": 0.271897,
     "end_time": "2021-02-02T20:35:14.813811",
     "exception": false,
     "start_time": "2021-02-02T20:35:14.541914",
     "status": "completed"
    },
    "tags": []
   },
   "outputs": [],
   "source": [
    "from imblearn.under_sampling import RandomUnderSampler"
   ]
  },
  {
   "cell_type": "code",
   "execution_count": 47,
   "metadata": {
    "execution": {
     "iopub.execute_input": "2021-02-02T20:35:14.968942Z",
     "iopub.status.busy": "2021-02-02T20:35:14.967929Z",
     "iopub.status.idle": "2021-02-02T20:35:15.005844Z",
     "shell.execute_reply": "2021-02-02T20:35:15.005166Z"
    },
    "papermill": {
     "duration": 0.116643,
     "end_time": "2021-02-02T20:35:15.005984",
     "exception": false,
     "start_time": "2021-02-02T20:35:14.889341",
     "status": "completed"
    },
    "tags": []
   },
   "outputs": [],
   "source": [
    "rus = RandomUnderSampler(random_state=42)\n",
    "X_us, y_us = rus.fit_resample(X, y)"
   ]
  },
  {
   "cell_type": "code",
   "execution_count": 48,
   "metadata": {
    "execution": {
     "iopub.execute_input": "2021-02-02T20:35:15.160179Z",
     "iopub.status.busy": "2021-02-02T20:35:15.159237Z",
     "iopub.status.idle": "2021-02-02T20:35:15.165448Z",
     "shell.execute_reply": "2021-02-02T20:35:15.165914Z"
    },
    "papermill": {
     "duration": 0.086204,
     "end_time": "2021-02-02T20:35:15.166083",
     "exception": false,
     "start_time": "2021-02-02T20:35:15.079879",
     "status": "completed"
    },
    "tags": []
   },
   "outputs": [],
   "source": [
    "X_train_us, X_test_us, y_train_us, y_test_us = train_test_split(X_us, y_us, test_size=0.10, shuffle = True, random_state=RANDOM_SEED)"
   ]
  },
  {
   "cell_type": "code",
   "execution_count": 49,
   "metadata": {
    "execution": {
     "iopub.execute_input": "2021-02-02T20:35:15.319406Z",
     "iopub.status.busy": "2021-02-02T20:35:15.318532Z",
     "iopub.status.idle": "2021-02-02T20:35:15.321872Z",
     "shell.execute_reply": "2021-02-02T20:35:15.321359Z"
    },
    "papermill": {
     "duration": 0.0823,
     "end_time": "2021-02-02T20:35:15.322007",
     "exception": false,
     "start_time": "2021-02-02T20:35:15.239707",
     "status": "completed"
    },
    "tags": []
   },
   "outputs": [],
   "source": [
    "model_us = LogisticRegression(C = 129.15496650148827,\n",
    "                                      dual = False,\n",
    "                                      fit_intercept = True,\n",
    "                                      intercept_scaling = 1,\n",
    "                                      l1_ratio = None,\n",
    "                                      max_iter = 1000,\n",
    "                                      multi_class = 'auto',\n",
    "                                      n_jobs = None,\n",
    "                                      penalty = 'l2',\n",
    "                                      random_state = 42,\n",
    "                                      solver = 'lbfgs',\n",
    "                                      tol = 0.001,\n",
    "                                      verbose = 0,\n",
    "                                      warm_start = False)"
   ]
  },
  {
   "cell_type": "code",
   "execution_count": 50,
   "metadata": {
    "execution": {
     "iopub.execute_input": "2021-02-02T20:35:15.475475Z",
     "iopub.status.busy": "2021-02-02T20:35:15.474561Z",
     "iopub.status.idle": "2021-02-02T20:35:15.975775Z",
     "shell.execute_reply": "2021-02-02T20:35:15.975031Z"
    },
    "papermill": {
     "duration": 0.580006,
     "end_time": "2021-02-02T20:35:15.975943",
     "exception": false,
     "start_time": "2021-02-02T20:35:15.395937",
     "status": "completed"
    },
    "tags": []
   },
   "outputs": [
    {
     "data": {
      "text/plain": [
       "LogisticRegression(C=129.15496650148827, max_iter=1000, random_state=42,\n",
       "                   tol=0.001)"
      ]
     },
     "execution_count": 50,
     "metadata": {},
     "output_type": "execute_result"
    }
   ],
   "source": [
    "model_us.fit(X_train_us, y_train_us)"
   ]
  },
  {
   "cell_type": "code",
   "execution_count": 51,
   "metadata": {
    "execution": {
     "iopub.execute_input": "2021-02-02T20:35:16.133758Z",
     "iopub.status.busy": "2021-02-02T20:35:16.132805Z",
     "iopub.status.idle": "2021-02-02T20:35:16.136379Z",
     "shell.execute_reply": "2021-02-02T20:35:16.136868Z"
    },
    "papermill": {
     "duration": 0.084482,
     "end_time": "2021-02-02T20:35:16.137036",
     "exception": false,
     "start_time": "2021-02-02T20:35:16.052554",
     "status": "completed"
    },
    "tags": []
   },
   "outputs": [],
   "source": [
    "probs = model_us.predict_proba(X_test_us)\n",
    "y_pred_probs = probs[:,1]\n",
    "\n",
    "y_pred = model_us.predict(X_test_us)"
   ]
  },
  {
   "cell_type": "code",
   "execution_count": 52,
   "metadata": {
    "execution": {
     "iopub.execute_input": "2021-02-02T20:35:16.294674Z",
     "iopub.status.busy": "2021-02-02T20:35:16.293693Z",
     "iopub.status.idle": "2021-02-02T20:35:16.310763Z",
     "shell.execute_reply": "2021-02-02T20:35:16.311204Z"
    },
    "papermill": {
     "duration": 0.097842,
     "end_time": "2021-02-02T20:35:16.311375",
     "exception": false,
     "start_time": "2021-02-02T20:35:16.213533",
     "status": "completed"
    },
    "tags": []
   },
   "outputs": [
    {
     "data": {
      "text/html": [
       "<div>\n",
       "<style scoped>\n",
       "    .dataframe tbody tr th:only-of-type {\n",
       "        vertical-align: middle;\n",
       "    }\n",
       "\n",
       "    .dataframe tbody tr th {\n",
       "        vertical-align: top;\n",
       "    }\n",
       "\n",
       "    .dataframe thead th {\n",
       "        text-align: right;\n",
       "    }\n",
       "</style>\n",
       "<table border=\"1\" class=\"dataframe\">\n",
       "  <thead>\n",
       "    <tr style=\"text-align: right;\">\n",
       "      <th></th>\n",
       "      <th>model_1</th>\n",
       "      <th>second model</th>\n",
       "      <th>model_us</th>\n",
       "    </tr>\n",
       "  </thead>\n",
       "  <tbody>\n",
       "    <tr>\n",
       "      <th>accuracy</th>\n",
       "      <td>0.874661</td>\n",
       "      <td>0.673171</td>\n",
       "      <td>0.680000</td>\n",
       "    </tr>\n",
       "    <tr>\n",
       "      <th>precision</th>\n",
       "      <td>0.394495</td>\n",
       "      <td>0.226900</td>\n",
       "      <td>0.686047</td>\n",
       "    </tr>\n",
       "    <tr>\n",
       "      <th>recall</th>\n",
       "      <td>0.023536</td>\n",
       "      <td>0.681445</td>\n",
       "      <td>0.681723</td>\n",
       "    </tr>\n",
       "    <tr>\n",
       "      <th>f1_score</th>\n",
       "      <td>0.044421</td>\n",
       "      <td>0.340443</td>\n",
       "      <td>0.683878</td>\n",
       "    </tr>\n",
       "    <tr>\n",
       "      <th>ROC_AUC</th>\n",
       "      <td>0.743731</td>\n",
       "      <td>0.743404</td>\n",
       "      <td>0.750380</td>\n",
       "    </tr>\n",
       "  </tbody>\n",
       "</table>\n",
       "</div>"
      ],
      "text/plain": [
       "            model_1  second model  model_us\n",
       "accuracy   0.874661      0.673171  0.680000\n",
       "precision  0.394495      0.226900  0.686047\n",
       "recall     0.023536      0.681445  0.681723\n",
       "f1_score   0.044421      0.340443  0.683878\n",
       "ROC_AUC    0.743731      0.743404  0.750380"
      ]
     },
     "execution_count": 52,
     "metadata": {},
     "output_type": "execute_result"
    }
   ],
   "source": [
    "# сравним метрики с предыдущей моделью\n",
    "summary_metrics(summary,'model_us',y_test_us,y_pred,y_pred_probs)"
   ]
  },
  {
   "cell_type": "code",
   "execution_count": 53,
   "metadata": {
    "execution": {
     "iopub.execute_input": "2021-02-02T20:35:16.467820Z",
     "iopub.status.busy": "2021-02-02T20:35:16.467116Z",
     "iopub.status.idle": "2021-02-02T20:35:16.676859Z",
     "shell.execute_reply": "2021-02-02T20:35:16.676266Z"
    },
    "papermill": {
     "duration": 0.289763,
     "end_time": "2021-02-02T20:35:16.677044",
     "exception": false,
     "start_time": "2021-02-02T20:35:16.387281",
     "status": "completed"
    },
    "tags": []
   },
   "outputs": [
    {
     "data": {
      "image/png": "[encoded data removed]",
      "text/plain": [
       "<Figure size 432x288 with 1 Axes>"
      ]
     },
     "metadata": {
      "needs_background": "light"
     },
     "output_type": "display_data"
    }
   ],
   "source": [
    "roc_auc_curve(y_test_us, y_pred_probs)"
   ]
  },
  {
   "cell_type": "code",
   "execution_count": 54,
   "metadata": {
    "execution": {
     "iopub.execute_input": "2021-02-02T20:35:16.842733Z",
     "iopub.status.busy": "2021-02-02T20:35:16.839011Z",
     "iopub.status.idle": "2021-02-02T20:35:16.846305Z",
     "shell.execute_reply": "2021-02-02T20:35:16.847297Z"
    },
    "papermill": {
     "duration": 0.090491,
     "end_time": "2021-02-02T20:35:16.847462",
     "exception": false,
     "start_time": "2021-02-02T20:35:16.756971",
     "status": "completed"
    },
    "tags": []
   },
   "outputs": [
    {
     "name": "stdout",
     "output_type": "stream",
     "text": [
      "Positive: 952, Negative: 923\n",
      "649 297\n",
      "303 626\n"
     ]
    }
   ],
   "source": [
    "conf_mat(y_test_us, y_pred)\n"
   ]
  },
  {
   "cell_type": "markdown",
   "metadata": {},
   "source": [
    "#### Видим, что у модели все метрики стали намного лучше. отпрааляем на submission"
   ]
  },
  {
   "cell_type": "code",
   "execution_count": 55,
   "metadata": {
    "execution": {
     "iopub.execute_input": "2021-02-02T20:35:17.010944Z",
     "iopub.status.busy": "2021-02-02T20:35:17.010250Z",
     "iopub.status.idle": "2021-02-02T20:35:17.015590Z",
     "shell.execute_reply": "2021-02-02T20:35:17.015104Z"
    },
    "papermill": {
     "duration": 0.090835,
     "end_time": "2021-02-02T20:35:17.015748",
     "exception": false,
     "start_time": "2021-02-02T20:35:16.924913",
     "status": "completed"
    },
    "tags": []
   },
   "outputs": [],
   "source": [
    "X_test = test_data.drop(['default'], axis=1)"
   ]
  },
  {
   "cell_type": "code",
   "execution_count": 56,
   "metadata": {
    "execution": {
     "iopub.execute_input": "2021-02-02T20:35:17.177868Z",
     "iopub.status.busy": "2021-02-02T20:35:17.177200Z",
     "iopub.status.idle": "2021-02-02T20:35:17.187320Z",
     "shell.execute_reply": "2021-02-02T20:35:17.186754Z"
    },
    "papermill": {
     "duration": 0.094118,
     "end_time": "2021-02-02T20:35:17.187472",
     "exception": false,
     "start_time": "2021-02-02T20:35:17.093354",
     "status": "completed"
    },
    "tags": []
   },
   "outputs": [],
   "source": [
    "y_pred_prob = model_us.predict_proba(X_test)[:,1]"
   ]
  },
  {
   "cell_type": "code",
   "execution_count": 57,
   "metadata": {
    "execution": {
     "iopub.execute_input": "2021-02-02T20:35:17.347241Z",
     "iopub.status.busy": "2021-02-02T20:35:17.346641Z",
     "iopub.status.idle": "2021-02-02T20:35:17.349514Z",
     "shell.execute_reply": "2021-02-02T20:35:17.350005Z"
    },
    "papermill": {
     "duration": 0.08556,
     "end_time": "2021-02-02T20:35:17.350174",
     "exception": false,
     "start_time": "2021-02-02T20:35:17.264614",
     "status": "completed"
    },
    "tags": []
   },
   "outputs": [],
   "source": [
    "submit = pd.DataFrame(df_test.client_id)\n",
    "submit['default'] = y_pred_prob\n"
   ]
  },
  {
   "cell_type": "code",
   "execution_count": 58,
   "metadata": {
    "execution": {
     "iopub.execute_input": "2021-02-02T20:35:17.508197Z",
     "iopub.status.busy": "2021-02-02T20:35:17.507541Z",
     "iopub.status.idle": "2021-02-02T20:35:17.646773Z",
     "shell.execute_reply": "2021-02-02T20:35:17.647284Z"
    },
    "papermill": {
     "duration": 0.219917,
     "end_time": "2021-02-02T20:35:17.647479",
     "exception": false,
     "start_time": "2021-02-02T20:35:17.427562",
     "status": "completed"
    },
    "tags": []
   },
   "outputs": [],
   "source": [
    "submit.to_csv('submission_us.csv', index=False)"
   ]
  },
  {
   "cell_type": "code",
   "execution_count": 59,
   "metadata": {
    "execution": {
     "iopub.execute_input": "2021-02-02T20:35:17.806614Z",
     "iopub.status.busy": "2021-02-02T20:35:17.806018Z",
     "iopub.status.idle": "2021-02-02T20:35:17.818076Z",
     "shell.execute_reply": "2021-02-02T20:35:17.817538Z"
    },
    "papermill": {
     "duration": 0.092496,
     "end_time": "2021-02-02T20:35:17.818258",
     "exception": false,
     "start_time": "2021-02-02T20:35:17.725762",
     "status": "completed"
    },
    "tags": []
   },
   "outputs": [
    {
     "data": {
      "text/html": [
       "<div>\n",
       "<style scoped>\n",
       "    .dataframe tbody tr th:only-of-type {\n",
       "        vertical-align: middle;\n",
       "    }\n",
       "\n",
       "    .dataframe tbody tr th {\n",
       "        vertical-align: top;\n",
       "    }\n",
       "\n",
       "    .dataframe thead th {\n",
       "        text-align: right;\n",
       "    }\n",
       "</style>\n",
       "<table border=\"1\" class=\"dataframe\">\n",
       "  <thead>\n",
       "    <tr style=\"text-align: right;\">\n",
       "      <th></th>\n",
       "      <th>client_id</th>\n",
       "      <th>default</th>\n",
       "    </tr>\n",
       "  </thead>\n",
       "  <tbody>\n",
       "    <tr>\n",
       "      <th>0</th>\n",
       "      <td>74835</td>\n",
       "      <td>0.205556</td>\n",
       "    </tr>\n",
       "    <tr>\n",
       "      <th>1</th>\n",
       "      <td>17527</td>\n",
       "      <td>0.760449</td>\n",
       "    </tr>\n",
       "    <tr>\n",
       "      <th>2</th>\n",
       "      <td>75683</td>\n",
       "      <td>0.286052</td>\n",
       "    </tr>\n",
       "    <tr>\n",
       "      <th>3</th>\n",
       "      <td>26883</td>\n",
       "      <td>0.406592</td>\n",
       "    </tr>\n",
       "    <tr>\n",
       "      <th>4</th>\n",
       "      <td>28862</td>\n",
       "      <td>0.145070</td>\n",
       "    </tr>\n",
       "    <tr>\n",
       "      <th>...</th>\n",
       "      <td>...</td>\n",
       "      <td>...</td>\n",
       "    </tr>\n",
       "    <tr>\n",
       "      <th>36344</th>\n",
       "      <td>83775</td>\n",
       "      <td>0.757073</td>\n",
       "    </tr>\n",
       "    <tr>\n",
       "      <th>36345</th>\n",
       "      <td>106254</td>\n",
       "      <td>0.139451</td>\n",
       "    </tr>\n",
       "    <tr>\n",
       "      <th>36346</th>\n",
       "      <td>81852</td>\n",
       "      <td>0.790032</td>\n",
       "    </tr>\n",
       "    <tr>\n",
       "      <th>36347</th>\n",
       "      <td>1971</td>\n",
       "      <td>0.604356</td>\n",
       "    </tr>\n",
       "    <tr>\n",
       "      <th>36348</th>\n",
       "      <td>69044</td>\n",
       "      <td>0.678878</td>\n",
       "    </tr>\n",
       "  </tbody>\n",
       "</table>\n",
       "<p>36349 rows × 2 columns</p>\n",
       "</div>"
      ],
      "text/plain": [
       "       client_id   default\n",
       "0          74835  0.205556\n",
       "1          17527  0.760449\n",
       "2          75683  0.286052\n",
       "3          26883  0.406592\n",
       "4          28862  0.145070\n",
       "...          ...       ...\n",
       "36344      83775  0.757073\n",
       "36345     106254  0.139451\n",
       "36346      81852  0.790032\n",
       "36347       1971  0.604356\n",
       "36348      69044  0.678878\n",
       "\n",
       "[36349 rows x 2 columns]"
      ]
     },
     "execution_count": 59,
     "metadata": {},
     "output_type": "execute_result"
    }
   ],
   "source": [
    "submit"
   ]
  },
  {
   "cell_type": "code",
   "execution_count": null,
   "metadata": {
    "papermill": {
     "duration": 0.078212,
     "end_time": "2021-02-02T20:35:17.974710",
     "exception": false,
     "start_time": "2021-02-02T20:35:17.896498",
     "status": "completed"
    },
    "tags": []
   },
   "outputs": [],
   "source": []
  }
 ],
 "metadata": {
  "kernelspec": {
   "display_name": "Python 3",
   "language": "python",
   "name": "python3"
  },
  "language_info": {
   "codemirror_mode": {
    "name": "ipython",
    "version": 3
   },
   "file_extension": ".py",
   "mimetype": "text/x-python",
   "name": "python",
   "nbconvert_exporter": "python",
   "pygments_lexer": "ipython3",
   "version": "3.8.5"
  },
  "papermill": {
   "default_parameters": {},
   "duration": 78.206563,
   "end_time": "2021-02-02T20:35:18.862896",
   "environment_variables": {},
   "exception": null,
   "input_path": "__notebook__.ipynb",
   "output_path": "__notebook__.ipynb",
   "parameters": {},
   "start_time": "2021-02-02T20:34:00.656333",
   "version": "2.2.2"
  }
 },
 "nbformat": 4,
 "nbformat_minor": 4
}
