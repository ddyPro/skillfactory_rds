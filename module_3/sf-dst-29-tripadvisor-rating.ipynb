{
 "cells": [
  {
   "cell_type": "markdown",
   "metadata": {
    "papermill": {
     "duration": 0.028587,
     "end_time": "2020-12-02T21:54:35.718654",
     "exception": false,
     "start_time": "2020-12-02T21:54:35.690067",
     "status": "completed"
    },
    "tags": []
   },
   "source": [
    "# Import"
   ]
  },
  {
   "cell_type": "code",
   "execution_count": 1,
   "metadata": {
    "_cell_guid": "b1076dfc-b9ad-4769-8c92-a6c4dae69d19",
    "_uuid": "8f2839f25d086af736a60e9eeb907d3b93b6e0e5",
    "execution": {
     "iopub.execute_input": "2020-12-02T21:54:35.779405Z",
     "iopub.status.busy": "2020-12-02T21:54:35.778328Z",
     "iopub.status.idle": "2020-12-02T21:54:35.783594Z",
     "shell.execute_reply": "2020-12-02T21:54:35.782910Z"
    },
    "papermill": {
     "duration": 0.037987,
     "end_time": "2020-12-02T21:54:35.783709",
     "exception": false,
     "start_time": "2020-12-02T21:54:35.745722",
     "status": "completed"
    },
    "tags": []
   },
   "outputs": [
    {
     "name": "stdout",
     "output_type": "stream",
     "text": [
      "/kaggle/input/sf-dst-restaurant-rating/sample_submission.csv\n",
      "/kaggle/input/sf-dst-restaurant-rating/main_task.csv\n",
      "/kaggle/input/sf-dst-restaurant-rating/kaggle_task.csv\n"
     ]
    }
   ],
   "source": [
    "# This Python 3 environment comes with many helpful analytics libraries installed\n",
    "# It is defined by the kaggle/python Docker image: https://github.com/kaggle/docker-python\n",
    "# For example, here's several helpful packages to load\n",
    "\n",
    "import numpy as np # linear algebra\n",
    "import pandas as pd # data processing, CSV file I/O (e.g. pd.read_csv)\n",
    "\n",
    "# Input data files are available in the read-only \"../input/\" directory\n",
    "# For example, running this (by clicking run or pressing Shift+Enter) will list all files under the input directory\n",
    "\n",
    "import os\n",
    "for dirname, _, filenames in os.walk('/kaggle/input'):\n",
    "    for filename in filenames:\n",
    "        print(os.path.join(dirname, filename))"
   ]
  },
  {
   "cell_type": "code",
   "execution_count": 2,
   "metadata": {
    "_cell_guid": "79c7e3d0-c299-4dcb-8224-4455121ee9b0",
    "_uuid": "d629ff2d2480ee46fbb7e2d37f6b5fab8052498a",
    "execution": {
     "iopub.execute_input": "2020-12-02T21:54:35.846747Z",
     "iopub.status.busy": "2020-12-02T21:54:35.845962Z",
     "iopub.status.idle": "2020-12-02T21:54:37.339364Z",
     "shell.execute_reply": "2020-12-02T21:54:37.338773Z"
    },
    "papermill": {
     "duration": 1.527605,
     "end_time": "2020-12-02T21:54:37.339497",
     "exception": false,
     "start_time": "2020-12-02T21:54:35.811892",
     "status": "completed"
    },
    "tags": []
   },
   "outputs": [],
   "source": [
    "from plotly.offline import init_notebook_mode,plot,iplot\n",
    "from sklearn.preprocessing import LabelEncoder, MultiLabelBinarizer\n",
    "from sklearn.model_selection import train_test_split\n",
    "from datetime import datetime as dt\n",
    "from datetime import date\n",
    "import re \n",
    "import matplotlib.pyplot as plt\n",
    "import seaborn as sns \n",
    "%matplotlib inline"
   ]
  },
  {
   "cell_type": "code",
   "execution_count": 3,
   "metadata": {
    "execution": {
     "iopub.execute_input": "2020-12-02T21:54:37.401063Z",
     "iopub.status.busy": "2020-12-02T21:54:37.400205Z",
     "iopub.status.idle": "2020-12-02T21:54:40.911992Z",
     "shell.execute_reply": "2020-12-02T21:54:40.911433Z"
    },
    "papermill": {
     "duration": 3.544578,
     "end_time": "2020-12-02T21:54:40.912133",
     "exception": false,
     "start_time": "2020-12-02T21:54:37.367555",
     "status": "completed"
    },
    "tags": []
   },
   "outputs": [],
   "source": [
    "# Фиксируем RANDOM_SEED и версию пакетов, чтобы эксперименты были воспроизводимы:\n",
    "RANDOM_SEED = 42\n",
    "CURRENT_DATE = '03/12/2020'\n",
    "\n",
    "!pip freeze > requirements.txt"
   ]
  },
  {
   "cell_type": "markdown",
   "metadata": {
    "papermill": {
     "duration": 0.026857,
     "end_time": "2020-12-02T21:54:40.966575",
     "exception": false,
     "start_time": "2020-12-02T21:54:40.939718",
     "status": "completed"
    },
    "tags": []
   },
   "source": [
    "# Loading data"
   ]
  },
  {
   "cell_type": "code",
   "execution_count": 4,
   "metadata": {
    "execution": {
     "iopub.execute_input": "2020-12-02T21:54:41.031703Z",
     "iopub.status.busy": "2020-12-02T21:54:41.031006Z",
     "iopub.status.idle": "2020-12-02T21:54:41.467514Z",
     "shell.execute_reply": "2020-12-02T21:54:41.467956Z"
    },
    "papermill": {
     "duration": 0.47402,
     "end_time": "2020-12-02T21:54:41.468101",
     "exception": false,
     "start_time": "2020-12-02T21:54:40.994081",
     "status": "completed"
    },
    "tags": []
   },
   "outputs": [
    {
     "data": {
      "text/html": [
       "<div>\n",
       "<style scoped>\n",
       "    .dataframe tbody tr th:only-of-type {\n",
       "        vertical-align: middle;\n",
       "    }\n",
       "\n",
       "    .dataframe tbody tr th {\n",
       "        vertical-align: top;\n",
       "    }\n",
       "\n",
       "    .dataframe thead th {\n",
       "        text-align: right;\n",
       "    }\n",
       "</style>\n",
       "<table border=\"1\" class=\"dataframe\">\n",
       "  <thead>\n",
       "    <tr style=\"text-align: right;\">\n",
       "      <th></th>\n",
       "      <th>Restaurant_id</th>\n",
       "      <th>City</th>\n",
       "      <th>Cuisine Style</th>\n",
       "      <th>Ranking</th>\n",
       "      <th>Rating</th>\n",
       "      <th>Price Range</th>\n",
       "      <th>Number of Reviews</th>\n",
       "      <th>Reviews</th>\n",
       "      <th>URL_TA</th>\n",
       "      <th>ID_TA</th>\n",
       "      <th>sample</th>\n",
       "    </tr>\n",
       "  </thead>\n",
       "  <tbody>\n",
       "    <tr>\n",
       "      <th>0</th>\n",
       "      <td>id_5569</td>\n",
       "      <td>Paris</td>\n",
       "      <td>['European', 'French', 'International']</td>\n",
       "      <td>5570.0</td>\n",
       "      <td>3.5</td>\n",
       "      <td>$$ - $$$</td>\n",
       "      <td>194.0</td>\n",
       "      <td>[['Good food at your doorstep', 'A good hotel ...</td>\n",
       "      <td>/Restaurant_Review-g187147-d1912643-Reviews-R_...</td>\n",
       "      <td>d1912643</td>\n",
       "      <td>1</td>\n",
       "    </tr>\n",
       "    <tr>\n",
       "      <th>1</th>\n",
       "      <td>id_1535</td>\n",
       "      <td>Stockholm</td>\n",
       "      <td>NaN</td>\n",
       "      <td>1537.0</td>\n",
       "      <td>4.0</td>\n",
       "      <td>NaN</td>\n",
       "      <td>10.0</td>\n",
       "      <td>[['Unique cuisine', 'Delicious Nepalese food']...</td>\n",
       "      <td>/Restaurant_Review-g189852-d7992032-Reviews-Bu...</td>\n",
       "      <td>d7992032</td>\n",
       "      <td>1</td>\n",
       "    </tr>\n",
       "    <tr>\n",
       "      <th>2</th>\n",
       "      <td>id_352</td>\n",
       "      <td>London</td>\n",
       "      <td>['Japanese', 'Sushi', 'Asian', 'Grill', 'Veget...</td>\n",
       "      <td>353.0</td>\n",
       "      <td>4.5</td>\n",
       "      <td>$$$$</td>\n",
       "      <td>688.0</td>\n",
       "      <td>[['Catch up with friends', 'Not exceptional'],...</td>\n",
       "      <td>/Restaurant_Review-g186338-d8632781-Reviews-RO...</td>\n",
       "      <td>d8632781</td>\n",
       "      <td>1</td>\n",
       "    </tr>\n",
       "    <tr>\n",
       "      <th>3</th>\n",
       "      <td>id_3456</td>\n",
       "      <td>Berlin</td>\n",
       "      <td>NaN</td>\n",
       "      <td>3458.0</td>\n",
       "      <td>5.0</td>\n",
       "      <td>NaN</td>\n",
       "      <td>3.0</td>\n",
       "      <td>[[], []]</td>\n",
       "      <td>/Restaurant_Review-g187323-d1358776-Reviews-Es...</td>\n",
       "      <td>d1358776</td>\n",
       "      <td>1</td>\n",
       "    </tr>\n",
       "    <tr>\n",
       "      <th>4</th>\n",
       "      <td>id_615</td>\n",
       "      <td>Munich</td>\n",
       "      <td>['German', 'Central European', 'Vegetarian Fri...</td>\n",
       "      <td>621.0</td>\n",
       "      <td>4.0</td>\n",
       "      <td>$$ - $$$</td>\n",
       "      <td>84.0</td>\n",
       "      <td>[['Best place to try a Bavarian food', 'Nice b...</td>\n",
       "      <td>/Restaurant_Review-g187309-d6864963-Reviews-Au...</td>\n",
       "      <td>d6864963</td>\n",
       "      <td>1</td>\n",
       "    </tr>\n",
       "  </tbody>\n",
       "</table>\n",
       "</div>"
      ],
      "text/plain": [
       "  Restaurant_id       City                                      Cuisine Style  \\\n",
       "0       id_5569      Paris            ['European', 'French', 'International']   \n",
       "1       id_1535  Stockholm                                                NaN   \n",
       "2        id_352     London  ['Japanese', 'Sushi', 'Asian', 'Grill', 'Veget...   \n",
       "3       id_3456     Berlin                                                NaN   \n",
       "4        id_615     Munich  ['German', 'Central European', 'Vegetarian Fri...   \n",
       "\n",
       "   Ranking  Rating Price Range  Number of Reviews  \\\n",
       "0   5570.0     3.5    $$ - $$$              194.0   \n",
       "1   1537.0     4.0         NaN               10.0   \n",
       "2    353.0     4.5        $$$$              688.0   \n",
       "3   3458.0     5.0         NaN                3.0   \n",
       "4    621.0     4.0    $$ - $$$               84.0   \n",
       "\n",
       "                                             Reviews  \\\n",
       "0  [['Good food at your doorstep', 'A good hotel ...   \n",
       "1  [['Unique cuisine', 'Delicious Nepalese food']...   \n",
       "2  [['Catch up with friends', 'Not exceptional'],...   \n",
       "3                                           [[], []]   \n",
       "4  [['Best place to try a Bavarian food', 'Nice b...   \n",
       "\n",
       "                                              URL_TA     ID_TA  sample  \n",
       "0  /Restaurant_Review-g187147-d1912643-Reviews-R_...  d1912643       1  \n",
       "1  /Restaurant_Review-g189852-d7992032-Reviews-Bu...  d7992032       1  \n",
       "2  /Restaurant_Review-g186338-d8632781-Reviews-RO...  d8632781       1  \n",
       "3  /Restaurant_Review-g187323-d1358776-Reviews-Es...  d1358776       1  \n",
       "4  /Restaurant_Review-g187309-d6864963-Reviews-Au...  d6864963       1  "
      ]
     },
     "metadata": {},
     "output_type": "display_data"
    },
    {
     "data": {
      "text/html": [
       "<div>\n",
       "<style scoped>\n",
       "    .dataframe tbody tr th:only-of-type {\n",
       "        vertical-align: middle;\n",
       "    }\n",
       "\n",
       "    .dataframe tbody tr th {\n",
       "        vertical-align: top;\n",
       "    }\n",
       "\n",
       "    .dataframe thead th {\n",
       "        text-align: right;\n",
       "    }\n",
       "</style>\n",
       "<table border=\"1\" class=\"dataframe\">\n",
       "  <thead>\n",
       "    <tr style=\"text-align: right;\">\n",
       "      <th></th>\n",
       "      <th>Restaurant_id</th>\n",
       "      <th>City</th>\n",
       "      <th>Cuisine Style</th>\n",
       "      <th>Ranking</th>\n",
       "      <th>Price Range</th>\n",
       "      <th>Number of Reviews</th>\n",
       "      <th>Reviews</th>\n",
       "      <th>URL_TA</th>\n",
       "      <th>ID_TA</th>\n",
       "      <th>sample</th>\n",
       "      <th>Rating</th>\n",
       "    </tr>\n",
       "  </thead>\n",
       "  <tbody>\n",
       "    <tr>\n",
       "      <th>0</th>\n",
       "      <td>id_0</td>\n",
       "      <td>Paris</td>\n",
       "      <td>['Bar', 'Pub']</td>\n",
       "      <td>12963.0</td>\n",
       "      <td>$$ - $$$</td>\n",
       "      <td>4.0</td>\n",
       "      <td>[[], []]</td>\n",
       "      <td>/Restaurant_Review-g187147-d10746918-Reviews-L...</td>\n",
       "      <td>d10746918</td>\n",
       "      <td>0</td>\n",
       "      <td>0</td>\n",
       "    </tr>\n",
       "    <tr>\n",
       "      <th>1</th>\n",
       "      <td>id_1</td>\n",
       "      <td>Helsinki</td>\n",
       "      <td>['European', 'Scandinavian', 'Gluten Free Opti...</td>\n",
       "      <td>106.0</td>\n",
       "      <td>$$ - $$$</td>\n",
       "      <td>97.0</td>\n",
       "      <td>[['Very good reviews!', 'Fine dining in Hakani...</td>\n",
       "      <td>/Restaurant_Review-g189934-d6674944-Reviews-Ra...</td>\n",
       "      <td>d6674944</td>\n",
       "      <td>0</td>\n",
       "      <td>0</td>\n",
       "    </tr>\n",
       "    <tr>\n",
       "      <th>2</th>\n",
       "      <td>id_2</td>\n",
       "      <td>Edinburgh</td>\n",
       "      <td>['Vegetarian Friendly']</td>\n",
       "      <td>810.0</td>\n",
       "      <td>$$ - $$$</td>\n",
       "      <td>28.0</td>\n",
       "      <td>[['Better than the Links', 'Ivy Black'], ['12/...</td>\n",
       "      <td>/Restaurant_Review-g186525-d13129638-Reviews-B...</td>\n",
       "      <td>d13129638</td>\n",
       "      <td>0</td>\n",
       "      <td>0</td>\n",
       "    </tr>\n",
       "    <tr>\n",
       "      <th>3</th>\n",
       "      <td>id_3</td>\n",
       "      <td>London</td>\n",
       "      <td>['Italian', 'Mediterranean', 'European', 'Vege...</td>\n",
       "      <td>1669.0</td>\n",
       "      <td>$$$$</td>\n",
       "      <td>202.0</td>\n",
       "      <td>[['Most exquisite', 'Delicious and authentic']...</td>\n",
       "      <td>/Restaurant_Review-g186338-d680417-Reviews-Qui...</td>\n",
       "      <td>d680417</td>\n",
       "      <td>0</td>\n",
       "      <td>0</td>\n",
       "    </tr>\n",
       "    <tr>\n",
       "      <th>4</th>\n",
       "      <td>id_4</td>\n",
       "      <td>Bratislava</td>\n",
       "      <td>['Italian', 'Mediterranean', 'European', 'Seaf...</td>\n",
       "      <td>37.0</td>\n",
       "      <td>$$$$</td>\n",
       "      <td>162.0</td>\n",
       "      <td>[['Always the best in bratislava', 'Very good ...</td>\n",
       "      <td>/Restaurant_Review-g274924-d1112354-Reviews-Ma...</td>\n",
       "      <td>d1112354</td>\n",
       "      <td>0</td>\n",
       "      <td>0</td>\n",
       "    </tr>\n",
       "  </tbody>\n",
       "</table>\n",
       "</div>"
      ],
      "text/plain": [
       "  Restaurant_id        City  \\\n",
       "0          id_0       Paris   \n",
       "1          id_1    Helsinki   \n",
       "2          id_2   Edinburgh   \n",
       "3          id_3      London   \n",
       "4          id_4  Bratislava   \n",
       "\n",
       "                                       Cuisine Style  Ranking Price Range  \\\n",
       "0                                     ['Bar', 'Pub']  12963.0    $$ - $$$   \n",
       "1  ['European', 'Scandinavian', 'Gluten Free Opti...    106.0    $$ - $$$   \n",
       "2                            ['Vegetarian Friendly']    810.0    $$ - $$$   \n",
       "3  ['Italian', 'Mediterranean', 'European', 'Vege...   1669.0        $$$$   \n",
       "4  ['Italian', 'Mediterranean', 'European', 'Seaf...     37.0        $$$$   \n",
       "\n",
       "   Number of Reviews                                            Reviews  \\\n",
       "0                4.0                                           [[], []]   \n",
       "1               97.0  [['Very good reviews!', 'Fine dining in Hakani...   \n",
       "2               28.0  [['Better than the Links', 'Ivy Black'], ['12/...   \n",
       "3              202.0  [['Most exquisite', 'Delicious and authentic']...   \n",
       "4              162.0  [['Always the best in bratislava', 'Very good ...   \n",
       "\n",
       "                                              URL_TA      ID_TA  sample  \\\n",
       "0  /Restaurant_Review-g187147-d10746918-Reviews-L...  d10746918       0   \n",
       "1  /Restaurant_Review-g189934-d6674944-Reviews-Ra...   d6674944       0   \n",
       "2  /Restaurant_Review-g186525-d13129638-Reviews-B...  d13129638       0   \n",
       "3  /Restaurant_Review-g186338-d680417-Reviews-Qui...    d680417       0   \n",
       "4  /Restaurant_Review-g274924-d1112354-Reviews-Ma...   d1112354       0   \n",
       "\n",
       "   Rating  \n",
       "0       0  \n",
       "1       0  \n",
       "2       0  \n",
       "3       0  \n",
       "4       0  "
      ]
     },
     "metadata": {},
     "output_type": "display_data"
    }
   ],
   "source": [
    "df_train = pd.read_csv('/kaggle/input/sf-dst-restaurant-rating/main_task.csv')\n",
    "df_test = pd.read_csv('/kaggle/input/sf-dst-restaurant-rating/kaggle_task.csv')\n",
    "\n",
    "df_train['sample'] = 1 \n",
    "df_test['sample'] = 0 \n",
    "df_test['Rating'] = 0 \n",
    "data = df_test.append(df_train, sort=False).reset_index(drop=True) \n",
    "display(df_train.head())\n",
    "display(df_test.head())"
   ]
  },
  {
   "cell_type": "code",
   "execution_count": 5,
   "metadata": {
    "execution": {
     "iopub.execute_input": "2020-12-02T21:54:41.531302Z",
     "iopub.status.busy": "2020-12-02T21:54:41.530563Z",
     "iopub.status.idle": "2020-12-02T21:54:41.594739Z",
     "shell.execute_reply": "2020-12-02T21:54:41.594074Z"
    },
    "papermill": {
     "duration": 0.097754,
     "end_time": "2020-12-02T21:54:41.594855",
     "exception": false,
     "start_time": "2020-12-02T21:54:41.497101",
     "status": "completed"
    },
    "tags": []
   },
   "outputs": [
    {
     "name": "stdout",
     "output_type": "stream",
     "text": [
      "<class 'pandas.core.frame.DataFrame'>\n",
      "RangeIndex: 50000 entries, 0 to 49999\n",
      "Data columns (total 11 columns):\n",
      " #   Column             Non-Null Count  Dtype  \n",
      "---  ------             --------------  -----  \n",
      " 0   Restaurant_id      50000 non-null  object \n",
      " 1   City               50000 non-null  object \n",
      " 2   Cuisine Style      38410 non-null  object \n",
      " 3   Ranking            50000 non-null  float64\n",
      " 4   Price Range        32639 non-null  object \n",
      " 5   Number of Reviews  46800 non-null  float64\n",
      " 6   Reviews            49998 non-null  object \n",
      " 7   URL_TA             50000 non-null  object \n",
      " 8   ID_TA              50000 non-null  object \n",
      " 9   sample             50000 non-null  int64  \n",
      " 10  Rating             50000 non-null  float64\n",
      "dtypes: float64(3), int64(1), object(7)\n",
      "memory usage: 4.2+ MB\n"
     ]
    },
    {
     "data": {
      "text/html": [
       "<div>\n",
       "<style scoped>\n",
       "    .dataframe tbody tr th:only-of-type {\n",
       "        vertical-align: middle;\n",
       "    }\n",
       "\n",
       "    .dataframe tbody tr th {\n",
       "        vertical-align: top;\n",
       "    }\n",
       "\n",
       "    .dataframe thead th {\n",
       "        text-align: right;\n",
       "    }\n",
       "</style>\n",
       "<table border=\"1\" class=\"dataframe\">\n",
       "  <thead>\n",
       "    <tr style=\"text-align: right;\">\n",
       "      <th></th>\n",
       "      <th>Restaurant_id</th>\n",
       "      <th>City</th>\n",
       "      <th>Cuisine Style</th>\n",
       "      <th>Ranking</th>\n",
       "      <th>Price Range</th>\n",
       "      <th>Number of Reviews</th>\n",
       "      <th>Reviews</th>\n",
       "      <th>URL_TA</th>\n",
       "      <th>ID_TA</th>\n",
       "      <th>sample</th>\n",
       "      <th>Rating</th>\n",
       "    </tr>\n",
       "  </thead>\n",
       "  <tbody>\n",
       "    <tr>\n",
       "      <th>0</th>\n",
       "      <td>id_0</td>\n",
       "      <td>Paris</td>\n",
       "      <td>['Bar', 'Pub']</td>\n",
       "      <td>12963.0</td>\n",
       "      <td>$$ - $$$</td>\n",
       "      <td>4.0</td>\n",
       "      <td>[[], []]</td>\n",
       "      <td>/Restaurant_Review-g187147-d10746918-Reviews-L...</td>\n",
       "      <td>d10746918</td>\n",
       "      <td>0</td>\n",
       "      <td>0.0</td>\n",
       "    </tr>\n",
       "    <tr>\n",
       "      <th>1</th>\n",
       "      <td>id_1</td>\n",
       "      <td>Helsinki</td>\n",
       "      <td>['European', 'Scandinavian', 'Gluten Free Opti...</td>\n",
       "      <td>106.0</td>\n",
       "      <td>$$ - $$$</td>\n",
       "      <td>97.0</td>\n",
       "      <td>[['Very good reviews!', 'Fine dining in Hakani...</td>\n",
       "      <td>/Restaurant_Review-g189934-d6674944-Reviews-Ra...</td>\n",
       "      <td>d6674944</td>\n",
       "      <td>0</td>\n",
       "      <td>0.0</td>\n",
       "    </tr>\n",
       "    <tr>\n",
       "      <th>2</th>\n",
       "      <td>id_2</td>\n",
       "      <td>Edinburgh</td>\n",
       "      <td>['Vegetarian Friendly']</td>\n",
       "      <td>810.0</td>\n",
       "      <td>$$ - $$$</td>\n",
       "      <td>28.0</td>\n",
       "      <td>[['Better than the Links', 'Ivy Black'], ['12/...</td>\n",
       "      <td>/Restaurant_Review-g186525-d13129638-Reviews-B...</td>\n",
       "      <td>d13129638</td>\n",
       "      <td>0</td>\n",
       "      <td>0.0</td>\n",
       "    </tr>\n",
       "    <tr>\n",
       "      <th>3</th>\n",
       "      <td>id_3</td>\n",
       "      <td>London</td>\n",
       "      <td>['Italian', 'Mediterranean', 'European', 'Vege...</td>\n",
       "      <td>1669.0</td>\n",
       "      <td>$$$$</td>\n",
       "      <td>202.0</td>\n",
       "      <td>[['Most exquisite', 'Delicious and authentic']...</td>\n",
       "      <td>/Restaurant_Review-g186338-d680417-Reviews-Qui...</td>\n",
       "      <td>d680417</td>\n",
       "      <td>0</td>\n",
       "      <td>0.0</td>\n",
       "    </tr>\n",
       "    <tr>\n",
       "      <th>4</th>\n",
       "      <td>id_4</td>\n",
       "      <td>Bratislava</td>\n",
       "      <td>['Italian', 'Mediterranean', 'European', 'Seaf...</td>\n",
       "      <td>37.0</td>\n",
       "      <td>$$$$</td>\n",
       "      <td>162.0</td>\n",
       "      <td>[['Always the best in bratislava', 'Very good ...</td>\n",
       "      <td>/Restaurant_Review-g274924-d1112354-Reviews-Ma...</td>\n",
       "      <td>d1112354</td>\n",
       "      <td>0</td>\n",
       "      <td>0.0</td>\n",
       "    </tr>\n",
       "  </tbody>\n",
       "</table>\n",
       "</div>"
      ],
      "text/plain": [
       "  Restaurant_id        City  \\\n",
       "0          id_0       Paris   \n",
       "1          id_1    Helsinki   \n",
       "2          id_2   Edinburgh   \n",
       "3          id_3      London   \n",
       "4          id_4  Bratislava   \n",
       "\n",
       "                                       Cuisine Style  Ranking Price Range  \\\n",
       "0                                     ['Bar', 'Pub']  12963.0    $$ - $$$   \n",
       "1  ['European', 'Scandinavian', 'Gluten Free Opti...    106.0    $$ - $$$   \n",
       "2                            ['Vegetarian Friendly']    810.0    $$ - $$$   \n",
       "3  ['Italian', 'Mediterranean', 'European', 'Vege...   1669.0        $$$$   \n",
       "4  ['Italian', 'Mediterranean', 'European', 'Seaf...     37.0        $$$$   \n",
       "\n",
       "   Number of Reviews                                            Reviews  \\\n",
       "0                4.0                                           [[], []]   \n",
       "1               97.0  [['Very good reviews!', 'Fine dining in Hakani...   \n",
       "2               28.0  [['Better than the Links', 'Ivy Black'], ['12/...   \n",
       "3              202.0  [['Most exquisite', 'Delicious and authentic']...   \n",
       "4              162.0  [['Always the best in bratislava', 'Very good ...   \n",
       "\n",
       "                                              URL_TA      ID_TA  sample  \\\n",
       "0  /Restaurant_Review-g187147-d10746918-Reviews-L...  d10746918       0   \n",
       "1  /Restaurant_Review-g189934-d6674944-Reviews-Ra...   d6674944       0   \n",
       "2  /Restaurant_Review-g186525-d13129638-Reviews-B...  d13129638       0   \n",
       "3  /Restaurant_Review-g186338-d680417-Reviews-Qui...    d680417       0   \n",
       "4  /Restaurant_Review-g274924-d1112354-Reviews-Ma...   d1112354       0   \n",
       "\n",
       "   Rating  \n",
       "0     0.0  \n",
       "1     0.0  \n",
       "2     0.0  \n",
       "3     0.0  \n",
       "4     0.0  "
      ]
     },
     "execution_count": 5,
     "metadata": {},
     "output_type": "execute_result"
    }
   ],
   "source": [
    "data.info()\n",
    "data.head()"
   ]
  },
  {
   "cell_type": "markdown",
   "metadata": {
    "papermill": {
     "duration": 0.029362,
     "end_time": "2020-12-02T21:54:41.654557",
     "exception": false,
     "start_time": "2020-12-02T21:54:41.625195",
     "status": "completed"
    },
    "tags": []
   },
   "source": [
    "Подробнее по признакам:\n",
    "\n",
    "* City: Город\n",
    "* Cuisine Style: Кухня\n",
    "* Ranking: Ранг ресторана относительно других ресторанов в этом городе\n",
    "* Price Range: Цены в ресторане в 3 категориях\n",
    "* Number of Reviews: Количество отзывов\n",
    "* Reviews: 2 последних отзыва и даты этих отзывов\n",
    "* URL_TA: страница ресторана на 'www.tripadvisor.com'\n",
    "* ID_TA: ID ресторана в TripAdvisor\n",
    "* Rating: Рейтинг ресторана"
   ]
  },
  {
   "cell_type": "markdown",
   "metadata": {
    "papermill": {
     "duration": 0.02904,
     "end_time": "2020-12-02T21:54:41.713621",
     "exception": false,
     "start_time": "2020-12-02T21:54:41.684581",
     "status": "completed"
    },
    "tags": []
   },
   "source": [
    "## Начнем манипуляции с данными\n"
   ]
  },
  {
   "cell_type": "code",
   "execution_count": 6,
   "metadata": {
    "execution": {
     "iopub.execute_input": "2020-12-02T21:54:41.779604Z",
     "iopub.status.busy": "2020-12-02T21:54:41.778086Z",
     "iopub.status.idle": "2020-12-02T21:54:41.784468Z",
     "shell.execute_reply": "2020-12-02T21:54:41.783812Z"
    },
    "papermill": {
     "duration": 0.041331,
     "end_time": "2020-12-02T21:54:41.784583",
     "exception": false,
     "start_time": "2020-12-02T21:54:41.743252",
     "status": "completed"
    },
    "tags": []
   },
   "outputs": [],
   "source": [
    "# Вынесем информацию о наличии пропуска как отдельный признак и заполним пропуски медианным значением\n",
    "data['Number of Reviews Was NAN'] = data['Number of Reviews'].isna()\n",
    "data['Number of Reviews'] = data['Number of Reviews'].fillna(\n",
    "    data['Number of Reviews'].mean())"
   ]
  },
  {
   "cell_type": "code",
   "execution_count": 7,
   "metadata": {
    "execution": {
     "iopub.execute_input": "2020-12-02T21:54:41.853843Z",
     "iopub.status.busy": "2020-12-02T21:54:41.853150Z",
     "iopub.status.idle": "2020-12-02T21:54:42.076945Z",
     "shell.execute_reply": "2020-12-02T21:54:42.076205Z"
    },
    "papermill": {
     "duration": 0.262461,
     "end_time": "2020-12-02T21:54:42.077074",
     "exception": false,
     "start_time": "2020-12-02T21:54:41.814613",
     "status": "completed"
    },
    "tags": []
   },
   "outputs": [],
   "source": [
    "# Так же вынесем информацию о пропусках и заменим пропущенные значения\n",
    "data['Cuisine Style Was NAN'] = data['Cuisine Style'].isna()\n",
    "data['Cuisine Style'] = data['Cuisine Style'].fillna(\"['Unknown']\")\n",
    "# Обработаем значения и посчитаем количество кухонь представленных в ресторане\n",
    "data['Number of Styles'] = data['Cuisine Style'].str[2:-2].str.split(\"', '\")\n",
    "data['Number of Styles'] = data['Number of Styles'].apply(lambda x: 0 if x is np.nan else len(x))"
   ]
  },
  {
   "cell_type": "markdown",
   "metadata": {
    "papermill": {
     "duration": 0.045875,
     "end_time": "2020-12-02T21:54:42.155690",
     "exception": false,
     "start_time": "2020-12-02T21:54:42.109815",
     "status": "completed"
    },
    "tags": []
   },
   "source": [
    "### Посмотрим, какую информцию можно получить из городов"
   ]
  },
  {
   "cell_type": "code",
   "execution_count": 8,
   "metadata": {
    "execution": {
     "iopub.execute_input": "2020-12-02T21:54:42.230149Z",
     "iopub.status.busy": "2020-12-02T21:54:42.229471Z",
     "iopub.status.idle": "2020-12-02T21:54:42.688091Z",
     "shell.execute_reply": "2020-12-02T21:54:42.687148Z"
    },
    "papermill": {
     "duration": 0.501783,
     "end_time": "2020-12-02T21:54:42.688248",
     "exception": false,
     "start_time": "2020-12-02T21:54:42.186465",
     "status": "completed"
    },
    "tags": []
   },
   "outputs": [
    {
     "data": {
      "text/plain": [
       "<matplotlib.axes._subplots.AxesSubplot at 0x7f00692108d0>"
      ]
     },
     "execution_count": 8,
     "metadata": {},
     "output_type": "execute_result"
    },
    {
     "data": {
      "image/png": "[encoded data removed]",
      "text/plain": [
       "<Figure size 432x288 with 1 Axes>"
      ]
     },
     "metadata": {
      "needs_background": "light"
     },
     "output_type": "display_data"
    }
   ],
   "source": [
    "# Рассмотрим распределение ранга ресторанов по городам:\n",
    "data.pivot_table(values = ['Ranking'], \n",
    "               index = 'City', \n",
    "               aggfunc = 'mean').plot(kind = 'bar')"
   ]
  },
  {
   "cell_type": "code",
   "execution_count": 9,
   "metadata": {
    "execution": {
     "iopub.execute_input": "2020-12-02T21:54:42.770466Z",
     "iopub.status.busy": "2020-12-02T21:54:42.769394Z",
     "iopub.status.idle": "2020-12-02T21:54:43.039480Z",
     "shell.execute_reply": "2020-12-02T21:54:43.038849Z"
    },
    "papermill": {
     "duration": 0.320397,
     "end_time": "2020-12-02T21:54:43.039595",
     "exception": false,
     "start_time": "2020-12-02T21:54:42.719198",
     "status": "completed"
    },
    "tags": []
   },
   "outputs": [
    {
     "data": {
      "text/plain": [
       "<matplotlib.axes._subplots.AxesSubplot at 0x7f006a7edf10>"
      ]
     },
     "execution_count": 9,
     "metadata": {},
     "output_type": "execute_result"
    },
    {
     "data": {
      "image/png": "[encoded data removed]",
      "text/plain": [
       "<Figure size 432x288 with 1 Axes>"
      ]
     },
     "metadata": {
      "needs_background": "light"
     },
     "output_type": "display_data"
    }
   ],
   "source": [
    "#Так же количество ресторанов по городам:\n",
    "data['City'].value_counts(ascending=True).plot(kind='bar', title='Количество ресторанов по городам')"
   ]
  },
  {
   "cell_type": "code",
   "execution_count": 10,
   "metadata": {
    "execution": {
     "iopub.execute_input": "2020-12-02T21:54:43.113972Z",
     "iopub.status.busy": "2020-12-02T21:54:43.113294Z",
     "iopub.status.idle": "2020-12-02T21:54:43.127684Z",
     "shell.execute_reply": "2020-12-02T21:54:43.127075Z"
    },
    "papermill": {
     "duration": 0.05474,
     "end_time": "2020-12-02T21:54:43.127809",
     "exception": false,
     "start_time": "2020-12-02T21:54:43.073069",
     "status": "completed"
    },
    "tags": []
   },
   "outputs": [],
   "source": [
    "# Логично будет создать новый признак - количество ресторанов в одном городе\n",
    "rest_count = data.groupby('City')['Restaurant_id'].count().to_dict()\n",
    "data['Restaurants in City'] = data['City'].map(rest_count)"
   ]
  },
  {
   "cell_type": "code",
   "execution_count": 11,
   "metadata": {
    "execution": {
     "iopub.execute_input": "2020-12-02T21:54:43.203551Z",
     "iopub.status.busy": "2020-12-02T21:54:43.202447Z",
     "iopub.status.idle": "2020-12-02T21:54:43.207505Z",
     "shell.execute_reply": "2020-12-02T21:54:43.206819Z"
    },
    "papermill": {
     "duration": 0.043602,
     "end_time": "2020-12-02T21:54:43.207630",
     "exception": false,
     "start_time": "2020-12-02T21:54:43.164028",
     "status": "completed"
    },
    "tags": []
   },
   "outputs": [],
   "source": [
    "# На основе нового признака можно получить условный рейнтиг города по ресторанам\n",
    "data['City ranking'] = data['Ranking'] / data['Restaurants in City']"
   ]
  },
  {
   "cell_type": "code",
   "execution_count": 12,
   "metadata": {
    "execution": {
     "iopub.execute_input": "2020-12-02T21:54:43.281060Z",
     "iopub.status.busy": "2020-12-02T21:54:43.280097Z",
     "iopub.status.idle": "2020-12-02T21:54:43.312109Z",
     "shell.execute_reply": "2020-12-02T21:54:43.311396Z"
    },
    "papermill": {
     "duration": 0.071866,
     "end_time": "2020-12-02T21:54:43.312252",
     "exception": false,
     "start_time": "2020-12-02T21:54:43.240386",
     "status": "completed"
    },
    "tags": []
   },
   "outputs": [],
   "source": [
    "# Создадим новый признак на основе того, является ли город столицей\n",
    "city_list = [\n",
    "    'London',\n",
    "    'Paris', \n",
    "    'Madrid', \n",
    "    'Berlin', \n",
    "    'Rome', \n",
    "    'Prague', \n",
    "    'Lisbon', \n",
    "    'Vienna', \n",
    "    'Amsterdam', \n",
    "    'Stockholm', \n",
    "    'Budapest', \n",
    "    'Warsaw', \n",
    "    'Dublin', \n",
    "    'Copenhagen', \n",
    "    'Athens', \n",
    "    'Oslo', \n",
    "    'Luxembourg', \n",
    "    'Helsinki', \n",
    "    'Bratislava', \n",
    "    'Ljubljana', \n",
    "    'Brussels'\n",
    "]\n",
    "data['Capital'] = data['City'].apply(lambda x: 1 if x in city_list else 0)"
   ]
  },
  {
   "cell_type": "code",
   "execution_count": 13,
   "metadata": {
    "execution": {
     "iopub.execute_input": "2020-12-02T21:54:43.395009Z",
     "iopub.status.busy": "2020-12-02T21:54:43.392493Z",
     "iopub.status.idle": "2020-12-02T21:54:43.409576Z",
     "shell.execute_reply": "2020-12-02T21:54:43.409011Z"
    },
    "papermill": {
     "duration": 0.064718,
     "end_time": "2020-12-02T21:54:43.409707",
     "exception": false,
     "start_time": "2020-12-02T21:54:43.344989",
     "status": "completed"
    },
    "tags": []
   },
   "outputs": [],
   "source": [
    "# На основании города так же можем извлечь и страну\n",
    "# Присвоим каждому городу код страны\n",
    "countries = {\n",
    "    'London': 'GB',\n",
    "    'Paris': 'FR',\n",
    "    'Madrid': 'ES',\n",
    "    'Barcelona': 'ES',\n",
    "    'Berlin': 'DE',\n",
    "    'Milan': 'IT',\n",
    "    'Rome': 'IT',\n",
    "    'Prague': 'CZ',\n",
    "    'Lisbon': 'PT',\n",
    "    'Vienna': 'AT',\n",
    "    'Amsterdam': 'NL',\n",
    "    'Brussels': 'BE',\n",
    "    'Hamburg': 'DE',\n",
    "    'Munich': 'DE',\n",
    "    'Lyon': 'FR',\n",
    "    'Stockholm': 'SE',\n",
    "    'Budapest': 'HU',\n",
    "    'Warsaw': 'PL',\n",
    "    'Dublin': 'IE',\n",
    "    'Copenhagen': 'DK',\n",
    "    'Athens': 'GR',\n",
    "    'Edinburgh': 'GB',\n",
    "    'Zurich': 'CH',\n",
    "    'Oporto': 'PT',\n",
    "    'Geneva': 'CH',\n",
    "    'Krakow': 'PL',\n",
    "    'Oslo': 'NO',\n",
    "    'Helsinki': 'FI',\n",
    "    'Bratislava': 'SK',\n",
    "    'Luxembourg': 'LU',\n",
    "    'Ljubljana': 'SI',\n",
    "}\n",
    "\n",
    "data['Country'] = data['City'].map(countries)\n",
    "# и закодируем\n",
    "countries_le = LabelEncoder()\n",
    "countries_le.fit(data['Country'])\n",
    "data['Country Code'] = countries_le.transform(data['Country'])"
   ]
  },
  {
   "cell_type": "code",
   "execution_count": 14,
   "metadata": {
    "execution": {
     "iopub.execute_input": "2020-12-02T21:54:43.492590Z",
     "iopub.status.busy": "2020-12-02T21:54:43.491665Z",
     "iopub.status.idle": "2020-12-02T21:54:43.496345Z",
     "shell.execute_reply": "2020-12-02T21:54:43.495791Z"
    },
    "papermill": {
     "duration": 0.053336,
     "end_time": "2020-12-02T21:54:43.496466",
     "exception": false,
     "start_time": "2020-12-02T21:54:43.443130",
     "status": "completed"
    },
    "tags": []
   },
   "outputs": [],
   "source": [
    "cities_le = LabelEncoder()\n",
    "cities_le.fit(data['City'])\n",
    "data['City Code'] = cities_le.transform(data['City'])"
   ]
  },
  {
   "cell_type": "code",
   "execution_count": 15,
   "metadata": {
    "execution": {
     "iopub.execute_input": "2020-12-02T21:54:43.579195Z",
     "iopub.status.busy": "2020-12-02T21:54:43.578009Z",
     "iopub.status.idle": "2020-12-02T21:54:43.582700Z",
     "shell.execute_reply": "2020-12-02T21:54:43.582131Z"
    },
    "papermill": {
     "duration": 0.052733,
     "end_time": "2020-12-02T21:54:43.582816",
     "exception": false,
     "start_time": "2020-12-02T21:54:43.530083",
     "status": "completed"
    },
    "tags": []
   },
   "outputs": [],
   "source": [
    "# Добавим новые признаки извне, например, население городов\n",
    "populations = {\n",
    "    'London': 8567000, \n",
    "    'Paris':  9904000, \n",
    "    'Madrid':  5567000,\n",
    "    'Barcelona':  4920000,\n",
    "    'Berlin':  3406000,\n",
    "    'Milan':  2945000,\n",
    "    'Rome':  3339000,\n",
    "    'Prague':  1162000,\n",
    "    'Lisbon':  2812000,\n",
    "    'Vienna':  2400000,\n",
    "    'Amsterdam':  1031000,\n",
    "    'Brussels':  1743000,\n",
    "    'Hamburg':  1757000,\n",
    "    'Munich':  1275000,\n",
    "    'Lyon':  1423000,\n",
    "    'Stockholm':  1264000,\n",
    "    'Budapest':  1679000,\n",
    "    'Warsaw':  1707000,\n",
    "    'Dublin':  1059000,\n",
    "    'Copenhagen':  1085000,\n",
    "    'Athens':  3242000,\n",
    "    'Edinburgh':  504966,\n",
    "    'Zurich':  1108000,\n",
    "    'Oporto':  1337000,\n",
    "    'Geneva':  1240000,\n",
    "    'Krakow':  756000,\n",
    "    'Oslo':  835000,\n",
    "    'Helsinki':  1115000,\n",
    "    'Bratislava':  423737,\n",
    "    'Luxembourg':  107260,\n",
    "    'Ljubljana':  314807,\n",
    "}\n",
    "\n",
    "\n",
    "data['Population'] = data['City'].map(populations)"
   ]
  },
  {
   "cell_type": "code",
   "execution_count": 16,
   "metadata": {
    "execution": {
     "iopub.execute_input": "2020-12-02T21:54:43.661745Z",
     "iopub.status.busy": "2020-12-02T21:54:43.661052Z",
     "iopub.status.idle": "2020-12-02T21:54:43.757566Z",
     "shell.execute_reply": "2020-12-02T21:54:43.758088Z"
    },
    "papermill": {
     "duration": 0.141992,
     "end_time": "2020-12-02T21:54:43.758254",
     "exception": false,
     "start_time": "2020-12-02T21:54:43.616262",
     "status": "completed"
    },
    "tags": []
   },
   "outputs": [
    {
     "data": {
      "text/html": [
       "<div>\n",
       "<style scoped>\n",
       "    .dataframe tbody tr th:only-of-type {\n",
       "        vertical-align: middle;\n",
       "    }\n",
       "\n",
       "    .dataframe tbody tr th {\n",
       "        vertical-align: top;\n",
       "    }\n",
       "\n",
       "    .dataframe thead th {\n",
       "        text-align: right;\n",
       "    }\n",
       "</style>\n",
       "<table border=\"1\" class=\"dataframe\">\n",
       "  <thead>\n",
       "    <tr style=\"text-align: right;\">\n",
       "      <th></th>\n",
       "      <th>Restaurant_id</th>\n",
       "      <th>City</th>\n",
       "      <th>Cuisine Style</th>\n",
       "      <th>Ranking</th>\n",
       "      <th>Price Range</th>\n",
       "      <th>Number of Reviews</th>\n",
       "      <th>Reviews</th>\n",
       "      <th>URL_TA</th>\n",
       "      <th>ID_TA</th>\n",
       "      <th>sample</th>\n",
       "      <th>...</th>\n",
       "      <th>Cuisine Style Was NAN</th>\n",
       "      <th>Number of Styles</th>\n",
       "      <th>Restaurants in City</th>\n",
       "      <th>City ranking</th>\n",
       "      <th>Capital</th>\n",
       "      <th>Country</th>\n",
       "      <th>Country Code</th>\n",
       "      <th>City Code</th>\n",
       "      <th>Population</th>\n",
       "      <th>Economy</th>\n",
       "    </tr>\n",
       "  </thead>\n",
       "  <tbody>\n",
       "    <tr>\n",
       "      <th>0</th>\n",
       "      <td>id_0</td>\n",
       "      <td>Paris</td>\n",
       "      <td>['Bar', 'Pub']</td>\n",
       "      <td>12963.0</td>\n",
       "      <td>$$ - $$$</td>\n",
       "      <td>4.0</td>\n",
       "      <td>[[], []]</td>\n",
       "      <td>/Restaurant_Review-g187147-d10746918-Reviews-L...</td>\n",
       "      <td>d10746918</td>\n",
       "      <td>0</td>\n",
       "      <td>...</td>\n",
       "      <td>False</td>\n",
       "      <td>2</td>\n",
       "      <td>6108</td>\n",
       "      <td>2.122299</td>\n",
       "      <td>1</td>\n",
       "      <td>FR</td>\n",
       "      <td>8</td>\n",
       "      <td>24</td>\n",
       "      <td>9904000</td>\n",
       "      <td>45893</td>\n",
       "    </tr>\n",
       "    <tr>\n",
       "      <th>1</th>\n",
       "      <td>id_1</td>\n",
       "      <td>Helsinki</td>\n",
       "      <td>['European', 'Scandinavian', 'Gluten Free Opti...</td>\n",
       "      <td>106.0</td>\n",
       "      <td>$$ - $$$</td>\n",
       "      <td>97.0</td>\n",
       "      <td>[['Very good reviews!', 'Fine dining in Hakani...</td>\n",
       "      <td>/Restaurant_Review-g189934-d6674944-Reviews-Ra...</td>\n",
       "      <td>d6674944</td>\n",
       "      <td>0</td>\n",
       "      <td>...</td>\n",
       "      <td>False</td>\n",
       "      <td>5</td>\n",
       "      <td>475</td>\n",
       "      <td>0.223158</td>\n",
       "      <td>1</td>\n",
       "      <td>FI</td>\n",
       "      <td>7</td>\n",
       "      <td>12</td>\n",
       "      <td>1115000</td>\n",
       "      <td>48098</td>\n",
       "    </tr>\n",
       "    <tr>\n",
       "      <th>2</th>\n",
       "      <td>id_2</td>\n",
       "      <td>Edinburgh</td>\n",
       "      <td>['Vegetarian Friendly']</td>\n",
       "      <td>810.0</td>\n",
       "      <td>$$ - $$$</td>\n",
       "      <td>28.0</td>\n",
       "      <td>[['Better than the Links', 'Ivy Black'], ['12/...</td>\n",
       "      <td>/Restaurant_Review-g186525-d13129638-Reviews-B...</td>\n",
       "      <td>d13129638</td>\n",
       "      <td>0</td>\n",
       "      <td>...</td>\n",
       "      <td>False</td>\n",
       "      <td>1</td>\n",
       "      <td>745</td>\n",
       "      <td>1.087248</td>\n",
       "      <td>0</td>\n",
       "      <td>GB</td>\n",
       "      <td>9</td>\n",
       "      <td>9</td>\n",
       "      <td>504966</td>\n",
       "      <td>46870</td>\n",
       "    </tr>\n",
       "    <tr>\n",
       "      <th>3</th>\n",
       "      <td>id_3</td>\n",
       "      <td>London</td>\n",
       "      <td>['Italian', 'Mediterranean', 'European', 'Vege...</td>\n",
       "      <td>1669.0</td>\n",
       "      <td>$$$$</td>\n",
       "      <td>202.0</td>\n",
       "      <td>[['Most exquisite', 'Delicious and authentic']...</td>\n",
       "      <td>/Restaurant_Review-g186338-d680417-Reviews-Qui...</td>\n",
       "      <td>d680417</td>\n",
       "      <td>0</td>\n",
       "      <td>...</td>\n",
       "      <td>False</td>\n",
       "      <td>5</td>\n",
       "      <td>7193</td>\n",
       "      <td>0.232031</td>\n",
       "      <td>1</td>\n",
       "      <td>GB</td>\n",
       "      <td>9</td>\n",
       "      <td>16</td>\n",
       "      <td>8567000</td>\n",
       "      <td>46870</td>\n",
       "    </tr>\n",
       "    <tr>\n",
       "      <th>4</th>\n",
       "      <td>id_4</td>\n",
       "      <td>Bratislava</td>\n",
       "      <td>['Italian', 'Mediterranean', 'European', 'Seaf...</td>\n",
       "      <td>37.0</td>\n",
       "      <td>$$$$</td>\n",
       "      <td>162.0</td>\n",
       "      <td>[['Always the best in bratislava', 'Very good ...</td>\n",
       "      <td>/Restaurant_Review-g274924-d1112354-Reviews-Ma...</td>\n",
       "      <td>d1112354</td>\n",
       "      <td>0</td>\n",
       "      <td>...</td>\n",
       "      <td>False</td>\n",
       "      <td>6</td>\n",
       "      <td>380</td>\n",
       "      <td>0.097368</td>\n",
       "      <td>1</td>\n",
       "      <td>SK</td>\n",
       "      <td>21</td>\n",
       "      <td>4</td>\n",
       "      <td>423737</td>\n",
       "      <td>36878</td>\n",
       "    </tr>\n",
       "    <tr>\n",
       "      <th>...</th>\n",
       "      <td>...</td>\n",
       "      <td>...</td>\n",
       "      <td>...</td>\n",
       "      <td>...</td>\n",
       "      <td>...</td>\n",
       "      <td>...</td>\n",
       "      <td>...</td>\n",
       "      <td>...</td>\n",
       "      <td>...</td>\n",
       "      <td>...</td>\n",
       "      <td>...</td>\n",
       "      <td>...</td>\n",
       "      <td>...</td>\n",
       "      <td>...</td>\n",
       "      <td>...</td>\n",
       "      <td>...</td>\n",
       "      <td>...</td>\n",
       "      <td>...</td>\n",
       "      <td>...</td>\n",
       "      <td>...</td>\n",
       "      <td>...</td>\n",
       "    </tr>\n",
       "    <tr>\n",
       "      <th>49995</th>\n",
       "      <td>id_499</td>\n",
       "      <td>Milan</td>\n",
       "      <td>['Italian', 'Vegetarian Friendly', 'Vegan Opti...</td>\n",
       "      <td>500.0</td>\n",
       "      <td>$$ - $$$</td>\n",
       "      <td>79.0</td>\n",
       "      <td>[['The real Italian experience!', 'Wonderful f...</td>\n",
       "      <td>/Restaurant_Review-g187849-d2104414-Reviews-Ro...</td>\n",
       "      <td>d2104414</td>\n",
       "      <td>1</td>\n",
       "      <td>...</td>\n",
       "      <td>False</td>\n",
       "      <td>4</td>\n",
       "      <td>2694</td>\n",
       "      <td>0.185598</td>\n",
       "      <td>0</td>\n",
       "      <td>IT</td>\n",
       "      <td>13</td>\n",
       "      <td>20</td>\n",
       "      <td>2945000</td>\n",
       "      <td>40923</td>\n",
       "    </tr>\n",
       "    <tr>\n",
       "      <th>49996</th>\n",
       "      <td>id_6340</td>\n",
       "      <td>Paris</td>\n",
       "      <td>['French', 'American', 'Bar', 'European', 'Veg...</td>\n",
       "      <td>6341.0</td>\n",
       "      <td>$$ - $$$</td>\n",
       "      <td>542.0</td>\n",
       "      <td>[['Parisian atmosphere', 'Bit pricey but inter...</td>\n",
       "      <td>/Restaurant_Review-g187147-d1800036-Reviews-La...</td>\n",
       "      <td>d1800036</td>\n",
       "      <td>1</td>\n",
       "      <td>...</td>\n",
       "      <td>False</td>\n",
       "      <td>5</td>\n",
       "      <td>6108</td>\n",
       "      <td>1.038147</td>\n",
       "      <td>1</td>\n",
       "      <td>FR</td>\n",
       "      <td>8</td>\n",
       "      <td>24</td>\n",
       "      <td>9904000</td>\n",
       "      <td>45893</td>\n",
       "    </tr>\n",
       "    <tr>\n",
       "      <th>49997</th>\n",
       "      <td>id_1649</td>\n",
       "      <td>Stockholm</td>\n",
       "      <td>['Japanese', 'Sushi']</td>\n",
       "      <td>1652.0</td>\n",
       "      <td>NaN</td>\n",
       "      <td>4.0</td>\n",
       "      <td>[['Good by swedish standards', 'A hidden jewel...</td>\n",
       "      <td>/Restaurant_Review-g189852-d947615-Reviews-Sus...</td>\n",
       "      <td>d947615</td>\n",
       "      <td>1</td>\n",
       "      <td>...</td>\n",
       "      <td>False</td>\n",
       "      <td>2</td>\n",
       "      <td>1033</td>\n",
       "      <td>1.599226</td>\n",
       "      <td>1</td>\n",
       "      <td>SE</td>\n",
       "      <td>19</td>\n",
       "      <td>27</td>\n",
       "      <td>1264000</td>\n",
       "      <td>54666</td>\n",
       "    </tr>\n",
       "    <tr>\n",
       "      <th>49998</th>\n",
       "      <td>id_640</td>\n",
       "      <td>Warsaw</td>\n",
       "      <td>['Polish', 'European', 'Eastern European', 'Ce...</td>\n",
       "      <td>641.0</td>\n",
       "      <td>$$ - $$$</td>\n",
       "      <td>70.0</td>\n",
       "      <td>[['Underground restaurant', 'Oldest Restaurant...</td>\n",
       "      <td>/Restaurant_Review-g274856-d1100838-Reviews-Ho...</td>\n",
       "      <td>d1100838</td>\n",
       "      <td>1</td>\n",
       "      <td>...</td>\n",
       "      <td>False</td>\n",
       "      <td>5</td>\n",
       "      <td>925</td>\n",
       "      <td>0.692973</td>\n",
       "      <td>1</td>\n",
       "      <td>PL</td>\n",
       "      <td>17</td>\n",
       "      <td>29</td>\n",
       "      <td>1707000</td>\n",
       "      <td>33072</td>\n",
       "    </tr>\n",
       "    <tr>\n",
       "      <th>49999</th>\n",
       "      <td>id_4824</td>\n",
       "      <td>Milan</td>\n",
       "      <td>['Spanish']</td>\n",
       "      <td>4827.0</td>\n",
       "      <td>$$ - $$$</td>\n",
       "      <td>260.0</td>\n",
       "      <td>[['Average', 'Nice an informal'], ['01/31/2016...</td>\n",
       "      <td>/Restaurant_Review-g187849-d1109020-Reviews-Ta...</td>\n",
       "      <td>d1109020</td>\n",
       "      <td>1</td>\n",
       "      <td>...</td>\n",
       "      <td>False</td>\n",
       "      <td>1</td>\n",
       "      <td>2694</td>\n",
       "      <td>1.791759</td>\n",
       "      <td>0</td>\n",
       "      <td>IT</td>\n",
       "      <td>13</td>\n",
       "      <td>20</td>\n",
       "      <td>2945000</td>\n",
       "      <td>40923</td>\n",
       "    </tr>\n",
       "  </tbody>\n",
       "</table>\n",
       "<p>50000 rows × 22 columns</p>\n",
       "</div>"
      ],
      "text/plain": [
       "      Restaurant_id        City  \\\n",
       "0              id_0       Paris   \n",
       "1              id_1    Helsinki   \n",
       "2              id_2   Edinburgh   \n",
       "3              id_3      London   \n",
       "4              id_4  Bratislava   \n",
       "...             ...         ...   \n",
       "49995        id_499       Milan   \n",
       "49996       id_6340       Paris   \n",
       "49997       id_1649   Stockholm   \n",
       "49998        id_640      Warsaw   \n",
       "49999       id_4824       Milan   \n",
       "\n",
       "                                           Cuisine Style  Ranking Price Range  \\\n",
       "0                                         ['Bar', 'Pub']  12963.0    $$ - $$$   \n",
       "1      ['European', 'Scandinavian', 'Gluten Free Opti...    106.0    $$ - $$$   \n",
       "2                                ['Vegetarian Friendly']    810.0    $$ - $$$   \n",
       "3      ['Italian', 'Mediterranean', 'European', 'Vege...   1669.0        $$$$   \n",
       "4      ['Italian', 'Mediterranean', 'European', 'Seaf...     37.0        $$$$   \n",
       "...                                                  ...      ...         ...   \n",
       "49995  ['Italian', 'Vegetarian Friendly', 'Vegan Opti...    500.0    $$ - $$$   \n",
       "49996  ['French', 'American', 'Bar', 'European', 'Veg...   6341.0    $$ - $$$   \n",
       "49997                              ['Japanese', 'Sushi']   1652.0         NaN   \n",
       "49998  ['Polish', 'European', 'Eastern European', 'Ce...    641.0    $$ - $$$   \n",
       "49999                                        ['Spanish']   4827.0    $$ - $$$   \n",
       "\n",
       "       Number of Reviews                                            Reviews  \\\n",
       "0                    4.0                                           [[], []]   \n",
       "1                   97.0  [['Very good reviews!', 'Fine dining in Hakani...   \n",
       "2                   28.0  [['Better than the Links', 'Ivy Black'], ['12/...   \n",
       "3                  202.0  [['Most exquisite', 'Delicious and authentic']...   \n",
       "4                  162.0  [['Always the best in bratislava', 'Very good ...   \n",
       "...                  ...                                                ...   \n",
       "49995               79.0  [['The real Italian experience!', 'Wonderful f...   \n",
       "49996              542.0  [['Parisian atmosphere', 'Bit pricey but inter...   \n",
       "49997                4.0  [['Good by swedish standards', 'A hidden jewel...   \n",
       "49998               70.0  [['Underground restaurant', 'Oldest Restaurant...   \n",
       "49999              260.0  [['Average', 'Nice an informal'], ['01/31/2016...   \n",
       "\n",
       "                                                  URL_TA      ID_TA  sample  \\\n",
       "0      /Restaurant_Review-g187147-d10746918-Reviews-L...  d10746918       0   \n",
       "1      /Restaurant_Review-g189934-d6674944-Reviews-Ra...   d6674944       0   \n",
       "2      /Restaurant_Review-g186525-d13129638-Reviews-B...  d13129638       0   \n",
       "3      /Restaurant_Review-g186338-d680417-Reviews-Qui...    d680417       0   \n",
       "4      /Restaurant_Review-g274924-d1112354-Reviews-Ma...   d1112354       0   \n",
       "...                                                  ...        ...     ...   \n",
       "49995  /Restaurant_Review-g187849-d2104414-Reviews-Ro...   d2104414       1   \n",
       "49996  /Restaurant_Review-g187147-d1800036-Reviews-La...   d1800036       1   \n",
       "49997  /Restaurant_Review-g189852-d947615-Reviews-Sus...    d947615       1   \n",
       "49998  /Restaurant_Review-g274856-d1100838-Reviews-Ho...   d1100838       1   \n",
       "49999  /Restaurant_Review-g187849-d1109020-Reviews-Ta...   d1109020       1   \n",
       "\n",
       "       ...  Cuisine Style Was NAN  Number of Styles  Restaurants in City  \\\n",
       "0      ...                  False                 2                 6108   \n",
       "1      ...                  False                 5                  475   \n",
       "2      ...                  False                 1                  745   \n",
       "3      ...                  False                 5                 7193   \n",
       "4      ...                  False                 6                  380   \n",
       "...    ...                    ...               ...                  ...   \n",
       "49995  ...                  False                 4                 2694   \n",
       "49996  ...                  False                 5                 6108   \n",
       "49997  ...                  False                 2                 1033   \n",
       "49998  ...                  False                 5                  925   \n",
       "49999  ...                  False                 1                 2694   \n",
       "\n",
       "       City ranking  Capital  Country  Country Code City Code  Population  \\\n",
       "0          2.122299        1       FR             8        24     9904000   \n",
       "1          0.223158        1       FI             7        12     1115000   \n",
       "2          1.087248        0       GB             9         9      504966   \n",
       "3          0.232031        1       GB             9        16     8567000   \n",
       "4          0.097368        1       SK            21         4      423737   \n",
       "...             ...      ...      ...           ...       ...         ...   \n",
       "49995      0.185598        0       IT            13        20     2945000   \n",
       "49996      1.038147        1       FR             8        24     9904000   \n",
       "49997      1.599226        1       SE            19        27     1264000   \n",
       "49998      0.692973        1       PL            17        29     1707000   \n",
       "49999      1.791759        0       IT            13        20     2945000   \n",
       "\n",
       "       Economy  \n",
       "0        45893  \n",
       "1        48098  \n",
       "2        46870  \n",
       "3        46870  \n",
       "4        36878  \n",
       "...        ...  \n",
       "49995    40923  \n",
       "49996    45893  \n",
       "49997    54666  \n",
       "49998    33072  \n",
       "49999    40923  \n",
       "\n",
       "[50000 rows x 22 columns]"
      ]
     },
     "execution_count": 16,
     "metadata": {},
     "output_type": "execute_result"
    }
   ],
   "source": [
    "# Так же можем добавить и количество ВВП на душу\n",
    "economies = {\n",
    "    'GB' : 46870,\n",
    "    'FR' : 45893,\n",
    "    'ES' : 41998, \n",
    "    'DE' : 53449, \n",
    "    'IT' : 40923,\n",
    "    'CZ' : 39511,  \n",
    "    'PT' : 33211,\n",
    "    'AT' : 52813,\n",
    "    'HU' : 33033,\n",
    "    'NL' : 58095, \n",
    "    'BE' : 49912,\n",
    "    'SE' : 54666,  \n",
    "    'PL' : 33072,\n",
    "    'IE' : 83001,\n",
    "    'DK' : 52279, \n",
    "    'GR' : 30501,  \n",
    "    'CH' : 65077, \n",
    "    'NO' : 76243, \n",
    "    'FI' : 48098, \n",
    "    'SK' : 36878, \n",
    "    'LU' : 113550, \n",
    "    'SI' : 38343\n",
    "}\n",
    "\n",
    "data['Economy'] = data['Country'].map(economies)\n",
    "data"
   ]
  },
  {
   "cell_type": "markdown",
   "metadata": {
    "papermill": {
     "duration": 0.035021,
     "end_time": "2020-12-02T21:54:43.827616",
     "exception": false,
     "start_time": "2020-12-02T21:54:43.792595",
     "status": "completed"
    },
    "tags": []
   },
   "source": [
    "## Price"
   ]
  },
  {
   "cell_type": "code",
   "execution_count": 17,
   "metadata": {
    "execution": {
     "iopub.execute_input": "2020-12-02T21:54:43.909265Z",
     "iopub.status.busy": "2020-12-02T21:54:43.908329Z",
     "iopub.status.idle": "2020-12-02T21:54:43.913211Z",
     "shell.execute_reply": "2020-12-02T21:54:43.912387Z"
    },
    "papermill": {
     "duration": 0.05163,
     "end_time": "2020-12-02T21:54:43.913350",
     "exception": false,
     "start_time": "2020-12-02T21:54:43.861720",
     "status": "completed"
    },
    "tags": []
   },
   "outputs": [
    {
     "data": {
      "text/plain": [
       "$$ - $$$    23041\n",
       "$            7816\n",
       "$$$$         1782\n",
       "Name: Price Range, dtype: int64"
      ]
     },
     "execution_count": 17,
     "metadata": {},
     "output_type": "execute_result"
    }
   ],
   "source": [
    "data['Price Range'].value_counts()"
   ]
  },
  {
   "cell_type": "code",
   "execution_count": 18,
   "metadata": {
    "execution": {
     "iopub.execute_input": "2020-12-02T21:54:43.994114Z",
     "iopub.status.busy": "2020-12-02T21:54:43.993462Z",
     "iopub.status.idle": "2020-12-02T21:54:44.004032Z",
     "shell.execute_reply": "2020-12-02T21:54:44.003385Z"
    },
    "papermill": {
     "duration": 0.056304,
     "end_time": "2020-12-02T21:54:44.004178",
     "exception": false,
     "start_time": "2020-12-02T21:54:43.947874",
     "status": "completed"
    },
    "tags": []
   },
   "outputs": [],
   "source": [
    "# Как видно выше большинство ресторанов имеют значение цены \"$$ -$$$\", \n",
    "# заменим символы на цифры и пропущенные значения на 2\n",
    "data['Price Range'] = data['Price Range'].map({'$':1,'$$ - $$$':2,'$$$$':3}).fillna(2)"
   ]
  },
  {
   "cell_type": "markdown",
   "metadata": {
    "papermill": {
     "duration": 0.035458,
     "end_time": "2020-12-02T21:54:44.074498",
     "exception": false,
     "start_time": "2020-12-02T21:54:44.039040",
     "status": "completed"
    },
    "tags": []
   },
   "source": [
    "## Number of Reviews\n"
   ]
  },
  {
   "cell_type": "code",
   "execution_count": 19,
   "metadata": {
    "execution": {
     "iopub.execute_input": "2020-12-02T21:54:44.152243Z",
     "iopub.status.busy": "2020-12-02T21:54:44.151485Z",
     "iopub.status.idle": "2020-12-02T21:54:44.353833Z",
     "shell.execute_reply": "2020-12-02T21:54:44.353265Z"
    },
    "papermill": {
     "duration": 0.244164,
     "end_time": "2020-12-02T21:54:44.353954",
     "exception": false,
     "start_time": "2020-12-02T21:54:44.109790",
     "status": "completed"
    },
    "tags": []
   },
   "outputs": [
    {
     "data": {
      "image/png": "[encoded data removed]",
      "text/plain": [
       "<Figure size 432x288 with 1 Axes>"
      ]
     },
     "metadata": {
      "needs_background": "light"
     },
     "output_type": "display_data"
    }
   ],
   "source": [
    "#Посмотрим распределение ранга от количества отзывов:\n",
    "data.pivot_table(values = ['Number of Reviews'], \n",
    "               index = 'Rating', \n",
    "               aggfunc = 'mean').plot(kind = 'bar', title='Распределение ранга от количества отзывов');"
   ]
  },
  {
   "cell_type": "code",
   "execution_count": 20,
   "metadata": {
    "execution": {
     "iopub.execute_input": "2020-12-02T21:54:44.434404Z",
     "iopub.status.busy": "2020-12-02T21:54:44.433702Z",
     "iopub.status.idle": "2020-12-02T21:54:44.447512Z",
     "shell.execute_reply": "2020-12-02T21:54:44.446913Z"
    },
    "papermill": {
     "duration": 0.057867,
     "end_time": "2020-12-02T21:54:44.447643",
     "exception": false,
     "start_time": "2020-12-02T21:54:44.389776",
     "status": "completed"
    },
    "tags": []
   },
   "outputs": [],
   "source": [
    "# Создадим признак - количество отзывов о ресторанах в городе:\n",
    "rev_count = data.groupby('City')['Number of Reviews'].sum().sort_values().to_dict()\n",
    "data['Rev in City'] = data['City'].map(rev_count)"
   ]
  },
  {
   "cell_type": "code",
   "execution_count": 21,
   "metadata": {
    "execution": {
     "iopub.execute_input": "2020-12-02T21:54:44.526503Z",
     "iopub.status.busy": "2020-12-02T21:54:44.525772Z",
     "iopub.status.idle": "2020-12-02T21:54:44.553647Z",
     "shell.execute_reply": "2020-12-02T21:54:44.553066Z"
    },
    "papermill": {
     "duration": 0.06953,
     "end_time": "2020-12-02T21:54:44.553762",
     "exception": false,
     "start_time": "2020-12-02T21:54:44.484232",
     "status": "completed"
    },
    "tags": []
   },
   "outputs": [
    {
     "data": {
      "text/html": [
       "<div>\n",
       "<style scoped>\n",
       "    .dataframe tbody tr th:only-of-type {\n",
       "        vertical-align: middle;\n",
       "    }\n",
       "\n",
       "    .dataframe tbody tr th {\n",
       "        vertical-align: top;\n",
       "    }\n",
       "\n",
       "    .dataframe thead th {\n",
       "        text-align: right;\n",
       "    }\n",
       "</style>\n",
       "<table border=\"1\" class=\"dataframe\">\n",
       "  <thead>\n",
       "    <tr style=\"text-align: right;\">\n",
       "      <th></th>\n",
       "      <th>Restaurant_id</th>\n",
       "      <th>City</th>\n",
       "      <th>Cuisine Style</th>\n",
       "      <th>Ranking</th>\n",
       "      <th>Price Range</th>\n",
       "      <th>Number of Reviews</th>\n",
       "      <th>Reviews</th>\n",
       "      <th>URL_TA</th>\n",
       "      <th>ID_TA</th>\n",
       "      <th>sample</th>\n",
       "      <th>...</th>\n",
       "      <th>Restaurants in City</th>\n",
       "      <th>City ranking</th>\n",
       "      <th>Capital</th>\n",
       "      <th>Country</th>\n",
       "      <th>Country Code</th>\n",
       "      <th>City Code</th>\n",
       "      <th>Population</th>\n",
       "      <th>Economy</th>\n",
       "      <th>Rev in City</th>\n",
       "      <th>Rev +-</th>\n",
       "    </tr>\n",
       "  </thead>\n",
       "  <tbody>\n",
       "    <tr>\n",
       "      <th>0</th>\n",
       "      <td>id_0</td>\n",
       "      <td>Paris</td>\n",
       "      <td>['Bar', 'Pub']</td>\n",
       "      <td>12963.0</td>\n",
       "      <td>2.0</td>\n",
       "      <td>4.0</td>\n",
       "      <td>[[], []]</td>\n",
       "      <td>/Restaurant_Review-g187147-d10746918-Reviews-L...</td>\n",
       "      <td>d10746918</td>\n",
       "      <td>0</td>\n",
       "      <td>...</td>\n",
       "      <td>6108</td>\n",
       "      <td>2.122299</td>\n",
       "      <td>1</td>\n",
       "      <td>FR</td>\n",
       "      <td>8</td>\n",
       "      <td>24</td>\n",
       "      <td>9904000</td>\n",
       "      <td>45893</td>\n",
       "      <td>717048.118205</td>\n",
       "      <td>0.000309</td>\n",
       "    </tr>\n",
       "    <tr>\n",
       "      <th>1</th>\n",
       "      <td>id_1</td>\n",
       "      <td>Helsinki</td>\n",
       "      <td>['European', 'Scandinavian', 'Gluten Free Opti...</td>\n",
       "      <td>106.0</td>\n",
       "      <td>2.0</td>\n",
       "      <td>97.0</td>\n",
       "      <td>[['Very good reviews!', 'Fine dining in Hakani...</td>\n",
       "      <td>/Restaurant_Review-g189934-d6674944-Reviews-Ra...</td>\n",
       "      <td>d6674944</td>\n",
       "      <td>0</td>\n",
       "      <td>...</td>\n",
       "      <td>475</td>\n",
       "      <td>0.223158</td>\n",
       "      <td>1</td>\n",
       "      <td>FI</td>\n",
       "      <td>7</td>\n",
       "      <td>12</td>\n",
       "      <td>1115000</td>\n",
       "      <td>48098</td>\n",
       "      <td>32996.193504</td>\n",
       "      <td>0.915094</td>\n",
       "    </tr>\n",
       "    <tr>\n",
       "      <th>2</th>\n",
       "      <td>id_2</td>\n",
       "      <td>Edinburgh</td>\n",
       "      <td>['Vegetarian Friendly']</td>\n",
       "      <td>810.0</td>\n",
       "      <td>2.0</td>\n",
       "      <td>28.0</td>\n",
       "      <td>[['Better than the Links', 'Ivy Black'], ['12/...</td>\n",
       "      <td>/Restaurant_Review-g186525-d13129638-Reviews-B...</td>\n",
       "      <td>d13129638</td>\n",
       "      <td>0</td>\n",
       "      <td>...</td>\n",
       "      <td>745</td>\n",
       "      <td>1.087248</td>\n",
       "      <td>0</td>\n",
       "      <td>GB</td>\n",
       "      <td>9</td>\n",
       "      <td>9</td>\n",
       "      <td>504966</td>\n",
       "      <td>46870</td>\n",
       "      <td>174716.895128</td>\n",
       "      <td>0.034568</td>\n",
       "    </tr>\n",
       "    <tr>\n",
       "      <th>3</th>\n",
       "      <td>id_3</td>\n",
       "      <td>London</td>\n",
       "      <td>['Italian', 'Mediterranean', 'European', 'Vege...</td>\n",
       "      <td>1669.0</td>\n",
       "      <td>3.0</td>\n",
       "      <td>202.0</td>\n",
       "      <td>[['Most exquisite', 'Delicious and authentic']...</td>\n",
       "      <td>/Restaurant_Review-g186338-d680417-Reviews-Qui...</td>\n",
       "      <td>d680417</td>\n",
       "      <td>0</td>\n",
       "      <td>...</td>\n",
       "      <td>7193</td>\n",
       "      <td>0.232031</td>\n",
       "      <td>1</td>\n",
       "      <td>GB</td>\n",
       "      <td>9</td>\n",
       "      <td>16</td>\n",
       "      <td>8567000</td>\n",
       "      <td>46870</td>\n",
       "      <td>986670.258547</td>\n",
       "      <td>0.121031</td>\n",
       "    </tr>\n",
       "    <tr>\n",
       "      <th>4</th>\n",
       "      <td>id_4</td>\n",
       "      <td>Bratislava</td>\n",
       "      <td>['Italian', 'Mediterranean', 'European', 'Seaf...</td>\n",
       "      <td>37.0</td>\n",
       "      <td>3.0</td>\n",
       "      <td>162.0</td>\n",
       "      <td>[['Always the best in bratislava', 'Very good ...</td>\n",
       "      <td>/Restaurant_Review-g274924-d1112354-Reviews-Ma...</td>\n",
       "      <td>d1112354</td>\n",
       "      <td>0</td>\n",
       "      <td>...</td>\n",
       "      <td>380</td>\n",
       "      <td>0.097368</td>\n",
       "      <td>1</td>\n",
       "      <td>SK</td>\n",
       "      <td>21</td>\n",
       "      <td>4</td>\n",
       "      <td>423737</td>\n",
       "      <td>36878</td>\n",
       "      <td>23766.858205</td>\n",
       "      <td>4.378378</td>\n",
       "    </tr>\n",
       "  </tbody>\n",
       "</table>\n",
       "<p>5 rows × 24 columns</p>\n",
       "</div>"
      ],
      "text/plain": [
       "  Restaurant_id        City  \\\n",
       "0          id_0       Paris   \n",
       "1          id_1    Helsinki   \n",
       "2          id_2   Edinburgh   \n",
       "3          id_3      London   \n",
       "4          id_4  Bratislava   \n",
       "\n",
       "                                       Cuisine Style  Ranking  Price Range  \\\n",
       "0                                     ['Bar', 'Pub']  12963.0          2.0   \n",
       "1  ['European', 'Scandinavian', 'Gluten Free Opti...    106.0          2.0   \n",
       "2                            ['Vegetarian Friendly']    810.0          2.0   \n",
       "3  ['Italian', 'Mediterranean', 'European', 'Vege...   1669.0          3.0   \n",
       "4  ['Italian', 'Mediterranean', 'European', 'Seaf...     37.0          3.0   \n",
       "\n",
       "   Number of Reviews                                            Reviews  \\\n",
       "0                4.0                                           [[], []]   \n",
       "1               97.0  [['Very good reviews!', 'Fine dining in Hakani...   \n",
       "2               28.0  [['Better than the Links', 'Ivy Black'], ['12/...   \n",
       "3              202.0  [['Most exquisite', 'Delicious and authentic']...   \n",
       "4              162.0  [['Always the best in bratislava', 'Very good ...   \n",
       "\n",
       "                                              URL_TA      ID_TA  sample  ...  \\\n",
       "0  /Restaurant_Review-g187147-d10746918-Reviews-L...  d10746918       0  ...   \n",
       "1  /Restaurant_Review-g189934-d6674944-Reviews-Ra...   d6674944       0  ...   \n",
       "2  /Restaurant_Review-g186525-d13129638-Reviews-B...  d13129638       0  ...   \n",
       "3  /Restaurant_Review-g186338-d680417-Reviews-Qui...    d680417       0  ...   \n",
       "4  /Restaurant_Review-g274924-d1112354-Reviews-Ma...   d1112354       0  ...   \n",
       "\n",
       "   Restaurants in City  City ranking  Capital  Country  Country Code  \\\n",
       "0                 6108      2.122299        1       FR             8   \n",
       "1                  475      0.223158        1       FI             7   \n",
       "2                  745      1.087248        0       GB             9   \n",
       "3                 7193      0.232031        1       GB             9   \n",
       "4                  380      0.097368        1       SK            21   \n",
       "\n",
       "   City Code  Population Economy    Rev in City    Rev +-  \n",
       "0         24     9904000   45893  717048.118205  0.000309  \n",
       "1         12     1115000   48098   32996.193504  0.915094  \n",
       "2          9      504966   46870  174716.895128  0.034568  \n",
       "3         16     8567000   46870  986670.258547  0.121031  \n",
       "4          4      423737   36878   23766.858205  4.378378  \n",
       "\n",
       "[5 rows x 24 columns]"
      ]
     },
     "execution_count": 21,
     "metadata": {},
     "output_type": "execute_result"
    }
   ],
   "source": [
    "# Создадим новый отзыв на основании соотношения количества отзывов к рейтингу\n",
    "data['Rev +-'] = data['Number of Reviews']/data['Ranking']\n",
    "data.head()"
   ]
  },
  {
   "cell_type": "markdown",
   "metadata": {
    "papermill": {
     "duration": 0.036688,
     "end_time": "2020-12-02T21:54:44.627806",
     "exception": false,
     "start_time": "2020-12-02T21:54:44.591118",
     "status": "completed"
    },
    "tags": []
   },
   "source": [
    "## Reviews"
   ]
  },
  {
   "cell_type": "code",
   "execution_count": 22,
   "metadata": {
    "execution": {
     "iopub.execute_input": "2020-12-02T21:54:44.724918Z",
     "iopub.status.busy": "2020-12-02T21:54:44.719792Z",
     "iopub.status.idle": "2020-12-02T21:54:45.042909Z",
     "shell.execute_reply": "2020-12-02T21:54:45.042372Z"
    },
    "papermill": {
     "duration": 0.378758,
     "end_time": "2020-12-02T21:54:45.043044",
     "exception": false,
     "start_time": "2020-12-02T21:54:44.664286",
     "status": "completed"
    },
    "tags": []
   },
   "outputs": [],
   "source": [
    "# очистим данные\n",
    "data['Review Date'] = data['Reviews'].str[2:-2].str.split(\"\\], \\[\").str[1].replace('\\'', '', regex=True)\n",
    "# Создадим призна, указывающий был ли написан отзыв\n",
    "data['Is Reviewed'] = data['Review Date'].apply(lambda x: 0 if x == '' else 1)"
   ]
  },
  {
   "cell_type": "code",
   "execution_count": 23,
   "metadata": {
    "execution": {
     "iopub.execute_input": "2020-12-02T21:54:45.127929Z",
     "iopub.status.busy": "2020-12-02T21:54:45.124514Z",
     "iopub.status.idle": "2020-12-02T21:54:45.171568Z",
     "shell.execute_reply": "2020-12-02T21:54:45.172055Z"
    },
    "papermill": {
     "duration": 0.092469,
     "end_time": "2020-12-02T21:54:45.172236",
     "exception": false,
     "start_time": "2020-12-02T21:54:45.079767",
     "status": "completed"
    },
    "tags": []
   },
   "outputs": [],
   "source": [
    "# Заполняем пропущенные значения и деаем списки из дат\n",
    "data['Review Date'] = data['Review Date'].replace('', np.nan)\n",
    "data['Review Date'] = data['Review Date'].str.split(\", \")"
   ]
  },
  {
   "cell_type": "code",
   "execution_count": 24,
   "metadata": {
    "execution": {
     "iopub.execute_input": "2020-12-02T21:54:45.258977Z",
     "iopub.status.busy": "2020-12-02T21:54:45.258231Z",
     "iopub.status.idle": "2020-12-02T21:54:47.882648Z",
     "shell.execute_reply": "2020-12-02T21:54:47.882052Z"
    },
    "papermill": {
     "duration": 2.673767,
     "end_time": "2020-12-02T21:54:47.882792",
     "exception": false,
     "start_time": "2020-12-02T21:54:45.209025",
     "status": "completed"
    },
    "tags": []
   },
   "outputs": [],
   "source": [
    "# Создаем два новых атрибута - количество дней между отзывами \n",
    "# и количество дней с момента последнего отзыва\n",
    "def datediff (dateslist):\n",
    "    return abs(max( [dt.strptime(d, '%m/%d/%Y') for d in dateslist]) \n",
    "               - min( [dt.strptime(d, '%m/%d/%Y') for d in dateslist])).days\n",
    "\n",
    "def dayspassed (dateslist):\n",
    "    return abs(max( [dt.strptime(d, '%m/%d/%Y') for d in dateslist])\n",
    "              - dt.strptime(CURRENT_DATE, '%m/%d/%Y')).days\n",
    "    \n",
    "data['Days Between'] = data['Review Date'][~data['Review Date'].isna()].apply(lambda d: datediff(d))\n",
    "data['Days Since'] = data['Review Date'][~data['Review Date'].isna()].apply(lambda d: dayspassed(d))"
   ]
  },
  {
   "cell_type": "code",
   "execution_count": 25,
   "metadata": {
    "execution": {
     "iopub.execute_input": "2020-12-02T21:54:47.962014Z",
     "iopub.status.busy": "2020-12-02T21:54:47.961342Z",
     "iopub.status.idle": "2020-12-02T21:54:47.965693Z",
     "shell.execute_reply": "2020-12-02T21:54:47.966120Z"
    },
    "papermill": {
     "duration": 0.046538,
     "end_time": "2020-12-02T21:54:47.966286",
     "exception": false,
     "start_time": "2020-12-02T21:54:47.919748",
     "status": "completed"
    },
    "tags": []
   },
   "outputs": [],
   "source": [
    "# заполняем пустые значния 0, так как можно считать, \n",
    "# что если отзыва нет, то человек просто поставил оценку ресторану\n",
    "data['Days Between'] = data['Days Between'].fillna(0)\n",
    "data['Days Since'] = data['Days Since'].fillna(0)"
   ]
  },
  {
   "cell_type": "code",
   "execution_count": 26,
   "metadata": {
    "execution": {
     "iopub.execute_input": "2020-12-02T21:54:48.057649Z",
     "iopub.status.busy": "2020-12-02T21:54:48.047131Z",
     "iopub.status.idle": "2020-12-02T21:54:48.081983Z",
     "shell.execute_reply": "2020-12-02T21:54:48.082469Z"
    },
    "papermill": {
     "duration": 0.079001,
     "end_time": "2020-12-02T21:54:48.082627",
     "exception": false,
     "start_time": "2020-12-02T21:54:48.003626",
     "status": "completed"
    },
    "tags": []
   },
   "outputs": [],
   "source": [
    "# очистим этот признак\n",
    "data['Numeric ID'] = data['ID_TA'].apply(lambda id_ta: int(id_ta[1:]))"
   ]
  },
  {
   "cell_type": "markdown",
   "metadata": {
    "papermill": {
     "duration": 0.039129,
     "end_time": "2020-12-02T21:54:48.158734",
     "exception": false,
     "start_time": "2020-12-02T21:54:48.119605",
     "status": "completed"
    },
    "tags": []
   },
   "source": [
    "## Создание dummy-переменных\n"
   ]
  },
  {
   "cell_type": "code",
   "execution_count": 27,
   "metadata": {
    "execution": {
     "iopub.execute_input": "2020-12-02T21:54:48.239449Z",
     "iopub.status.busy": "2020-12-02T21:54:48.238772Z",
     "iopub.status.idle": "2020-12-02T21:54:48.321929Z",
     "shell.execute_reply": "2020-12-02T21:54:48.321278Z"
    },
    "papermill": {
     "duration": 0.126066,
     "end_time": "2020-12-02T21:54:48.322045",
     "exception": false,
     "start_time": "2020-12-02T21:54:48.195979",
     "status": "completed"
    },
    "tags": []
   },
   "outputs": [],
   "source": [
    "data = pd.get_dummies(data, columns=[ 'City',], dummy_na=True)\n",
    "#styles = data['Cuisine Style'].str[2:-2].str.split(\"', '\").apply(lambda x: pd.Series([1] * len(x), index=x)).fillna(0, downcast='infer')\n",
    "#data = data.join(styles)"
   ]
  },
  {
   "cell_type": "markdown",
   "metadata": {
    "papermill": {
     "duration": 0.036885,
     "end_time": "2020-12-02T21:54:48.397576",
     "exception": false,
     "start_time": "2020-12-02T21:54:48.360691",
     "status": "completed"
    },
    "tags": []
   },
   "source": [
    "## Исключаем object столбцы из датафрейма"
   ]
  },
  {
   "cell_type": "code",
   "execution_count": 28,
   "metadata": {
    "execution": {
     "iopub.execute_input": "2020-12-02T21:54:48.477857Z",
     "iopub.status.busy": "2020-12-02T21:54:48.477135Z",
     "iopub.status.idle": "2020-12-02T21:54:48.514288Z",
     "shell.execute_reply": "2020-12-02T21:54:48.513597Z"
    },
    "papermill": {
     "duration": 0.079819,
     "end_time": "2020-12-02T21:54:48.514417",
     "exception": false,
     "start_time": "2020-12-02T21:54:48.434598",
     "status": "completed"
    },
    "tags": []
   },
   "outputs": [],
   "source": [
    "data =  data.drop(['Cuisine Style', 'Restaurant_id','Country','Cuisine Style', 'Reviews', 'URL_TA', 'ID_TA', 'Review Date', 'Cuisine Style Was NAN'], axis=1)"
   ]
  },
  {
   "cell_type": "markdown",
   "metadata": {
    "papermill": {
     "duration": 0.036647,
     "end_time": "2020-12-02T21:54:48.588147",
     "exception": false,
     "start_time": "2020-12-02T21:54:48.551500",
     "status": "completed"
    },
    "tags": []
   },
   "source": [
    "## Рассмотрим корреляцию признаков"
   ]
  },
  {
   "cell_type": "code",
   "execution_count": 29,
   "metadata": {
    "execution": {
     "iopub.execute_input": "2020-12-02T21:54:48.672349Z",
     "iopub.status.busy": "2020-12-02T21:54:48.671616Z",
     "iopub.status.idle": "2020-12-02T21:54:50.456469Z",
     "shell.execute_reply": "2020-12-02T21:54:50.456979Z"
    },
    "papermill": {
     "duration": 1.831748,
     "end_time": "2020-12-02T21:54:50.457120",
     "exception": false,
     "start_time": "2020-12-02T21:54:48.625372",
     "status": "completed"
    },
    "tags": []
   },
   "outputs": [
    {
     "data": {
      "text/plain": [
       "<matplotlib.axes._subplots.AxesSubplot at 0x7f0066abd850>"
      ]
     },
     "execution_count": 29,
     "metadata": {},
     "output_type": "execute_result"
    },
    {
     "data": {
      "image/png": "[encoded data removed]",
      "text/plain": [
       "<Figure size 2160x1440 with 2 Axes>"
      ]
     },
     "metadata": {
      "needs_background": "light"
     },
     "output_type": "display_data"
    }
   ],
   "source": [
    "plt.rcParams['figure.figsize'] = (30,20)\n",
    "sns.heatmap(data.drop(['sample'], axis=1).corr(),)"
   ]
  },
  {
   "cell_type": "code",
   "execution_count": 30,
   "metadata": {
    "execution": {
     "iopub.execute_input": "2020-12-02T21:54:50.581014Z",
     "iopub.status.busy": "2020-12-02T21:54:50.568252Z",
     "iopub.status.idle": "2020-12-02T21:54:50.588306Z",
     "shell.execute_reply": "2020-12-02T21:54:50.589122Z"
    },
    "papermill": {
     "duration": 0.087684,
     "end_time": "2020-12-02T21:54:50.589383",
     "exception": false,
     "start_time": "2020-12-02T21:54:50.501699",
     "status": "completed"
    },
    "tags": []
   },
   "outputs": [
    {
     "data": {
      "text/html": [
       "<div>\n",
       "<style scoped>\n",
       "    .dataframe tbody tr th:only-of-type {\n",
       "        vertical-align: middle;\n",
       "    }\n",
       "\n",
       "    .dataframe tbody tr th {\n",
       "        vertical-align: top;\n",
       "    }\n",
       "\n",
       "    .dataframe thead th {\n",
       "        text-align: right;\n",
       "    }\n",
       "</style>\n",
       "<table border=\"1\" class=\"dataframe\">\n",
       "  <thead>\n",
       "    <tr style=\"text-align: right;\">\n",
       "      <th></th>\n",
       "      <th>Ranking</th>\n",
       "      <th>Price Range</th>\n",
       "      <th>Number of Reviews</th>\n",
       "      <th>sample</th>\n",
       "      <th>Rating</th>\n",
       "      <th>Number of Reviews Was NAN</th>\n",
       "      <th>Number of Styles</th>\n",
       "      <th>Restaurants in City</th>\n",
       "      <th>City ranking</th>\n",
       "      <th>Capital</th>\n",
       "      <th>...</th>\n",
       "      <th>City_Oporto</th>\n",
       "      <th>City_Oslo</th>\n",
       "      <th>City_Paris</th>\n",
       "      <th>City_Prague</th>\n",
       "      <th>City_Rome</th>\n",
       "      <th>City_Stockholm</th>\n",
       "      <th>City_Vienna</th>\n",
       "      <th>City_Warsaw</th>\n",
       "      <th>City_Zurich</th>\n",
       "      <th>City_nan</th>\n",
       "    </tr>\n",
       "  </thead>\n",
       "  <tbody>\n",
       "    <tr>\n",
       "      <th>11038</th>\n",
       "      <td>922.0</td>\n",
       "      <td>2.0</td>\n",
       "      <td>136.000000</td>\n",
       "      <td>1</td>\n",
       "      <td>4.5</td>\n",
       "      <td>False</td>\n",
       "      <td>5</td>\n",
       "      <td>7193</td>\n",
       "      <td>0.128180</td>\n",
       "      <td>1</td>\n",
       "      <td>...</td>\n",
       "      <td>0</td>\n",
       "      <td>0</td>\n",
       "      <td>0</td>\n",
       "      <td>0</td>\n",
       "      <td>0</td>\n",
       "      <td>0</td>\n",
       "      <td>0</td>\n",
       "      <td>0</td>\n",
       "      <td>0</td>\n",
       "      <td>0</td>\n",
       "    </tr>\n",
       "    <tr>\n",
       "      <th>25471</th>\n",
       "      <td>12709.0</td>\n",
       "      <td>2.0</td>\n",
       "      <td>124.471197</td>\n",
       "      <td>1</td>\n",
       "      <td>4.0</td>\n",
       "      <td>True</td>\n",
       "      <td>1</td>\n",
       "      <td>7193</td>\n",
       "      <td>1.766857</td>\n",
       "      <td>1</td>\n",
       "      <td>...</td>\n",
       "      <td>0</td>\n",
       "      <td>0</td>\n",
       "      <td>0</td>\n",
       "      <td>0</td>\n",
       "      <td>0</td>\n",
       "      <td>0</td>\n",
       "      <td>0</td>\n",
       "      <td>0</td>\n",
       "      <td>0</td>\n",
       "      <td>0</td>\n",
       "    </tr>\n",
       "    <tr>\n",
       "      <th>41565</th>\n",
       "      <td>251.0</td>\n",
       "      <td>1.0</td>\n",
       "      <td>65.000000</td>\n",
       "      <td>1</td>\n",
       "      <td>5.0</td>\n",
       "      <td>False</td>\n",
       "      <td>5</td>\n",
       "      <td>836</td>\n",
       "      <td>0.300239</td>\n",
       "      <td>1</td>\n",
       "      <td>...</td>\n",
       "      <td>0</td>\n",
       "      <td>0</td>\n",
       "      <td>0</td>\n",
       "      <td>0</td>\n",
       "      <td>0</td>\n",
       "      <td>0</td>\n",
       "      <td>0</td>\n",
       "      <td>0</td>\n",
       "      <td>0</td>\n",
       "      <td>0</td>\n",
       "    </tr>\n",
       "    <tr>\n",
       "      <th>40094</th>\n",
       "      <td>10.0</td>\n",
       "      <td>2.0</td>\n",
       "      <td>299.000000</td>\n",
       "      <td>1</td>\n",
       "      <td>4.5</td>\n",
       "      <td>False</td>\n",
       "      <td>8</td>\n",
       "      <td>1145</td>\n",
       "      <td>0.008734</td>\n",
       "      <td>0</td>\n",
       "      <td>...</td>\n",
       "      <td>0</td>\n",
       "      <td>0</td>\n",
       "      <td>0</td>\n",
       "      <td>0</td>\n",
       "      <td>0</td>\n",
       "      <td>0</td>\n",
       "      <td>0</td>\n",
       "      <td>0</td>\n",
       "      <td>0</td>\n",
       "      <td>0</td>\n",
       "    </tr>\n",
       "    <tr>\n",
       "      <th>29892</th>\n",
       "      <td>7465.0</td>\n",
       "      <td>2.0</td>\n",
       "      <td>369.000000</td>\n",
       "      <td>1</td>\n",
       "      <td>2.5</td>\n",
       "      <td>False</td>\n",
       "      <td>4</td>\n",
       "      <td>3395</td>\n",
       "      <td>2.198822</td>\n",
       "      <td>0</td>\n",
       "      <td>...</td>\n",
       "      <td>0</td>\n",
       "      <td>0</td>\n",
       "      <td>0</td>\n",
       "      <td>0</td>\n",
       "      <td>0</td>\n",
       "      <td>0</td>\n",
       "      <td>0</td>\n",
       "      <td>0</td>\n",
       "      <td>0</td>\n",
       "      <td>0</td>\n",
       "    </tr>\n",
       "    <tr>\n",
       "      <th>19878</th>\n",
       "      <td>1680.0</td>\n",
       "      <td>2.0</td>\n",
       "      <td>14.000000</td>\n",
       "      <td>1</td>\n",
       "      <td>4.0</td>\n",
       "      <td>False</td>\n",
       "      <td>2</td>\n",
       "      <td>1021</td>\n",
       "      <td>1.645446</td>\n",
       "      <td>1</td>\n",
       "      <td>...</td>\n",
       "      <td>0</td>\n",
       "      <td>0</td>\n",
       "      <td>0</td>\n",
       "      <td>0</td>\n",
       "      <td>0</td>\n",
       "      <td>0</td>\n",
       "      <td>0</td>\n",
       "      <td>0</td>\n",
       "      <td>0</td>\n",
       "      <td>0</td>\n",
       "    </tr>\n",
       "    <tr>\n",
       "      <th>25960</th>\n",
       "      <td>910.0</td>\n",
       "      <td>1.0</td>\n",
       "      <td>24.000000</td>\n",
       "      <td>1</td>\n",
       "      <td>4.5</td>\n",
       "      <td>False</td>\n",
       "      <td>4</td>\n",
       "      <td>745</td>\n",
       "      <td>1.221477</td>\n",
       "      <td>0</td>\n",
       "      <td>...</td>\n",
       "      <td>0</td>\n",
       "      <td>0</td>\n",
       "      <td>0</td>\n",
       "      <td>0</td>\n",
       "      <td>0</td>\n",
       "      <td>0</td>\n",
       "      <td>0</td>\n",
       "      <td>0</td>\n",
       "      <td>0</td>\n",
       "      <td>0</td>\n",
       "    </tr>\n",
       "    <tr>\n",
       "      <th>4151</th>\n",
       "      <td>2010.0</td>\n",
       "      <td>2.0</td>\n",
       "      <td>3.000000</td>\n",
       "      <td>0</td>\n",
       "      <td>0.0</td>\n",
       "      <td>False</td>\n",
       "      <td>1</td>\n",
       "      <td>925</td>\n",
       "      <td>2.172973</td>\n",
       "      <td>1</td>\n",
       "      <td>...</td>\n",
       "      <td>0</td>\n",
       "      <td>0</td>\n",
       "      <td>0</td>\n",
       "      <td>0</td>\n",
       "      <td>0</td>\n",
       "      <td>0</td>\n",
       "      <td>0</td>\n",
       "      <td>1</td>\n",
       "      <td>0</td>\n",
       "      <td>0</td>\n",
       "    </tr>\n",
       "    <tr>\n",
       "      <th>13525</th>\n",
       "      <td>1145.0</td>\n",
       "      <td>2.0</td>\n",
       "      <td>126.000000</td>\n",
       "      <td>1</td>\n",
       "      <td>3.5</td>\n",
       "      <td>False</td>\n",
       "      <td>5</td>\n",
       "      <td>1647</td>\n",
       "      <td>0.695203</td>\n",
       "      <td>1</td>\n",
       "      <td>...</td>\n",
       "      <td>0</td>\n",
       "      <td>0</td>\n",
       "      <td>0</td>\n",
       "      <td>0</td>\n",
       "      <td>0</td>\n",
       "      <td>0</td>\n",
       "      <td>0</td>\n",
       "      <td>0</td>\n",
       "      <td>0</td>\n",
       "      <td>0</td>\n",
       "    </tr>\n",
       "    <tr>\n",
       "      <th>38730</th>\n",
       "      <td>1903.0</td>\n",
       "      <td>2.0</td>\n",
       "      <td>134.000000</td>\n",
       "      <td>1</td>\n",
       "      <td>4.0</td>\n",
       "      <td>False</td>\n",
       "      <td>5</td>\n",
       "      <td>6108</td>\n",
       "      <td>0.311559</td>\n",
       "      <td>1</td>\n",
       "      <td>...</td>\n",
       "      <td>0</td>\n",
       "      <td>0</td>\n",
       "      <td>1</td>\n",
       "      <td>0</td>\n",
       "      <td>0</td>\n",
       "      <td>0</td>\n",
       "      <td>0</td>\n",
       "      <td>0</td>\n",
       "      <td>0</td>\n",
       "      <td>0</td>\n",
       "    </tr>\n",
       "  </tbody>\n",
       "</table>\n",
       "<p>10 rows × 52 columns</p>\n",
       "</div>"
      ],
      "text/plain": [
       "       Ranking  Price Range  Number of Reviews  sample  Rating  \\\n",
       "11038    922.0          2.0         136.000000       1     4.5   \n",
       "25471  12709.0          2.0         124.471197       1     4.0   \n",
       "41565    251.0          1.0          65.000000       1     5.0   \n",
       "40094     10.0          2.0         299.000000       1     4.5   \n",
       "29892   7465.0          2.0         369.000000       1     2.5   \n",
       "19878   1680.0          2.0          14.000000       1     4.0   \n",
       "25960    910.0          1.0          24.000000       1     4.5   \n",
       "4151    2010.0          2.0           3.000000       0     0.0   \n",
       "13525   1145.0          2.0         126.000000       1     3.5   \n",
       "38730   1903.0          2.0         134.000000       1     4.0   \n",
       "\n",
       "       Number of Reviews Was NAN  Number of Styles  Restaurants in City  \\\n",
       "11038                      False                 5                 7193   \n",
       "25471                       True                 1                 7193   \n",
       "41565                      False                 5                  836   \n",
       "40094                      False                 8                 1145   \n",
       "29892                      False                 4                 3395   \n",
       "19878                      False                 2                 1021   \n",
       "25960                      False                 4                  745   \n",
       "4151                       False                 1                  925   \n",
       "13525                      False                 5                 1647   \n",
       "38730                      False                 5                 6108   \n",
       "\n",
       "       City ranking  Capital  ...  City_Oporto  City_Oslo  City_Paris  \\\n",
       "11038      0.128180        1  ...            0          0           0   \n",
       "25471      1.766857        1  ...            0          0           0   \n",
       "41565      0.300239        1  ...            0          0           0   \n",
       "40094      0.008734        0  ...            0          0           0   \n",
       "29892      2.198822        0  ...            0          0           0   \n",
       "19878      1.645446        1  ...            0          0           0   \n",
       "25960      1.221477        0  ...            0          0           0   \n",
       "4151       2.172973        1  ...            0          0           0   \n",
       "13525      0.695203        1  ...            0          0           0   \n",
       "38730      0.311559        1  ...            0          0           1   \n",
       "\n",
       "       City_Prague  City_Rome  City_Stockholm  City_Vienna  City_Warsaw  \\\n",
       "11038            0          0               0            0            0   \n",
       "25471            0          0               0            0            0   \n",
       "41565            0          0               0            0            0   \n",
       "40094            0          0               0            0            0   \n",
       "29892            0          0               0            0            0   \n",
       "19878            0          0               0            0            0   \n",
       "25960            0          0               0            0            0   \n",
       "4151             0          0               0            0            1   \n",
       "13525            0          0               0            0            0   \n",
       "38730            0          0               0            0            0   \n",
       "\n",
       "       City_Zurich  City_nan  \n",
       "11038            0         0  \n",
       "25471            0         0  \n",
       "41565            0         0  \n",
       "40094            0         0  \n",
       "29892            0         0  \n",
       "19878            0         0  \n",
       "25960            0         0  \n",
       "4151             0         0  \n",
       "13525            0         0  \n",
       "38730            0         0  \n",
       "\n",
       "[10 rows x 52 columns]"
      ]
     },
     "execution_count": 30,
     "metadata": {},
     "output_type": "execute_result"
    }
   ],
   "source": [
    "data.sample(10)"
   ]
  },
  {
   "cell_type": "markdown",
   "metadata": {
    "papermill": {
     "duration": 0.042354,
     "end_time": "2020-12-02T21:54:50.677857",
     "exception": false,
     "start_time": "2020-12-02T21:54:50.635503",
     "status": "completed"
    },
    "tags": []
   },
   "source": [
    "# Data Preprocessing"
   ]
  },
  {
   "cell_type": "code",
   "execution_count": 31,
   "metadata": {
    "execution": {
     "iopub.execute_input": "2020-12-02T21:54:50.843967Z",
     "iopub.status.busy": "2020-12-02T21:54:50.842909Z",
     "iopub.status.idle": "2020-12-02T21:54:50.880035Z",
     "shell.execute_reply": "2020-12-02T21:54:50.880591Z"
    },
    "papermill": {
     "duration": 0.117639,
     "end_time": "2020-12-02T21:54:50.880759",
     "exception": false,
     "start_time": "2020-12-02T21:54:50.763120",
     "status": "completed"
    },
    "tags": []
   },
   "outputs": [],
   "source": [
    "# Let's separate test data\n",
    "train_data = data.query('sample == 1').drop(['sample'], axis=1)\n",
    "test_data = data.query('sample == 0').drop(['sample'], axis=1)\n",
    "\n",
    "y = train_data.Rating.values            # target\n",
    "X = train_data.drop(['Rating'], axis=1)"
   ]
  },
  {
   "cell_type": "code",
   "execution_count": 32,
   "metadata": {
    "execution": {
     "iopub.execute_input": "2020-12-02T21:54:50.986343Z",
     "iopub.status.busy": "2020-12-02T21:54:50.984931Z",
     "iopub.status.idle": "2020-12-02T21:54:51.002020Z",
     "shell.execute_reply": "2020-12-02T21:54:51.001474Z"
    },
    "papermill": {
     "duration": 0.073479,
     "end_time": "2020-12-02T21:54:51.002156",
     "exception": false,
     "start_time": "2020-12-02T21:54:50.928677",
     "status": "completed"
    },
    "tags": []
   },
   "outputs": [],
   "source": [
    "# To test the model before sending the prediction isolating 25%\n",
    "\n",
    "from sklearn.model_selection import train_test_split\n",
    "X_train, X_test, y_train, y_test = train_test_split(X, y, test_size=0.25, random_state=RANDOM_SEED)"
   ]
  },
  {
   "cell_type": "markdown",
   "metadata": {
    "papermill": {
     "duration": 0.043641,
     "end_time": "2020-12-02T21:54:51.090779",
     "exception": false,
     "start_time": "2020-12-02T21:54:51.047138",
     "status": "completed"
    },
    "tags": []
   },
   "source": [
    "# Model"
   ]
  },
  {
   "cell_type": "code",
   "execution_count": 33,
   "metadata": {
    "execution": {
     "iopub.execute_input": "2020-12-02T21:54:51.186181Z",
     "iopub.status.busy": "2020-12-02T21:54:51.185517Z",
     "iopub.status.idle": "2020-12-02T21:54:51.436389Z",
     "shell.execute_reply": "2020-12-02T21:54:51.435687Z"
    },
    "papermill": {
     "duration": 0.30064,
     "end_time": "2020-12-02T21:54:51.436537",
     "exception": false,
     "start_time": "2020-12-02T21:54:51.135897",
     "status": "completed"
    },
    "tags": []
   },
   "outputs": [],
   "source": [
    "from sklearn.ensemble import RandomForestRegressor\n",
    "from sklearn import metrics"
   ]
  },
  {
   "cell_type": "code",
   "execution_count": 34,
   "metadata": {
    "execution": {
     "iopub.execute_input": "2020-12-02T21:54:51.525884Z",
     "iopub.status.busy": "2020-12-02T21:54:51.525197Z",
     "iopub.status.idle": "2020-12-02T21:54:51.528648Z",
     "shell.execute_reply": "2020-12-02T21:54:51.528108Z"
    },
    "papermill": {
     "duration": 0.050299,
     "end_time": "2020-12-02T21:54:51.528778",
     "exception": false,
     "start_time": "2020-12-02T21:54:51.478479",
     "status": "completed"
    },
    "tags": []
   },
   "outputs": [],
   "source": [
    "model = RandomForestRegressor(n_estimators=100, verbose=1, n_jobs=-1, random_state=RANDOM_SEED)"
   ]
  },
  {
   "cell_type": "code",
   "execution_count": 35,
   "metadata": {
    "execution": {
     "iopub.execute_input": "2020-12-02T21:54:51.637919Z",
     "iopub.status.busy": "2020-12-02T21:54:51.637112Z",
     "iopub.status.idle": "2020-12-02T21:55:04.538062Z",
     "shell.execute_reply": "2020-12-02T21:55:04.538618Z"
    },
    "papermill": {
     "duration": 12.968018,
     "end_time": "2020-12-02T21:55:04.538783",
     "exception": false,
     "start_time": "2020-12-02T21:54:51.570765",
     "status": "completed"
    },
    "tags": []
   },
   "outputs": [
    {
     "name": "stderr",
     "output_type": "stream",
     "text": [
      "[Parallel(n_jobs=-1)]: Using backend ThreadingBackend with 4 concurrent workers.\n",
      "[Parallel(n_jobs=-1)]: Done  42 tasks      | elapsed:    5.5s\n",
      "[Parallel(n_jobs=-1)]: Done 100 out of 100 | elapsed:   12.7s finished\n"
     ]
    },
    {
     "data": {
      "text/plain": [
       "RandomForestRegressor(n_jobs=-1, random_state=42, verbose=1)"
      ]
     },
     "execution_count": 35,
     "metadata": {},
     "output_type": "execute_result"
    }
   ],
   "source": [
    "model.fit(X_train, y_train)"
   ]
  },
  {
   "cell_type": "code",
   "execution_count": 36,
   "metadata": {
    "execution": {
     "iopub.execute_input": "2020-12-02T21:55:04.633711Z",
     "iopub.status.busy": "2020-12-02T21:55:04.633025Z",
     "iopub.status.idle": "2020-12-02T21:55:04.786957Z",
     "shell.execute_reply": "2020-12-02T21:55:04.787872Z"
    },
    "papermill": {
     "duration": 0.2062,
     "end_time": "2020-12-02T21:55:04.788031",
     "exception": false,
     "start_time": "2020-12-02T21:55:04.581831",
     "status": "completed"
    },
    "tags": []
   },
   "outputs": [
    {
     "name": "stderr",
     "output_type": "stream",
     "text": [
      "[Parallel(n_jobs=4)]: Using backend ThreadingBackend with 4 concurrent workers.\n",
      "[Parallel(n_jobs=4)]: Done  42 tasks      | elapsed:    0.0s\n",
      "[Parallel(n_jobs=4)]: Done 100 out of 100 | elapsed:    0.1s finished\n"
     ]
    }
   ],
   "source": [
    "# Рейтинг указан с шагом 0.5 - округлим предсказываемое значение\n",
    "\n",
    "def rating_round(x, base=0.5):\n",
    "    return base * round(x/base)\n",
    "\n",
    "def predict(ds):\n",
    "    return np.array([rating_round(x) for x in model.predict(ds)])\n",
    "\n",
    "y_pred = predict(X_test)"
   ]
  },
  {
   "cell_type": "code",
   "execution_count": 37,
   "metadata": {
    "execution": {
     "iopub.execute_input": "2020-12-02T21:55:04.881530Z",
     "iopub.status.busy": "2020-12-02T21:55:04.880495Z",
     "iopub.status.idle": "2020-12-02T21:55:04.885037Z",
     "shell.execute_reply": "2020-12-02T21:55:04.885522Z"
    },
    "papermill": {
     "duration": 0.054067,
     "end_time": "2020-12-02T21:55:04.885687",
     "exception": false,
     "start_time": "2020-12-02T21:55:04.831620",
     "status": "completed"
    },
    "tags": []
   },
   "outputs": [
    {
     "name": "stdout",
     "output_type": "stream",
     "text": [
      "MAE: 0.1669\n"
     ]
    }
   ],
   "source": [
    "# Теперь посмотрим насколько хороша модель\n",
    "print('MAE:', metrics.mean_absolute_error(y_test, y_pred))"
   ]
  },
  {
   "cell_type": "code",
   "execution_count": 38,
   "metadata": {
    "execution": {
     "iopub.execute_input": "2020-12-02T21:55:04.981047Z",
     "iopub.status.busy": "2020-12-02T21:55:04.980022Z",
     "iopub.status.idle": "2020-12-02T21:55:05.381436Z",
     "shell.execute_reply": "2020-12-02T21:55:05.380563Z"
    },
    "papermill": {
     "duration": 0.451601,
     "end_time": "2020-12-02T21:55:05.381648",
     "exception": false,
     "start_time": "2020-12-02T21:55:04.930047",
     "status": "completed"
    },
    "tags": []
   },
   "outputs": [
    {
     "data": {
      "text/plain": [
       "<matplotlib.axes._subplots.AxesSubplot at 0x7f006aee8110>"
      ]
     },
     "execution_count": 38,
     "metadata": {},
     "output_type": "execute_result"
    },
    {
     "data": {
      "image/png": "[encoded data removed]",
      "text/plain": [
       "<Figure size 720x720 with 1 Axes>"
      ]
     },
     "metadata": {
      "needs_background": "light"
     },
     "output_type": "display_data"
    }
   ],
   "source": [
    "# Какие параметры работают лучше всего\n",
    "plt.rcParams['figure.figsize'] = (10,10)\n",
    "feat_importances = pd.Series(model.feature_importances_, index=X.columns)\n",
    "feat_importances.nlargest(15).plot(kind='barh')"
   ]
  },
  {
   "cell_type": "markdown",
   "metadata": {
    "papermill": {
     "duration": 0.04501,
     "end_time": "2020-12-02T21:55:05.476587",
     "exception": false,
     "start_time": "2020-12-02T21:55:05.431577",
     "status": "completed"
    },
    "tags": []
   },
   "source": [
    "## Submission"
   ]
  },
  {
   "cell_type": "code",
   "execution_count": 39,
   "metadata": {
    "execution": {
     "iopub.execute_input": "2020-12-02T21:55:05.573656Z",
     "iopub.status.busy": "2020-12-02T21:55:05.572843Z",
     "iopub.status.idle": "2020-12-02T21:55:05.576585Z",
     "shell.execute_reply": "2020-12-02T21:55:05.575949Z"
    },
    "papermill": {
     "duration": 0.055203,
     "end_time": "2020-12-02T21:55:05.576705",
     "exception": false,
     "start_time": "2020-12-02T21:55:05.521502",
     "status": "completed"
    },
    "tags": []
   },
   "outputs": [],
   "source": [
    "test_data = test_data.drop(['Rating'], axis=1)"
   ]
  },
  {
   "cell_type": "code",
   "execution_count": 40,
   "metadata": {
    "execution": {
     "iopub.execute_input": "2020-12-02T21:55:05.672898Z",
     "iopub.status.busy": "2020-12-02T21:55:05.671840Z",
     "iopub.status.idle": "2020-12-02T21:55:05.824111Z",
     "shell.execute_reply": "2020-12-02T21:55:05.823255Z"
    },
    "papermill": {
     "duration": 0.20235,
     "end_time": "2020-12-02T21:55:05.824275",
     "exception": false,
     "start_time": "2020-12-02T21:55:05.621925",
     "status": "completed"
    },
    "tags": []
   },
   "outputs": [
    {
     "name": "stderr",
     "output_type": "stream",
     "text": [
      "[Parallel(n_jobs=4)]: Using backend ThreadingBackend with 4 concurrent workers.\n",
      "[Parallel(n_jobs=4)]: Done  42 tasks      | elapsed:    0.0s\n",
      "[Parallel(n_jobs=4)]: Done 100 out of 100 | elapsed:    0.1s finished\n"
     ]
    }
   ],
   "source": [
    "predict_submission = predict(test_data)\n"
   ]
  },
  {
   "cell_type": "code",
   "execution_count": 41,
   "metadata": {
    "execution": {
     "iopub.execute_input": "2020-12-02T21:55:05.924915Z",
     "iopub.status.busy": "2020-12-02T21:55:05.924261Z",
     "iopub.status.idle": "2020-12-02T21:55:06.252547Z",
     "shell.execute_reply": "2020-12-02T21:55:06.251895Z"
    },
    "papermill": {
     "duration": 0.381671,
     "end_time": "2020-12-02T21:55:06.252673",
     "exception": false,
     "start_time": "2020-12-02T21:55:05.871002",
     "status": "completed"
    },
    "tags": []
   },
   "outputs": [
    {
     "data": {
      "text/html": [
       "<div>\n",
       "<style scoped>\n",
       "    .dataframe tbody tr th:only-of-type {\n",
       "        vertical-align: middle;\n",
       "    }\n",
       "\n",
       "    .dataframe tbody tr th {\n",
       "        vertical-align: top;\n",
       "    }\n",
       "\n",
       "    .dataframe thead th {\n",
       "        text-align: right;\n",
       "    }\n",
       "</style>\n",
       "<table border=\"1\" class=\"dataframe\">\n",
       "  <thead>\n",
       "    <tr style=\"text-align: right;\">\n",
       "      <th></th>\n",
       "      <th>Restaurant_id</th>\n",
       "      <th>Rating</th>\n",
       "    </tr>\n",
       "  </thead>\n",
       "  <tbody>\n",
       "    <tr>\n",
       "      <th>0</th>\n",
       "      <td>id_0</td>\n",
       "      <td>3.0</td>\n",
       "    </tr>\n",
       "    <tr>\n",
       "      <th>1</th>\n",
       "      <td>id_1</td>\n",
       "      <td>4.0</td>\n",
       "    </tr>\n",
       "    <tr>\n",
       "      <th>2</th>\n",
       "      <td>id_2</td>\n",
       "      <td>4.5</td>\n",
       "    </tr>\n",
       "    <tr>\n",
       "      <th>3</th>\n",
       "      <td>id_3</td>\n",
       "      <td>4.5</td>\n",
       "    </tr>\n",
       "    <tr>\n",
       "      <th>4</th>\n",
       "      <td>id_4</td>\n",
       "      <td>4.5</td>\n",
       "    </tr>\n",
       "    <tr>\n",
       "      <th>5</th>\n",
       "      <td>id_5</td>\n",
       "      <td>4.5</td>\n",
       "    </tr>\n",
       "    <tr>\n",
       "      <th>6</th>\n",
       "      <td>id_6</td>\n",
       "      <td>2.5</td>\n",
       "    </tr>\n",
       "    <tr>\n",
       "      <th>7</th>\n",
       "      <td>id_7</td>\n",
       "      <td>2.5</td>\n",
       "    </tr>\n",
       "    <tr>\n",
       "      <th>8</th>\n",
       "      <td>id_8</td>\n",
       "      <td>4.0</td>\n",
       "    </tr>\n",
       "    <tr>\n",
       "      <th>9</th>\n",
       "      <td>id_9</td>\n",
       "      <td>4.5</td>\n",
       "    </tr>\n",
       "  </tbody>\n",
       "</table>\n",
       "</div>"
      ],
      "text/plain": [
       "  Restaurant_id  Rating\n",
       "0          id_0     3.0\n",
       "1          id_1     4.0\n",
       "2          id_2     4.5\n",
       "3          id_3     4.5\n",
       "4          id_4     4.5\n",
       "5          id_5     4.5\n",
       "6          id_6     2.5\n",
       "7          id_7     2.5\n",
       "8          id_8     4.0\n",
       "9          id_9     4.5"
      ]
     },
     "execution_count": 41,
     "metadata": {},
     "output_type": "execute_result"
    }
   ],
   "source": [
    "sample_submission = pd.read_csv('/kaggle/input/sf-dst-restaurant-rating/sample_submission.csv')\n",
    "sample_submission['Rating'] = predict_submission\n",
    "sample_submission.to_csv('submission.csv', index=False)\n",
    "sample_submission.head(10)"
   ]
  }
 ],
 "metadata": {
  "kernelspec": {
   "display_name": "Python 3",
   "language": "python",
   "name": "python3"
  },
  "language_info": {
   "codemirror_mode": {
    "name": "ipython",
    "version": 3
   },
   "file_extension": ".py",
   "mimetype": "text/x-python",
   "name": "python",
   "nbconvert_exporter": "python",
   "pygments_lexer": "ipython3",
   "version": "3.7.6"
  },
  "papermill": {
   "duration": 35.894382,
   "end_time": "2020-12-02T21:55:06.407685",
   "environment_variables": {},
   "exception": null,
   "input_path": "__notebook__.ipynb",
   "output_path": "__notebook__.ipynb",
   "parameters": {},
   "start_time": "2020-12-02T21:54:30.513303",
   "version": "2.1.0"
  }
 },
 "nbformat": 4,
 "nbformat_minor": 4
}
