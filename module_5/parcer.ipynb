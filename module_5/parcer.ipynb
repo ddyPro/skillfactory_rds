{
 "cells": [
  {
   "cell_type": "code",
   "execution_count": 106,
   "metadata": {},
   "outputs": [],
   "source": [
    "from fake_useragent import UserAgent \n",
    "from bs4 import BeautifulSoup    \n",
    "import requests  \n",
    "import re\n",
    "import time\n",
    "import pandas as pd\n",
    "import numpy as np\n",
    "import itertools\n",
    "from joblib import Parallel, delayed\n",
    "from tqdm.notebook import tqdm"
   ]
  },
  {
   "cell_type": "code",
   "execution_count": 107,
   "metadata": {},
   "outputs": [],
   "source": [
    "# Функция по извлечению данных со страницы объявления в словарь data_dict\n",
    "def parsing_page_one_ad(url):\n",
    "\n",
    "    response = requests.get(url, headers={'User-Agent': UserAgent().chrome})    \n",
    "    response.encoding ='utf8'   \n",
    "    \n",
    "    # Теперь создадим объект BeautifulSoup, указывая html парсер    \n",
    "    page = BeautifulSoup(response.text, 'html.parser')\n",
    "    data_dict = {}\n",
    "\n",
    "    data_dict['car_url'] = url\n",
    "    data_dict['parsing_unixtime'] = int(time.time())\n",
    "    \n",
    "    \n",
    "    \n",
    "    for script in page.find_all(\"script\"):\n",
    "        if 'vendor\":\"' in str(script):\n",
    "            a = str(script)  # присваиваем a содержимое скрипта как строку\n",
    "            data_dict['vendor'] = re.search(r'vendor\":\".*?\"', a)[0][9:].strip('\"')\n",
    "            \n",
    "        if '\"price_info\":{\"price\":' in str(script):\n",
    "            a = str(script)\n",
    "            data_dict['price'] = re.search(r'\"price_info\":{\"price\":\\d*', a)[0][22:]\n",
    "            \n",
    "        if '{\"mileage\":' in str(script):\n",
    "            a = str(script)  # присваиваем a содержимое скрипта как строку\n",
    "        # в a  ищем '{\"mileage\":' и содержимое между {}. Отсекаем начало, оставляя только содержимое словаря\n",
    "            data_dict['mileage'] = re.search(r'\"mileage\":\\d*', a)[0][10:]\n",
    "        \n",
    "        if 'engine_type\":' in str(script):\n",
    "            a = str(script)\n",
    "            data_dict['fuelType'] = re.search(r'engine_type\":\".*?\"', a)[0][14:].strip('\"')\n",
    "        \n",
    "        if '\"mark\":\"' in str(script):\n",
    "            a = str(script)  # присваиваем a содержимое скрипта как строку\n",
    "            data_dict['brand'] = re.search(r'\"mark\":\".*?\"', a)[0][8:].strip('\"')\n",
    "            \n",
    "        if 'transmission\":\"' in str(script):\n",
    "            a = str(script)\n",
    "            data_dict['vehicleTransmission'] = re.search(r'transmission\":\".*?\"', a)[0][15:].strip('\"')\n",
    "            \n",
    "        if 'body_type\":\"' in str(script):\n",
    "            a = str(script)  # присваиваем a содержимое скрипта как строку\n",
    "            data_dict['vehicleConfiguration'] = re.search(r'body_type\":\".*?\"', a)[0][12:].strip('\"')\n",
    "            \n",
    "        if 'complectation\":{\"id\"' in str(script):\n",
    "            a = str(script)  # присваиваем a содержимое скрипта как строку\n",
    "            data_dict['complectation_dict'] = re.search(r'complectation\":{\"id.*?}', a)[0][15:]\n",
    "        \n",
    "        if 'equipment\":{' in str(script):\n",
    "            a = str(script)  # присваиваем a содержимое скрипта как строку\n",
    "        # в a  ищем 'equipment\":' и содержимое между {}. Отсекаем начало, оставляя только содержимое словаря\n",
    "            data_dict['equipment_dict'] = re.search(r'equipment\":{.*?}', a)[0][11:]\n",
    "            \n",
    "        if '\"model_info\":' in str(script):\n",
    "            a = str(script)  # присваиваем a содержимое скрипта как строку\n",
    "            data_dict['model_info'] = re.search(r'\"model_info\":{.*?}', a)[0][13:]\n",
    "            data_dict['model_name'] = re.search(r'model_info\":{\"code\":\".*?\"', a)[0][20:].strip('\"')\n",
    "        \n",
    "        if '\"power\"' in str(script):\n",
    "            a = str(script)\n",
    "            data_dict['enginePower'] = re.search(r'\"power\".*?\"', a)[0][8:11]\n",
    "            \n",
    "        if 'doors_count\":' in str(script):\n",
    "            a = str(script)\n",
    "            data_dict['numberOfDoors'] = re.search(r'doors_count\":.*?\"', a)[0][13:14]\n",
    "        \n",
    "            \n",
    "            \n",
    "    for li in page.find('li', class_= 'CardInfoRow CardInfoRow_color'):\n",
    "        data_dict['color'] = li.text\n",
    "    for div in page.find('div', class_='CardDescription__textInner'):\n",
    "        data_dict['description'] = div.text\n",
    "    for lis in page.find('li', class_= 'CardInfoRow CardInfoRow_engine'):\n",
    "        data_dict['engineDisplacement'] = lis.text[:3]\n",
    "    for lii in page.find('li', class_= 'CardInfoRow CardInfoRow_year'):\n",
    "        data_dict['productionDate'] = lii.text\n",
    "    for liii in page.find('li', class_= 'CardInfoRow CardInfoRow_wheel'):\n",
    "        data_dict['Руль'] = liii.text\n",
    "    for la in page.find('li', class_= 'CardInfoRow CardInfoRow_ownersCount'):\n",
    "        data_dict['Владельцы'] = la.text[:1]\n",
    "    for lb in page.find('li', class_= 'CardInfoRow CardInfoRow_state'):\n",
    "        data_dict['Состояние'] = lb.text\n",
    "    for lc in page.find('li', class_= 'CardInfoRow CardInfoRow_pts'):\n",
    "        data_dict['ПТС'] = lc.text\n",
    "    for ld in page.find('li', class_=\"CardInfoRow CardInfoRow_drive\"):\n",
    "        data_dict['Привод'] = ld.text\n",
    "    for le in page.find('li', class_=\"CardInfoRow CardInfoRow_customs\"):\n",
    "        data_dict['Таможня'] = le.text\n",
    "        \n",
    "        \n",
    "            \n",
    "            \n",
    "\n",
    "            \n",
    "    return data_dict\n",
    "\n",
    "\n",
    "\n",
    "def extraction_links(url):\n",
    "    links_list =[] \n",
    "    response = requests.get(url, headers={'User-Agent': UserAgent().chrome})  \n",
    "    response.encoding ='utf8'\n",
    "    page = BeautifulSoup(response.text, 'html.parser') \n",
    "    links = page.find_all('a', class_='Link ListingItemTitle-module__link')\n",
    "    \n",
    "    for link in links:\n",
    "        links_list.append(link.get(\"href\"))\n",
    "    return links_list"
   ]
  },
  {
   "cell_type": "code",
   "execution_count": 108,
   "metadata": {},
   "outputs": [
    {
     "name": "stdout",
     "output_type": "stream",
     "text": [
      "Wall time: 7h 9min 8s\n"
     ]
    }
   ],
   "source": [
    "%%time\n",
    "\n",
    "df = pd.DataFrame()\n",
    "\n",
    "url_link_list = [] # список страниц по годам и номерам от 1 до 99\n",
    "\n",
    "ranges = [range(1970, 2021), range(1, 100)]\n",
    "\n",
    "# index[0] - year, index[1] - page \n",
    "for index in itertools.product(*ranges):\n",
    "    # формируем страницы со списками объявлений\n",
    "    url_links = (f\"https://auto.ru/moskva/cars/{index[0]}-year/all/?output_type=table&page={index[1]}\")\n",
    "    url_link_list.append(url_links)\n",
    "    \n",
    "links_list = [] # список списков ссылок на объявления c одной страницы таблицы объявлений\n",
    "\n",
    "#for url_links in url_link_list:\n",
    "# извлекаем в links_list список ссылок на объявления\n",
    "try:\n",
    "        #links_list = extraction_links(url_links)\n",
    "    links_list = Parallel(n_jobs = 2)(delayed(extraction_links)(url_links) for url_links in url_link_list)\n",
    "except:\n",
    "    pass \n",
    "\n",
    "ads_dict_list = [] # список словарей содержимого объявлений\n",
    "\n",
    "for links in links_list:\n",
    "    try:\n",
    "        ads_dict_list = Parallel(n_jobs = 2)(delayed(parsing_page_one_ad)(ad_url) for ad_url in links)\n",
    "    except:\n",
    "        pass\n",
    "    \n",
    "    for ad in ads_dict_list:\n",
    "        try:\n",
    "            df = df.append(ad, ignore_index=True)\n",
    "        except:\n",
    "            pass\n"
   ]
  },
  {
   "cell_type": "code",
   "execution_count": 109,
   "metadata": {},
   "outputs": [],
   "source": [
    "df.to_csv('abc.csv', encoding = 'utf-8', index=False)"
   ]
  },
  {
   "cell_type": "code",
   "execution_count": 110,
   "metadata": {},
   "outputs": [
    {
     "name": "stderr",
     "output_type": "stream",
     "text": [
      "C:\\Users\\ddypr\\Anaconda3\\lib\\site-packages\\IPython\\core\\interactiveshell.py:3146: DtypeWarning: Columns (5) have mixed types.Specify dtype option on import or set low_memory=False.\n",
      "  has_raised = await self.run_ast_nodes(code_ast.body, cell_name,\n"
     ]
    }
   ],
   "source": [
    "data = pd.read_csv('abc.csv')"
   ]
  },
  {
   "cell_type": "code",
   "execution_count": 115,
   "metadata": {},
   "outputs": [
    {
     "data": {
      "text/plain": [
       "Index(['brand', 'car_url', 'color', 'complectation_dict', 'description',\n",
       "       'engineDisplacement', 'enginePower', 'equipment_dict', 'fuelType',\n",
       "       'mileage', 'model_info', 'model_name', 'numberOfDoors',\n",
       "       'parsing_unixtime', 'price', 'productionDate', 'vehicleConfiguration',\n",
       "       'vehicleTransmission', 'vendor', 'Владельцы', 'ПТС', 'Привод', 'Руль',\n",
       "       'Состояние', 'Таможня'],\n",
       "      dtype='object')"
      ]
     },
     "execution_count": 115,
     "metadata": {},
     "output_type": "execute_result"
    }
   ],
   "source": [
    "data."
   ]
  },
  {
   "cell_type": "code",
   "execution_count": 122,
   "metadata": {},
   "outputs": [
    {
     "name": "stdout",
     "output_type": "stream",
     "text": [
      "<class 'pandas.core.frame.DataFrame'>\n",
      "RangeIndex: 58078 entries, 0 to 58077\n",
      "Data columns (total 25 columns):\n",
      " #   Column                Non-Null Count  Dtype  \n",
      "---  ------                --------------  -----  \n",
      " 0   brand                 58078 non-null  object \n",
      " 1   car_url               58078 non-null  object \n",
      " 2   color                 58078 non-null  object \n",
      " 3   complectation_dict    58049 non-null  object \n",
      " 4   description           58076 non-null  object \n",
      " 5   engineDisplacement    58078 non-null  object \n",
      " 6   enginePower           58078 non-null  object \n",
      " 7   equipment_dict        58078 non-null  object \n",
      " 8   fuelType              58078 non-null  object \n",
      " 9   mileage               52787 non-null  float64\n",
      " 10  model_info            58078 non-null  object \n",
      " 11  model_name            58078 non-null  object \n",
      " 12  numberOfDoors         58078 non-null  int64  \n",
      " 13  parsing_unixtime      58078 non-null  float64\n",
      " 14  price                 58015 non-null  float64\n",
      " 15  productionDate        58078 non-null  int64  \n",
      " 16  vehicleConfiguration  58078 non-null  object \n",
      " 17  vehicleTransmission   58078 non-null  object \n",
      " 18  vendor                58045 non-null  object \n",
      " 19  Владельцы             58078 non-null  int64  \n",
      " 20  ПТС                   58078 non-null  object \n",
      " 21  Привод                58078 non-null  object \n",
      " 22  Руль                  58078 non-null  object \n",
      " 23  Состояние             58078 non-null  object \n",
      " 24  Таможня               58078 non-null  object \n",
      "dtypes: float64(3), int64(3), object(19)\n",
      "memory usage: 11.1+ MB\n"
     ]
    }
   ],
   "source": [
    "data.info()"
   ]
  },
  {
   "cell_type": "code",
   "execution_count": null,
   "metadata": {},
   "outputs": [],
   "source": []
  }
 ],
 "metadata": {
  "kernelspec": {
   "display_name": "Python 3",
   "language": "python",
   "name": "python3"
  },
  "language_info": {
   "codemirror_mode": {
    "name": "ipython",
    "version": 3
   },
   "file_extension": ".py",
   "mimetype": "text/x-python",
   "name": "python",
   "nbconvert_exporter": "python",
   "pygments_lexer": "ipython3",
   "version": "3.8.5"
  }
 },
 "nbformat": 4,
 "nbformat_minor": 4
}
